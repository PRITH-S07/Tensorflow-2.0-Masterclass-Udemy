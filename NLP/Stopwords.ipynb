{
  "nbformat": 4,
  "nbformat_minor": 0,
  "metadata": {
    "colab": {
      "name": "NLP_course.ipynb",
      "provenance": []
    },
    "kernelspec": {
      "name": "python3",
      "display_name": "Python 3"
    },
    "language_info": {
      "name": "python"
    }
  },
  "cells": [
    {
      "cell_type": "code",
      "execution_count": 26,
      "metadata": {
        "id": "nl0-b_oVE6TT"
      },
      "outputs": [],
      "source": [
        "import nltk\n",
        "from nltk.corpus import stopwords\n",
        "from nltk.tokenize import word_tokenize"
      ]
    },
    {
      "cell_type": "code",
      "source": [
        "import nltk\n",
        "nltk.download('punkt')\n",
        "nltk.download('wordnet')\n",
        "nltk.download('stopwords')"
      ],
      "metadata": {
        "colab": {
          "base_uri": "https://localhost:8080/"
        },
        "id": "MA3UnSU1FyUF",
        "outputId": "6d46abca-9b15-4045-e976-3f7731b5bc6b"
      },
      "execution_count": 30,
      "outputs": [
        {
          "output_type": "stream",
          "name": "stdout",
          "text": [
            "[nltk_data] Downloading package punkt to /root/nltk_data...\n",
            "[nltk_data]   Package punkt is already up-to-date!\n",
            "[nltk_data] Downloading package wordnet to /root/nltk_data...\n",
            "[nltk_data]   Package wordnet is already up-to-date!\n",
            "[nltk_data] Downloading package stopwords to /root/nltk_data...\n",
            "[nltk_data]   Unzipping corpora/stopwords.zip.\n"
          ]
        },
        {
          "output_type": "execute_result",
          "data": {
            "text/plain": [
              "True"
            ]
          },
          "metadata": {},
          "execution_count": 30
        }
      ]
    },
    {
      "cell_type": "code",
      "source": [
        "dataset = \"Hello Mr. Watson, how are you doing today? The weather is awesome. The garden is Green. We should go out for a walk.\""
      ],
      "metadata": {
        "id": "ZCI3-6npHo9a"
      },
      "execution_count": 28,
      "outputs": []
    },
    {
      "cell_type": "code",
      "source": [
        "stop_words = set(stopwords.words(\"english\"))\n",
        "print(stop_words)"
      ],
      "metadata": {
        "colab": {
          "base_uri": "https://localhost:8080/"
        },
        "id": "38ut06FlRG-M",
        "outputId": "478d6ee7-6b7f-4853-f63e-21f763e4edb3"
      },
      "execution_count": 31,
      "outputs": [
        {
          "output_type": "stream",
          "name": "stdout",
          "text": [
            "{'your', 'few', 'weren', 'have', 'ours', 'mustn', 'don', 'mightn', \"hadn't\", 'wouldn', 'am', 'were', 'than', \"weren't\", \"won't\", 'an', 'i', 'yourself', \"mustn't\", \"aren't\", 'shan', 'other', 'these', 'until', 'so', 's', 'been', \"you're\", \"don't\", 'me', \"should've\", 'off', 'wasn', 'did', 'whom', 'm', \"doesn't\", 'd', 'are', 'which', \"didn't\", 'then', 'more', \"isn't\", 'to', 'y', 'it', 'very', 't', 'she', 'of', 'in', 'their', 'does', 'nor', 'between', 'haven', 'a', 'by', 'isn', 'some', 'and', \"you'll\", 'below', 'can', \"haven't\", 'them', 'this', 'while', 'before', \"it's\", 'now', \"that'll\", 'ourselves', 'only', 'he', 'out', 'is', 'how', 'both', 'on', 'above', 'up', 'hadn', \"hasn't\", 'with', 'such', 'has', 'against', \"shan't\", 'at', 'won', 'here', 'shouldn', 'own', 'just', 'needn', \"she's\", 'through', 'yourselves', 'no', 'when', 'where', 'be', 'who', 'not', 'down', 'themselves', 'had', 'that', 'him', 'from', 'those', 'will', 'each', 're', 'his', 'couldn', 'my', 'itself', \"needn't\", 'any', 'you', 'but', 'ma', 'didn', 'should', 'under', 'doesn', \"wasn't\", 'into', 'do', 'once', 'll', 'further', 'herself', 'most', 'was', 'aren', \"mightn't\", 'all', 'yours', 'theirs', 'the', 'doing', 'there', \"wouldn't\", 'having', 'they', 'hers', 'or', 'too', \"couldn't\", 'myself', 'as', 'about', 'after', 'ain', 'hasn', 'same', 'for', 'because', 'why', \"you've\", \"shouldn't\", 'its', 'o', 'her', 've', 'if', 'again', 'during', \"you'd\", 'what', 'over', 'we', 'himself', 'being', 'our'}\n"
          ]
        }
      ]
    },
    {
      "cell_type": "code",
      "source": [
        "word_tokenize = word_tokenize(dataset)"
      ],
      "metadata": {
        "id": "MKRS51XhRS4l"
      },
      "execution_count": 33,
      "outputs": []
    },
    {
      "cell_type": "code",
      "source": [
        "filtered_sentences=[]\n",
        "for w in word_tokenize:\n",
        "  if w not in stop_words:\n",
        "    filtered_sentences.append(w)"
      ],
      "metadata": {
        "id": "g2susKnPRd2D"
      },
      "execution_count": 34,
      "outputs": []
    },
    {
      "cell_type": "code",
      "source": [
        "print(filtered_sentences)"
      ],
      "metadata": {
        "colab": {
          "base_uri": "https://localhost:8080/"
        },
        "id": "MC65CxlfRnQq",
        "outputId": "a32e690c-4442-496a-cb52-6748e83734e1"
      },
      "execution_count": 35,
      "outputs": [
        {
          "output_type": "stream",
          "name": "stdout",
          "text": [
            "['Hello', 'Mr.', 'Watson', ',', 'today', '?', 'The', 'weather', 'awesome', '.', 'The', 'garden', 'Green', '.', 'We', 'go', 'walk', '.']\n"
          ]
        }
      ]
    },
    {
      "cell_type": "code",
      "source": [
        ""
      ],
      "metadata": {
        "id": "VXJU7U88Rxg6"
      },
      "execution_count": null,
      "outputs": []
    }
  ]
}
