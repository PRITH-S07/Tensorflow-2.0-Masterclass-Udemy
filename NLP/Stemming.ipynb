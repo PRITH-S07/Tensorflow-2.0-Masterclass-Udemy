{
  "nbformat": 4,
  "nbformat_minor": 0,
  "metadata": {
    "colab": {
      "name": "NLP_course.ipynb",
      "provenance": []
    },
    "kernelspec": {
      "name": "python3",
      "display_name": "Python 3"
    },
    "language_info": {
      "name": "python"
    }
  },
  "cells": [
    {
      "cell_type": "code",
      "execution_count": 11,
      "metadata": {
        "id": "nl0-b_oVE6TT"
      },
      "outputs": [],
      "source": [
        "import nltk\n",
        "from nltk.stem import PorterStemmer\n",
        "from nltk.tokenize import word_tokenize"
      ]
    },
    {
      "cell_type": "code",
      "source": [
        "dataset=[\"love\",\"loving\",\"lover\",\"loved\",\"lovingly\"]"
      ],
      "metadata": {
        "id": "glY5jvN9HAGs"
      },
      "execution_count": 12,
      "outputs": []
    },
    {
      "cell_type": "code",
      "source": [
        "import nltk\n",
        "nltk.download('punkt')"
      ],
      "metadata": {
        "colab": {
          "base_uri": "https://localhost:8080/"
        },
        "id": "MA3UnSU1FyUF",
        "outputId": "84dc5132-2d4a-42ea-c0ac-b62b1721cb62"
      },
      "execution_count": 13,
      "outputs": [
        {
          "output_type": "stream",
          "name": "stdout",
          "text": [
            "[nltk_data] Downloading package punkt to /root/nltk_data...\n",
            "[nltk_data]   Package punkt is already up-to-date!\n"
          ]
        },
        {
          "output_type": "execute_result",
          "data": {
            "text/plain": [
              "True"
            ]
          },
          "metadata": {},
          "execution_count": 13
        }
      ]
    },
    {
      "cell_type": "code",
      "source": [
        "ps = PorterStemmer()\n",
        "for i in dataset:\n",
        "  print(ps.stem(i))"
      ],
      "metadata": {
        "colab": {
          "base_uri": "https://localhost:8080/"
        },
        "id": "Qn4m7LBLGQmh",
        "outputId": "7a9d49d4-1b9c-46bf-89f8-9dffce8369c1"
      },
      "execution_count": 14,
      "outputs": [
        {
          "output_type": "stream",
          "name": "stdout",
          "text": [
            "love\n",
            "love\n",
            "lover\n",
            "love\n",
            "lovingli\n"
          ]
        }
      ]
    },
    {
      "cell_type": "code",
      "source": [
        "new_dataset = \"It feels very special when you are loving someone. We care for our loved ones. SPecially when we love each other unconditionally.\""
      ],
      "metadata": {
        "id": "6N7GZSLoHMfF"
      },
      "execution_count": 15,
      "outputs": []
    },
    {
      "cell_type": "code",
      "source": [
        "words=word_tokenize(new_dataset)"
      ],
      "metadata": {
        "id": "d5OMd4FQHgkz"
      },
      "execution_count": 16,
      "outputs": []
    },
    {
      "cell_type": "code",
      "source": [
        "for w in words:\n",
        "  print(ps.stem(w))"
      ],
      "metadata": {
        "colab": {
          "base_uri": "https://localhost:8080/"
        },
        "id": "WUwcVJubHl7V",
        "outputId": "56e1fe44-0cb5-49c6-ae01-e690cea491cc"
      },
      "execution_count": 17,
      "outputs": [
        {
          "output_type": "stream",
          "name": "stdout",
          "text": [
            "It\n",
            "feel\n",
            "veri\n",
            "special\n",
            "when\n",
            "you\n",
            "are\n",
            "love\n",
            "someon\n",
            ".\n",
            "We\n",
            "care\n",
            "for\n",
            "our\n",
            "love\n",
            "one\n",
            ".\n",
            "special\n",
            "when\n",
            "we\n",
            "love\n",
            "each\n",
            "other\n",
            "uncondit\n",
            ".\n"
          ]
        }
      ]
    },
    {
      "cell_type": "code",
      "source": [
        ""
      ],
      "metadata": {
        "id": "ZCI3-6npHo9a"
      },
      "execution_count": null,
      "outputs": []
    }
  ]
}
