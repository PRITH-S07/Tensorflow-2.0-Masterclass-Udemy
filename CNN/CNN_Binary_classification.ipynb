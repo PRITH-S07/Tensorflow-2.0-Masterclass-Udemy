{
  "nbformat": 4,
  "nbformat_minor": 0,
  "metadata": {
    "colab": {
      "name": "CNN_binary_classification.ipynb",
      "provenance": []
    },
    "kernelspec": {
      "name": "python3",
      "display_name": "Python 3"
    },
    "language_info": {
      "name": "python"
    },
    "accelerator": "TPU"
  },
  "cells": [
    {
      "cell_type": "markdown",
      "source": [
        "## INSTALLATION AND SETUP"
      ],
      "metadata": {
        "id": "abPiOCZ2JT8F"
      }
    },
    {
      "cell_type": "code",
      "execution_count": 1,
      "metadata": {
        "id": "y4vv07XbIuo7"
      },
      "outputs": [],
      "source": [
        "#pip install -q tensorflow-gpu"
      ]
    },
    {
      "cell_type": "code",
      "source": [
        "import tensorflow as tf"
      ],
      "metadata": {
        "id": "9Hyi2wfJJZdH"
      },
      "execution_count": 2,
      "outputs": []
    },
    {
      "cell_type": "code",
      "source": [
        "print(tf.__version__)"
      ],
      "metadata": {
        "colab": {
          "base_uri": "https://localhost:8080/"
        },
        "id": "YGWISbB6Jbsb",
        "outputId": "f79a710d-ed09-47cd-f837-9d5254a0801d"
      },
      "execution_count": 3,
      "outputs": [
        {
          "output_type": "stream",
          "name": "stdout",
          "text": [
            "2.8.0\n"
          ]
        }
      ]
    },
    {
      "cell_type": "code",
      "source": [
        "import matplotlib.pyplot as plt\n",
        "import numpy as np\n",
        "import pandas as pd"
      ],
      "metadata": {
        "id": "XyFVE44uJdAo"
      },
      "execution_count": 4,
      "outputs": []
    },
    {
      "cell_type": "markdown",
      "source": [
        "## IMPORTING THE DATASET"
      ],
      "metadata": {
        "id": "svoT5OfRJm4o"
      }
    },
    {
      "cell_type": "code",
      "source": [
        "# Installing Kaggle API\n",
        "!pip install -q kaggle"
      ],
      "metadata": {
        "id": "lui9IYfPJh_1"
      },
      "execution_count": 13,
      "outputs": []
    },
    {
      "cell_type": "code",
      "source": [
        "# create a directory as kaggle\n",
        "! mkdir -p ~/.kaggle"
      ],
      "metadata": {
        "id": "z6oel8geJzBK"
      },
      "execution_count": 14,
      "outputs": []
    },
    {
      "cell_type": "code",
      "source": [
        "# Import API key to google colab"
      ],
      "metadata": {
        "id": "3W9uDWIOJ77v"
      },
      "execution_count": 15,
      "outputs": []
    },
    {
      "cell_type": "code",
      "source": [
        "#copy API key to kaggle directory\n",
        "! cp kaggle.json ~/.kaggle/"
      ],
      "metadata": {
        "id": "WfdHXOJAKDRD"
      },
      "execution_count": 16,
      "outputs": []
    },
    {
      "cell_type": "code",
      "source": [
        "#disable API key\n",
        "! chmod 600 /root/.kaggle/kaggle.json"
      ],
      "metadata": {
        "id": "yskcfFN1KNmI"
      },
      "execution_count": 17,
      "outputs": []
    },
    {
      "cell_type": "code",
      "source": [
        "# list of kaggle datasets\n",
        "! kaggle datasets list"
      ],
      "metadata": {
        "colab": {
          "base_uri": "https://localhost:8080/"
        },
        "id": "z1DaO2nLMTkh",
        "outputId": "3f58d823-1a50-4643-e4fd-bb684391e29f"
      },
      "execution_count": 18,
      "outputs": [
        {
          "output_type": "stream",
          "name": "stdout",
          "text": [
            "ref                                                                   title                                             size  lastUpdated          downloadCount  voteCount  usabilityRating  \n",
            "--------------------------------------------------------------------  -----------------------------------------------  -----  -------------------  -------------  ---------  ---------------  \n",
            "muratkokludataset/date-fruit-datasets                                 Date Fruit Datasets                              408KB  2022-04-03 09:25:39          10237       1409  0.9375           \n",
            "victorsoeiro/netflix-tv-shows-and-movies                              Netflix TV Shows and Movies                        2MB  2022-05-15 00:01:23           2314         76  1.0              \n",
            "mdmahmudulhasansuzan/students-adaptability-level-in-online-education  Students Adaptability Level in Online Education    6KB  2022-04-16 04:46:28           6845        175  1.0              \n",
            "muratkokludataset/acoustic-extinguisher-fire-dataset                  Acoustic Extinguisher Fire Dataset               621KB  2022-04-02 22:59:36           1632       1223  0.9375           \n",
            "muratkokludataset/rice-image-dataset                                  Rice Image Dataset                               219MB  2022-04-03 02:12:00           2025       1169  0.875            \n",
            "muratkokludataset/raisin-dataset                                      Raisin Dataset                                   112KB  2022-04-03 00:23:16            811       1048  0.9375           \n",
            "muratkokludataset/dry-bean-dataset                                    Dry Bean Dataset                                   5MB  2022-04-02 23:19:30            647       1045  0.9375           \n",
            "paradisejoy/top-hits-spotify-from-20002019                            Top Hits Spotify from 2000-2019                   94KB  2022-04-26 17:30:03           2553         64  1.0              \n",
            "muratkokludataset/pistachio-dataset                                   Pistachio Dataset                                  2MB  2022-04-03 08:38:21            693       1066  0.9375           \n",
            "muratkokludataset/rice-msc-dataset                                    Rice MSC Dataset                                 102MB  2022-04-03 01:33:52            312       1035  0.9375           \n",
            "muratkokludataset/grapevine-leaves-image-dataset                      Grapevine Leaves Image Dataset                   109MB  2022-04-03 09:00:54            258       1075  0.875            \n",
            "muratkokludataset/rice-dataset-commeo-and-osmancik                    Rice Dataset Commeo and Osmancik                 524KB  2022-04-03 00:40:03            166       1023  0.875            \n",
            "muratkokludataset/durum-wheat-dataset                                 Durum Wheat Dataset                              983MB  2022-04-03 00:02:29            127       1045  0.875            \n",
            "mysarahmadbhat/airline-passenger-satisfaction                         Airline Passenger Satisfaction                     2MB  2022-05-19 11:46:02            852         22  1.0              \n",
            "muratkokludataset/pistachio-image-dataset                             Pistachio Image Dataset                           27MB  2022-03-28 18:01:27            678       1117  0.9375           \n",
            "muratkokludataset/pumpkin-seeds-dataset                               Pumpkin Seeds Dataset                            393KB  2022-03-28 18:28:16            793       1042  0.9375           \n",
            "ujjwalchowdhury/energy-efficiency-data-set                            Energy Efficiency Data Set                         6KB  2022-05-12 13:51:03            908         36  0.9705882        \n",
            "surajjha101/stores-area-and-sales-data                                Supermarket store branches sales analysis         10KB  2022-04-29 11:10:16           2279         80  1.0              \n",
            "rinichristy/covid19-coronavirus-pandemic                              COVID-19 Coronavirus Pandemic                      9KB  2022-04-05 08:43:16           5255        117  1.0              \n",
            "jjdaguirre/forbes-billionaires-2022                                   Forbes billionaires 2022                          56KB  2022-04-30 18:48:22           1073         30  1.0              \n"
          ]
        }
      ]
    },
    {
      "cell_type": "code",
      "source": [
        "# importing the dataset\n",
        "! kaggle datasets download -d tongpython/cat-and-dog"
      ],
      "metadata": {
        "colab": {
          "base_uri": "https://localhost:8080/"
        },
        "id": "z4r7iRI4Ma21",
        "outputId": "c506bfb6-53b2-4e69-f144-5dc7968f7d44"
      },
      "execution_count": 19,
      "outputs": [
        {
          "output_type": "stream",
          "name": "stdout",
          "text": [
            "Downloading cat-and-dog.zip to /content\n",
            " 89% 193M/218M [00:00<00:00, 208MB/s]\n",
            "100% 218M/218M [00:01<00:00, 226MB/s]\n"
          ]
        }
      ]
    },
    {
      "cell_type": "code",
      "source": [
        "# unzipping the dataset\n",
        "! unzip -q /content/cat-and-dog.zip"
      ],
      "metadata": {
        "id": "q8kS4n2BMu9x"
      },
      "execution_count": 20,
      "outputs": []
    },
    {
      "cell_type": "markdown",
      "source": [
        "## BUILDING THE MODEL"
      ],
      "metadata": {
        "id": "IQu-T6FxNVVv"
      }
    },
    {
      "cell_type": "code",
      "source": [
        "# Creating an object\n",
        "model = tf.keras.models.Sequential()"
      ],
      "metadata": {
        "id": "Djv4Vf74M4ex"
      },
      "execution_count": 21,
      "outputs": []
    },
    {
      "cell_type": "code",
      "source": [
        "# Adding first CNN layer (input layer)\n",
        "# 1) filters = 64\n",
        "# 2) kernel size = 3\n",
        "# 3) padding = same\n",
        "# 4) activation = relu\n",
        "# 5) input shape = (32,32,3)\n",
        "model.add(tf.keras.layers.Conv2D(filters=64,kernel_size=3,padding=\"same\",activation=\"relu\",input_shape=(32,32,3)))"
      ],
      "metadata": {
        "id": "7RX9Ni7rNb_X"
      },
      "execution_count": 22,
      "outputs": []
    },
    {
      "cell_type": "code",
      "source": [
        "# Adding maxpool layer\n",
        "# 1) pool size = 2\n",
        "# 2) strides = 2\n",
        "# 3) padding = valid\n",
        "model.add(tf.keras.layers.MaxPool2D(pool_size=(2,2),strides=2,padding=\"valid\"))"
      ],
      "metadata": {
        "id": "kWIFXoisN_Pw"
      },
      "execution_count": 23,
      "outputs": []
    },
    {
      "cell_type": "code",
      "source": [
        "# adding 2nd CNN and maxpool layer\n",
        "model.add(tf.keras.layers.Conv2D(filters=64,kernel_size=3,padding=\"same\",activation=\"relu\"))\n",
        "model.add(tf.keras.layers.MaxPool2D(pool_size=(2,2),strides=2,padding=\"valid\"))"
      ],
      "metadata": {
        "id": "yagRLR6yOX2C"
      },
      "execution_count": 24,
      "outputs": []
    },
    {
      "cell_type": "code",
      "source": [
        "# adding flatten layer\n",
        "model.add(tf.keras.layers.Flatten())"
      ],
      "metadata": {
        "id": "_9Wv3HeHOr83"
      },
      "execution_count": 25,
      "outputs": []
    },
    {
      "cell_type": "code",
      "source": [
        "# adding dropout layer\n",
        "model.add(tf.keras.layers.Dropout(0.4))"
      ],
      "metadata": {
        "id": "rhoS47BMOw0S"
      },
      "execution_count": 26,
      "outputs": []
    },
    {
      "cell_type": "code",
      "source": [
        "# adding fully connected layer\n",
        "model.add(tf.keras.layers.Dense(units=128,activation=\"relu\"))"
      ],
      "metadata": {
        "id": "yaTB9-4MO1-_"
      },
      "execution_count": 27,
      "outputs": []
    },
    {
      "cell_type": "code",
      "source": [
        "# adding output layer\n",
        "model.add(tf.keras.layers.Dense(units=1,activation=\"sigmoid\"))"
      ],
      "metadata": {
        "id": "Xn8q61IFPEsk"
      },
      "execution_count": 28,
      "outputs": []
    },
    {
      "cell_type": "code",
      "source": [
        "# compiling the model\n",
        "model.compile(optimizer=\"adam\",loss=\"binary_crossentropy\",metrics=['accuracy'])"
      ],
      "metadata": {
        "id": "piwWjHpYPMCi"
      },
      "execution_count": 29,
      "outputs": []
    },
    {
      "cell_type": "code",
      "source": [
        "model.summary()"
      ],
      "metadata": {
        "colab": {
          "base_uri": "https://localhost:8080/"
        },
        "id": "nFFcqwaZPYTt",
        "outputId": "0f3b6554-f0c7-4692-a60b-320987856cb4"
      },
      "execution_count": 30,
      "outputs": [
        {
          "output_type": "stream",
          "name": "stdout",
          "text": [
            "Model: \"sequential\"\n",
            "_________________________________________________________________\n",
            " Layer (type)                Output Shape              Param #   \n",
            "=================================================================\n",
            " conv2d (Conv2D)             (None, 32, 32, 64)        1792      \n",
            "                                                                 \n",
            " max_pooling2d (MaxPooling2D  (None, 16, 16, 64)       0         \n",
            " )                                                               \n",
            "                                                                 \n",
            " conv2d_1 (Conv2D)           (None, 16, 16, 64)        36928     \n",
            "                                                                 \n",
            " max_pooling2d_1 (MaxPooling  (None, 8, 8, 64)         0         \n",
            " 2D)                                                             \n",
            "                                                                 \n",
            " flatten (Flatten)           (None, 4096)              0         \n",
            "                                                                 \n",
            " dropout (Dropout)           (None, 4096)              0         \n",
            "                                                                 \n",
            " dense (Dense)               (None, 128)               524416    \n",
            "                                                                 \n",
            " dense_1 (Dense)             (None, 1)                 129       \n",
            "                                                                 \n",
            "=================================================================\n",
            "Total params: 563,265\n",
            "Trainable params: 563,265\n",
            "Non-trainable params: 0\n",
            "_________________________________________________________________\n"
          ]
        }
      ]
    },
    {
      "cell_type": "markdown",
      "source": [
        "## FITTING CNN TO THE IMAGES"
      ],
      "metadata": {
        "id": "qr_hzrvIPvQK"
      }
    },
    {
      "cell_type": "code",
      "source": [
        "from tensorflow.keras.preprocessing.image import ImageDataGenerator"
      ],
      "metadata": {
        "id": "AKuW5MdgPZTM"
      },
      "execution_count": 31,
      "outputs": []
    },
    {
      "cell_type": "code",
      "source": [
        "training_data_dir = '/content/training_set/training_set'\n",
        "test_data_dir = '/content/test_set/test_set'"
      ],
      "metadata": {
        "id": "nNNr1XbHQpGN"
      },
      "execution_count": 32,
      "outputs": []
    },
    {
      "cell_type": "code",
      "source": [
        "# rescale images\n",
        "datagen = ImageDataGenerator(rescale = 1./255)"
      ],
      "metadata": {
        "id": "EdBJPMqrQ9B6"
      },
      "execution_count": 33,
      "outputs": []
    },
    {
      "cell_type": "code",
      "source": [
        "training_set = datagen.flow_from_directory(directory = training_data_dir,\n",
        "                                           target_size = (32,32),\n",
        "                                           classes = ['dogs','cats'],\n",
        "                                           class_mode = 'binary',\n",
        "                                           batch_size = 20)\n",
        "test_set = datagen.flow_from_directory(directory = test_data_dir,\n",
        "                                           target_size = (32,32),\n",
        "                                           classes = ['dogs','cats'],\n",
        "                                           class_mode = 'binary',\n",
        "                                           batch_size = 20)"
      ],
      "metadata": {
        "colab": {
          "base_uri": "https://localhost:8080/"
        },
        "id": "Scij90I5RF91",
        "outputId": "34944960-7a16-4c61-8cb5-904334281933"
      },
      "execution_count": 34,
      "outputs": [
        {
          "output_type": "stream",
          "name": "stdout",
          "text": [
            "Found 8005 images belonging to 2 classes.\n",
            "Found 2023 images belonging to 2 classes.\n"
          ]
        }
      ]
    },
    {
      "cell_type": "code",
      "source": [
        "len(training_set),len(test_set)"
      ],
      "metadata": {
        "colab": {
          "base_uri": "https://localhost:8080/"
        },
        "id": "KgKFuAH_Rmbh",
        "outputId": "9ddc514a-e1b0-423d-fc04-7c2a2cceecb8"
      },
      "execution_count": 35,
      "outputs": [
        {
          "output_type": "execute_result",
          "data": {
            "text/plain": [
              "(401, 102)"
            ]
          },
          "metadata": {},
          "execution_count": 35
        }
      ]
    },
    {
      "cell_type": "code",
      "source": [
        "len(training_set)*20,len(test_set)*20"
      ],
      "metadata": {
        "colab": {
          "base_uri": "https://localhost:8080/"
        },
        "id": "FscT16scRt0k",
        "outputId": "8b06aee1-3790-4d6d-e615-7068f76e2f89"
      },
      "execution_count": 36,
      "outputs": [
        {
          "output_type": "execute_result",
          "data": {
            "text/plain": [
              "(8020, 2040)"
            ]
          },
          "metadata": {},
          "execution_count": 36
        }
      ]
    },
    {
      "cell_type": "code",
      "source": [
        "test_set.batch_size"
      ],
      "metadata": {
        "colab": {
          "base_uri": "https://localhost:8080/"
        },
        "id": "Hgeg26x9Rxcd",
        "outputId": "0d1cbd42-4157-431b-9b39-b466454c2b3c"
      },
      "execution_count": 37,
      "outputs": [
        {
          "output_type": "execute_result",
          "data": {
            "text/plain": [
              "20"
            ]
          },
          "metadata": {},
          "execution_count": 37
        }
      ]
    },
    {
      "cell_type": "code",
      "source": [
        "history = model.fit_generator(generator = training_set, steps_per_epoch=401, epochs = 20, validation_data = test_set, validation_steps = 102)"
      ],
      "metadata": {
        "colab": {
          "base_uri": "https://localhost:8080/"
        },
        "id": "hzjY1xvTSAsU",
        "outputId": "fe0668d9-988e-4d0b-ddda-c41dc25c7c43"
      },
      "execution_count": 38,
      "outputs": [
        {
          "output_type": "stream",
          "name": "stderr",
          "text": [
            "/usr/local/lib/python3.7/dist-packages/ipykernel_launcher.py:1: UserWarning: `Model.fit_generator` is deprecated and will be removed in a future version. Please use `Model.fit`, which supports generators.\n",
            "  \"\"\"Entry point for launching an IPython kernel.\n"
          ]
        },
        {
          "output_type": "stream",
          "name": "stdout",
          "text": [
            "Epoch 1/20\n",
            "401/401 [==============================] - 55s 135ms/step - loss: 0.6770 - accuracy: 0.5756 - val_loss: 0.6451 - val_accuracy: 0.6100\n",
            "Epoch 2/20\n",
            "401/401 [==============================] - 55s 137ms/step - loss: 0.6075 - accuracy: 0.6705 - val_loss: 0.6118 - val_accuracy: 0.6589\n",
            "Epoch 3/20\n",
            "401/401 [==============================] - 55s 137ms/step - loss: 0.5586 - accuracy: 0.7133 - val_loss: 0.5526 - val_accuracy: 0.7187\n",
            "Epoch 4/20\n",
            "401/401 [==============================] - 55s 137ms/step - loss: 0.5211 - accuracy: 0.7397 - val_loss: 0.5365 - val_accuracy: 0.7291\n",
            "Epoch 5/20\n",
            "401/401 [==============================] - 56s 138ms/step - loss: 0.4890 - accuracy: 0.7648 - val_loss: 0.5616 - val_accuracy: 0.7247\n",
            "Epoch 6/20\n",
            "401/401 [==============================] - 56s 138ms/step - loss: 0.4617 - accuracy: 0.7775 - val_loss: 0.5192 - val_accuracy: 0.7489\n",
            "Epoch 7/20\n",
            "401/401 [==============================] - 55s 136ms/step - loss: 0.4360 - accuracy: 0.7983 - val_loss: 0.5024 - val_accuracy: 0.7687\n",
            "Epoch 8/20\n",
            "401/401 [==============================] - 54s 135ms/step - loss: 0.4013 - accuracy: 0.8180 - val_loss: 0.5096 - val_accuracy: 0.7588\n",
            "Epoch 9/20\n",
            "401/401 [==============================] - 54s 134ms/step - loss: 0.3715 - accuracy: 0.8322 - val_loss: 0.5165 - val_accuracy: 0.7632\n",
            "Epoch 10/20\n",
            "401/401 [==============================] - 53s 133ms/step - loss: 0.3464 - accuracy: 0.8468 - val_loss: 0.5157 - val_accuracy: 0.7657\n",
            "Epoch 11/20\n",
            "401/401 [==============================] - 53s 131ms/step - loss: 0.3080 - accuracy: 0.8605 - val_loss: 0.5360 - val_accuracy: 0.7766\n",
            "Epoch 12/20\n",
            "401/401 [==============================] - 56s 139ms/step - loss: 0.2728 - accuracy: 0.8856 - val_loss: 0.5667 - val_accuracy: 0.7662\n",
            "Epoch 13/20\n",
            "401/401 [==============================] - 53s 133ms/step - loss: 0.2472 - accuracy: 0.8986 - val_loss: 0.5702 - val_accuracy: 0.7642\n",
            "Epoch 14/20\n",
            "401/401 [==============================] - 53s 133ms/step - loss: 0.2225 - accuracy: 0.9109 - val_loss: 0.5829 - val_accuracy: 0.7588\n",
            "Epoch 15/20\n",
            "401/401 [==============================] - 53s 132ms/step - loss: 0.1906 - accuracy: 0.9222 - val_loss: 0.6471 - val_accuracy: 0.7617\n",
            "Epoch 16/20\n",
            "401/401 [==============================] - 53s 132ms/step - loss: 0.1694 - accuracy: 0.9327 - val_loss: 0.6644 - val_accuracy: 0.7568\n",
            "Epoch 17/20\n",
            "401/401 [==============================] - 53s 132ms/step - loss: 0.1490 - accuracy: 0.9430 - val_loss: 0.6959 - val_accuracy: 0.7652\n",
            "Epoch 18/20\n",
            "401/401 [==============================] - 53s 132ms/step - loss: 0.1382 - accuracy: 0.9445 - val_loss: 0.6838 - val_accuracy: 0.7612\n",
            "Epoch 19/20\n",
            "401/401 [==============================] - 53s 132ms/step - loss: 0.1281 - accuracy: 0.9508 - val_loss: 0.7211 - val_accuracy: 0.7533\n",
            "Epoch 20/20\n",
            "401/401 [==============================] - 56s 140ms/step - loss: 0.1083 - accuracy: 0.9606 - val_loss: 0.7947 - val_accuracy: 0.7622\n"
          ]
        }
      ]
    },
    {
      "cell_type": "markdown",
      "source": [
        "## PLOTTING THE LEARNING CURVE"
      ],
      "metadata": {
        "id": "UcMt0ikrX3kW"
      }
    },
    {
      "cell_type": "code",
      "source": [
        "def learning_curve(history,epoch):\n",
        "  # training vs validation accuracy\n",
        "  epoch_range = range(1,epoch+1)\n",
        "  plt.plot(epoch_range,history.history['accuracy'])\n",
        "  plt.plot(epoch_range,history.history['val_accuracy'])\n",
        "  plt.title(\"Model Accuracy\")\n",
        "  plt.ylabel(\"Accuracy\")\n",
        "  plt.xlabel(\"Epoch\")\n",
        "  plt.legend(['Train','val'],loc='upper left')\n",
        "  plt.show()\n",
        "  # training vs validation loss\n",
        "  epoch_range = range(1,epoch+1)\n",
        "  plt.plot(epoch_range,history.history['loss'])\n",
        "  plt.plot(epoch_range,history.history['val_loss'])\n",
        "  plt.title(\"Model Loss\")\n",
        "  plt.ylabel(\"Loss\")\n",
        "  plt.xlabel(\"Epoch\")\n",
        "  plt.legend(['Train','val'],loc='upper left')\n",
        "  plt.show()"
      ],
      "metadata": {
        "id": "SfzkYr80SPLv"
      },
      "execution_count": 40,
      "outputs": []
    },
    {
      "cell_type": "code",
      "source": [
        "learning_curve(history,20)"
      ],
      "metadata": {
        "colab": {
          "base_uri": "https://localhost:8080/",
          "height": 573
        },
        "id": "xzu-7FFgYWX_",
        "outputId": "4b7466f3-3ae8-46ff-8738-d5217a22f6eb"
      },
      "execution_count": 41,
      "outputs": [
        {
          "output_type": "display_data",
          "data": {
            "text/plain": [
              "<Figure size 432x288 with 1 Axes>"
            ],
            "image/png": "[encoded data removed]"
          },
          "metadata": {
            "needs_background": "light"
          }
        },
        {
          "output_type": "display_data",
          "data": {
            "text/plain": [
              "<Figure size 432x288 with 1 Axes>"
            ],
            "image/png": "[encoded data removed]"
          },
          "metadata": {
            "needs_background": "light"
          }
        }
      ]
    },
    {
      "cell_type": "code",
      "source": [
        ""
      ],
      "metadata": {
        "id": "-mBbVuYteqtv"
      },
      "execution_count": null,
      "outputs": []
    }
  ]
}
