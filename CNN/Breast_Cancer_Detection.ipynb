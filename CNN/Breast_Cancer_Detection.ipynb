{
  "nbformat": 4,
  "nbformat_minor": 0,
  "metadata": {
    "colab": {
      "name": "Breast_Cancer_Detection.ipynb",
      "provenance": [],
      "collapsed_sections": []
    },
    "kernelspec": {
      "name": "python3",
      "display_name": "Python 3"
    },
    "language_info": {
      "name": "python"
    },
    "accelerator": "GPU"
  },
  "cells": [
    {
      "cell_type": "code",
      "execution_count": 1,
      "metadata": {
        "id": "om4lNHdkCuxd"
      },
      "outputs": [],
      "source": [
        "#!pip install tensorflow-gpu"
      ]
    },
    {
      "cell_type": "code",
      "source": [
        "import tensorflow as tf"
      ],
      "metadata": {
        "id": "XavnqjoIH3JU"
      },
      "execution_count": 2,
      "outputs": []
    },
    {
      "cell_type": "code",
      "source": [
        "print(tf.__version__)"
      ],
      "metadata": {
        "colab": {
          "base_uri": "https://localhost:8080/"
        },
        "id": "QwqsSDI9H5AE",
        "outputId": "4580664a-a88f-486b-901a-793f49c7a6e2"
      },
      "execution_count": 3,
      "outputs": [
        {
          "output_type": "stream",
          "name": "stdout",
          "text": [
            "2.8.0\n"
          ]
        }
      ]
    },
    {
      "cell_type": "code",
      "source": [
        "import pandas as pd\n",
        "import numpy as np\n",
        "import matplotlib.pyplot as plt"
      ],
      "metadata": {
        "id": "bdATMUJlH70n"
      },
      "execution_count": 4,
      "outputs": []
    },
    {
      "cell_type": "markdown",
      "source": [
        "## DATA PRE-PROCESSING"
      ],
      "metadata": {
        "id": "WJZy4lBuIIAy"
      }
    },
    {
      "cell_type": "code",
      "source": [
        "from sklearn import datasets,metrics"
      ],
      "metadata": {
        "id": "gv9fsETXIAXu"
      },
      "execution_count": 5,
      "outputs": []
    },
    {
      "cell_type": "code",
      "source": [
        "# import the dataset\n",
        "cancer = datasets.load_breast_cancer()"
      ],
      "metadata": {
        "id": "lj7VUy5FIN5r"
      },
      "execution_count": 6,
      "outputs": []
    },
    {
      "cell_type": "code",
      "source": [
        "print(cancer.DESCR) # to print out the description"
      ],
      "metadata": {
        "colab": {
          "base_uri": "https://localhost:8080/"
        },
        "id": "SsE1RjssIWWU",
        "outputId": "1f885952-a17f-4b8c-abf3-6904708098bf"
      },
      "execution_count": 7,
      "outputs": [
        {
          "output_type": "stream",
          "name": "stdout",
          "text": [
            ".. _breast_cancer_dataset:\n",
            "\n",
            "Breast cancer wisconsin (diagnostic) dataset\n",
            "--------------------------------------------\n",
            "\n",
            "**Data Set Characteristics:**\n",
            "\n",
            "    :Number of Instances: 569\n",
            "\n",
            "    :Number of Attributes: 30 numeric, predictive attributes and the class\n",
            "\n",
            "    :Attribute Information:\n",
            "        - radius (mean of distances from center to points on the perimeter)\n",
            "        - texture (standard deviation of gray-scale values)\n",
            "        - perimeter\n",
            "        - area\n",
            "        - smoothness (local variation in radius lengths)\n",
            "        - compactness (perimeter^2 / area - 1.0)\n",
            "        - concavity (severity of concave portions of the contour)\n",
            "        - concave points (number of concave portions of the contour)\n",
            "        - symmetry\n",
            "        - fractal dimension (\"coastline approximation\" - 1)\n",
            "\n",
            "        The mean, standard error, and \"worst\" or largest (mean of the three\n",
            "        worst/largest values) of these features were computed for each image,\n",
            "        resulting in 30 features.  For instance, field 0 is Mean Radius, field\n",
            "        10 is Radius SE, field 20 is Worst Radius.\n",
            "\n",
            "        - class:\n",
            "                - WDBC-Malignant\n",
            "                - WDBC-Benign\n",
            "\n",
            "    :Summary Statistics:\n",
            "\n",
            "    ===================================== ====== ======\n",
            "                                           Min    Max\n",
            "    ===================================== ====== ======\n",
            "    radius (mean):                        6.981  28.11\n",
            "    texture (mean):                       9.71   39.28\n",
            "    perimeter (mean):                     43.79  188.5\n",
            "    area (mean):                          143.5  2501.0\n",
            "    smoothness (mean):                    0.053  0.163\n",
            "    compactness (mean):                   0.019  0.345\n",
            "    concavity (mean):                     0.0    0.427\n",
            "    concave points (mean):                0.0    0.201\n",
            "    symmetry (mean):                      0.106  0.304\n",
            "    fractal dimension (mean):             0.05   0.097\n",
            "    radius (standard error):              0.112  2.873\n",
            "    texture (standard error):             0.36   4.885\n",
            "    perimeter (standard error):           0.757  21.98\n",
            "    area (standard error):                6.802  542.2\n",
            "    smoothness (standard error):          0.002  0.031\n",
            "    compactness (standard error):         0.002  0.135\n",
            "    concavity (standard error):           0.0    0.396\n",
            "    concave points (standard error):      0.0    0.053\n",
            "    symmetry (standard error):            0.008  0.079\n",
            "    fractal dimension (standard error):   0.001  0.03\n",
            "    radius (worst):                       7.93   36.04\n",
            "    texture (worst):                      12.02  49.54\n",
            "    perimeter (worst):                    50.41  251.2\n",
            "    area (worst):                         185.2  4254.0\n",
            "    smoothness (worst):                   0.071  0.223\n",
            "    compactness (worst):                  0.027  1.058\n",
            "    concavity (worst):                    0.0    1.252\n",
            "    concave points (worst):               0.0    0.291\n",
            "    symmetry (worst):                     0.156  0.664\n",
            "    fractal dimension (worst):            0.055  0.208\n",
            "    ===================================== ====== ======\n",
            "\n",
            "    :Missing Attribute Values: None\n",
            "\n",
            "    :Class Distribution: 212 - Malignant, 357 - Benign\n",
            "\n",
            "    :Creator:  Dr. William H. Wolberg, W. Nick Street, Olvi L. Mangasarian\n",
            "\n",
            "    :Donor: Nick Street\n",
            "\n",
            "    :Date: November, 1995\n",
            "\n",
            "This is a copy of UCI ML Breast Cancer Wisconsin (Diagnostic) datasets.\n",
            "https://goo.gl/U2Uwz2\n",
            "\n",
            "Features are computed from a digitized image of a fine needle\n",
            "aspirate (FNA) of a breast mass.  They describe\n",
            "characteristics of the cell nuclei present in the image.\n",
            "\n",
            "Separating plane described above was obtained using\n",
            "Multisurface Method-Tree (MSM-T) [K. P. Bennett, \"Decision Tree\n",
            "Construction Via Linear Programming.\" Proceedings of the 4th\n",
            "Midwest Artificial Intelligence and Cognitive Science Society,\n",
            "pp. 97-101, 1992], a classification method which uses linear\n",
            "programming to construct a decision tree.  Relevant features\n",
            "were selected using an exhaustive search in the space of 1-4\n",
            "features and 1-3 separating planes.\n",
            "\n",
            "The actual linear program used to obtain the separating plane\n",
            "in the 3-dimensional space is that described in:\n",
            "[K. P. Bennett and O. L. Mangasarian: \"Robust Linear\n",
            "Programming Discrimination of Two Linearly Inseparable Sets\",\n",
            "Optimization Methods and Software 1, 1992, 23-34].\n",
            "\n",
            "This database is also available through the UW CS ftp server:\n",
            "\n",
            "ftp ftp.cs.wisc.edu\n",
            "cd math-prog/cpo-dataset/machine-learn/WDBC/\n",
            "\n",
            ".. topic:: References\n",
            "\n",
            "   - W.N. Street, W.H. Wolberg and O.L. Mangasarian. Nuclear feature extraction \n",
            "     for breast tumor diagnosis. IS&T/SPIE 1993 International Symposium on \n",
            "     Electronic Imaging: Science and Technology, volume 1905, pages 861-870,\n",
            "     San Jose, CA, 1993.\n",
            "   - O.L. Mangasarian, W.N. Street and W.H. Wolberg. Breast cancer diagnosis and \n",
            "     prognosis via linear programming. Operations Research, 43(4), pages 570-577, \n",
            "     July-August 1995.\n",
            "   - W.H. Wolberg, W.N. Street, and O.L. Mangasarian. Machine learning techniques\n",
            "     to diagnose breast cancer from fine-needle aspirates. Cancer Letters 77 (1994) \n",
            "     163-171.\n"
          ]
        }
      ]
    },
    {
      "cell_type": "code",
      "source": [
        "# matrix of features => independent variables\n",
        "x = pd.DataFrame(data=cancer.data,columns=cancer.feature_names)"
      ],
      "metadata": {
        "id": "Hxl81KTSIae-"
      },
      "execution_count": 8,
      "outputs": []
    },
    {
      "cell_type": "code",
      "source": [
        "x.head()"
      ],
      "metadata": {
        "colab": {
          "base_uri": "https://localhost:8080/",
          "height": 334
        },
        "id": "w_EooEe_Izdr",
        "outputId": "3352a1e9-bc5b-425c-95a7-44d6c31cd44c"
      },
      "execution_count": 9,
      "outputs": [
        {
          "output_type": "execute_result",
          "data": {
            "text/plain": [
              "   mean radius  mean texture  mean perimeter  mean area  mean smoothness  \\\n",
              "0        17.99         10.38          122.80     1001.0          0.11840   \n",
              "1        20.57         17.77          132.90     1326.0          0.08474   \n",
              "2        19.69         21.25          130.00     1203.0          0.10960   \n",
              "3        11.42         20.38           77.58      386.1          0.14250   \n",
              "4        20.29         14.34          135.10     1297.0          0.10030   \n",
              "\n",
              "   mean compactness  mean concavity  mean concave points  mean symmetry  \\\n",
              "0           0.27760          0.3001              0.14710         0.2419   \n",
              "1           0.07864          0.0869              0.07017         0.1812   \n",
              "2           0.15990          0.1974              0.12790         0.2069   \n",
              "3           0.28390          0.2414              0.10520         0.2597   \n",
              "4           0.13280          0.1980              0.10430         0.1809   \n",
              "\n",
              "   mean fractal dimension  ...  worst radius  worst texture  worst perimeter  \\\n",
              "0                 0.07871  ...         25.38          17.33           184.60   \n",
              "1                 0.05667  ...         24.99          23.41           158.80   \n",
              "2                 0.05999  ...         23.57          25.53           152.50   \n",
              "3                 0.09744  ...         14.91          26.50            98.87   \n",
              "4                 0.05883  ...         22.54          16.67           152.20   \n",
              "\n",
              "   worst area  worst smoothness  worst compactness  worst concavity  \\\n",
              "0      2019.0            0.1622             0.6656           0.7119   \n",
              "1      1956.0            0.1238             0.1866           0.2416   \n",
              "2      1709.0            0.1444             0.4245           0.4504   \n",
              "3       567.7            0.2098             0.8663           0.6869   \n",
              "4      1575.0            0.1374             0.2050           0.4000   \n",
              "\n",
              "   worst concave points  worst symmetry  worst fractal dimension  \n",
              "0                0.2654          0.4601                  0.11890  \n",
              "1                0.1860          0.2750                  0.08902  \n",
              "2                0.2430          0.3613                  0.08758  \n",
              "3                0.2575          0.6638                  0.17300  \n",
              "4                0.1625          0.2364                  0.07678  \n",
              "\n",
              "[5 rows x 30 columns]"
            ],
            "text/html": [
              "\n",
              "  <div id=\"df-05e2bbe6-11cc-4b59-b3df-46c3bea41845\">\n",
              "    <div class=\"colab-df-container\">\n",
              "      <div>\n",
              "<style scoped>\n",
              "    .dataframe tbody tr th:only-of-type {\n",
              "        vertical-align: middle;\n",
              "    }\n",
              "\n",
              "    .dataframe tbody tr th {\n",
              "        vertical-align: top;\n",
              "    }\n",
              "\n",
              "    .dataframe thead th {\n",
              "        text-align: right;\n",
              "    }\n",
              "</style>\n",
              "<table border=\"1\" class=\"dataframe\">\n",
              "  <thead>\n",
              "    <tr style=\"text-align: right;\">\n",
              "      <th></th>\n",
              "      <th>mean radius</th>\n",
              "      <th>mean texture</th>\n",
              "      <th>mean perimeter</th>\n",
              "      <th>mean area</th>\n",
              "      <th>mean smoothness</th>\n",
              "      <th>mean compactness</th>\n",
              "      <th>mean concavity</th>\n",
              "      <th>mean concave points</th>\n",
              "      <th>mean symmetry</th>\n",
              "      <th>mean fractal dimension</th>\n",
              "      <th>...</th>\n",
              "      <th>worst radius</th>\n",
              "      <th>worst texture</th>\n",
              "      <th>worst perimeter</th>\n",
              "      <th>worst area</th>\n",
              "      <th>worst smoothness</th>\n",
              "      <th>worst compactness</th>\n",
              "      <th>worst concavity</th>\n",
              "      <th>worst concave points</th>\n",
              "      <th>worst symmetry</th>\n",
              "      <th>worst fractal dimension</th>\n",
              "    </tr>\n",
              "  </thead>\n",
              "  <tbody>\n",
              "    <tr>\n",
              "      <th>0</th>\n",
              "      <td>17.99</td>\n",
              "      <td>10.38</td>\n",
              "      <td>122.80</td>\n",
              "      <td>1001.0</td>\n",
              "      <td>0.11840</td>\n",
              "      <td>0.27760</td>\n",
              "      <td>0.3001</td>\n",
              "      <td>0.14710</td>\n",
              "      <td>0.2419</td>\n",
              "      <td>0.07871</td>\n",
              "      <td>...</td>\n",
              "      <td>25.38</td>\n",
              "      <td>17.33</td>\n",
              "      <td>184.60</td>\n",
              "      <td>2019.0</td>\n",
              "      <td>0.1622</td>\n",
              "      <td>0.6656</td>\n",
              "      <td>0.7119</td>\n",
              "      <td>0.2654</td>\n",
              "      <td>0.4601</td>\n",
              "      <td>0.11890</td>\n",
              "    </tr>\n",
              "    <tr>\n",
              "      <th>1</th>\n",
              "      <td>20.57</td>\n",
              "      <td>17.77</td>\n",
              "      <td>132.90</td>\n",
              "      <td>1326.0</td>\n",
              "      <td>0.08474</td>\n",
              "      <td>0.07864</td>\n",
              "      <td>0.0869</td>\n",
              "      <td>0.07017</td>\n",
              "      <td>0.1812</td>\n",
              "      <td>0.05667</td>\n",
              "      <td>...</td>\n",
              "      <td>24.99</td>\n",
              "      <td>23.41</td>\n",
              "      <td>158.80</td>\n",
              "      <td>1956.0</td>\n",
              "      <td>0.1238</td>\n",
              "      <td>0.1866</td>\n",
              "      <td>0.2416</td>\n",
              "      <td>0.1860</td>\n",
              "      <td>0.2750</td>\n",
              "      <td>0.08902</td>\n",
              "    </tr>\n",
              "    <tr>\n",
              "      <th>2</th>\n",
              "      <td>19.69</td>\n",
              "      <td>21.25</td>\n",
              "      <td>130.00</td>\n",
              "      <td>1203.0</td>\n",
              "      <td>0.10960</td>\n",
              "      <td>0.15990</td>\n",
              "      <td>0.1974</td>\n",
              "      <td>0.12790</td>\n",
              "      <td>0.2069</td>\n",
              "      <td>0.05999</td>\n",
              "      <td>...</td>\n",
              "      <td>23.57</td>\n",
              "      <td>25.53</td>\n",
              "      <td>152.50</td>\n",
              "      <td>1709.0</td>\n",
              "      <td>0.1444</td>\n",
              "      <td>0.4245</td>\n",
              "      <td>0.4504</td>\n",
              "      <td>0.2430</td>\n",
              "      <td>0.3613</td>\n",
              "      <td>0.08758</td>\n",
              "    </tr>\n",
              "    <tr>\n",
              "      <th>3</th>\n",
              "      <td>11.42</td>\n",
              "      <td>20.38</td>\n",
              "      <td>77.58</td>\n",
              "      <td>386.1</td>\n",
              "      <td>0.14250</td>\n",
              "      <td>0.28390</td>\n",
              "      <td>0.2414</td>\n",
              "      <td>0.10520</td>\n",
              "      <td>0.2597</td>\n",
              "      <td>0.09744</td>\n",
              "      <td>...</td>\n",
              "      <td>14.91</td>\n",
              "      <td>26.50</td>\n",
              "      <td>98.87</td>\n",
              "      <td>567.7</td>\n",
              "      <td>0.2098</td>\n",
              "      <td>0.8663</td>\n",
              "      <td>0.6869</td>\n",
              "      <td>0.2575</td>\n",
              "      <td>0.6638</td>\n",
              "      <td>0.17300</td>\n",
              "    </tr>\n",
              "    <tr>\n",
              "      <th>4</th>\n",
              "      <td>20.29</td>\n",
              "      <td>14.34</td>\n",
              "      <td>135.10</td>\n",
              "      <td>1297.0</td>\n",
              "      <td>0.10030</td>\n",
              "      <td>0.13280</td>\n",
              "      <td>0.1980</td>\n",
              "      <td>0.10430</td>\n",
              "      <td>0.1809</td>\n",
              "      <td>0.05883</td>\n",
              "      <td>...</td>\n",
              "      <td>22.54</td>\n",
              "      <td>16.67</td>\n",
              "      <td>152.20</td>\n",
              "      <td>1575.0</td>\n",
              "      <td>0.1374</td>\n",
              "      <td>0.2050</td>\n",
              "      <td>0.4000</td>\n",
              "      <td>0.1625</td>\n",
              "      <td>0.2364</td>\n",
              "      <td>0.07678</td>\n",
              "    </tr>\n",
              "  </tbody>\n",
              "</table>\n",
              "<p>5 rows × 30 columns</p>\n",
              "</div>\n",
              "      <button class=\"colab-df-convert\" onclick=\"convertToInteractive('df-05e2bbe6-11cc-4b59-b3df-46c3bea41845')\"\n",
              "              title=\"Convert this dataframe to an interactive table.\"\n",
              "              style=\"display:none;\">\n",
              "        \n",
              "  <svg xmlns=\"http://www.w3.org/2000/svg\" height=\"24px\"viewBox=\"0 0 24 24\"\n",
              "       width=\"24px\">\n",
              "    <path d=\"M0 0h24v24H0V0z\" fill=\"none\"/>\n",
              "    <path d=\"M18.56 5.44l.94 2.06.94-2.06 2.06-.94-2.06-.94-.94-2.06-.94 2.06-2.06.94zm-11 1L8.5 8.5l.94-2.06 2.06-.94-2.06-.94L8.5 2.5l-.94 2.06-2.06.94zm10 10l.94 2.06.94-2.06 2.06-.94-2.06-.94-.94-2.06-.94 2.06-2.06.94z\"/><path d=\"M17.41 7.96l-1.37-1.37c-.4-.4-.92-.59-1.43-.59-.52 0-1.04.2-1.43.59L10.3 9.45l-7.72 7.72c-.78.78-.78 2.05 0 2.83L4 21.41c.39.39.9.59 1.41.59.51 0 1.02-.2 1.41-.59l7.78-7.78 2.81-2.81c.8-.78.8-2.07 0-2.86zM5.41 20L4 18.59l7.72-7.72 1.47 1.35L5.41 20z\"/>\n",
              "  </svg>\n",
              "      </button>\n",
              "      \n",
              "  <style>\n",
              "    .colab-df-container {\n",
              "      display:flex;\n",
              "      flex-wrap:wrap;\n",
              "      gap: 12px;\n",
              "    }\n",
              "\n",
              "    .colab-df-convert {\n",
              "      background-color: #E8F0FE;\n",
              "      border: none;\n",
              "      border-radius: 50%;\n",
              "      cursor: pointer;\n",
              "      display: none;\n",
              "      fill: #1967D2;\n",
              "      height: 32px;\n",
              "      padding: 0 0 0 0;\n",
              "      width: 32px;\n",
              "    }\n",
              "\n",
              "    .colab-df-convert:hover {\n",
              "      background-color: #E2EBFA;\n",
              "      box-shadow: 0px 1px 2px rgba(60, 64, 67, 0.3), 0px 1px 3px 1px rgba(60, 64, 67, 0.15);\n",
              "      fill: #174EA6;\n",
              "    }\n",
              "\n",
              "    [theme=dark] .colab-df-convert {\n",
              "      background-color: #3B4455;\n",
              "      fill: #D2E3FC;\n",
              "    }\n",
              "\n",
              "    [theme=dark] .colab-df-convert:hover {\n",
              "      background-color: #434B5C;\n",
              "      box-shadow: 0px 1px 3px 1px rgba(0, 0, 0, 0.15);\n",
              "      filter: drop-shadow(0px 1px 2px rgba(0, 0, 0, 0.3));\n",
              "      fill: #FFFFFF;\n",
              "    }\n",
              "  </style>\n",
              "\n",
              "      <script>\n",
              "        const buttonEl =\n",
              "          document.querySelector('#df-05e2bbe6-11cc-4b59-b3df-46c3bea41845 button.colab-df-convert');\n",
              "        buttonEl.style.display =\n",
              "          google.colab.kernel.accessAllowed ? 'block' : 'none';\n",
              "\n",
              "        async function convertToInteractive(key) {\n",
              "          const element = document.querySelector('#df-05e2bbe6-11cc-4b59-b3df-46c3bea41845');\n",
              "          const dataTable =\n",
              "            await google.colab.kernel.invokeFunction('convertToInteractive',\n",
              "                                                     [key], {});\n",
              "          if (!dataTable) return;\n",
              "\n",
              "          const docLinkHtml = 'Like what you see? Visit the ' +\n",
              "            '<a target=\"_blank\" href=https://colab.research.google.com/notebooks/data_table.ipynb>data table notebook</a>'\n",
              "            + ' to learn more about interactive tables.';\n",
              "          element.innerHTML = '';\n",
              "          dataTable['output_type'] = 'display_data';\n",
              "          await google.colab.output.renderOutput(dataTable, element);\n",
              "          const docLink = document.createElement('div');\n",
              "          docLink.innerHTML = docLinkHtml;\n",
              "          element.appendChild(docLink);\n",
              "        }\n",
              "      </script>\n",
              "    </div>\n",
              "  </div>\n",
              "  "
            ]
          },
          "metadata": {},
          "execution_count": 9
        }
      ]
    },
    {
      "cell_type": "code",
      "source": [
        "# dependent variable\n",
        "y = cancer.target\n",
        "print(y)"
      ],
      "metadata": {
        "colab": {
          "base_uri": "https://localhost:8080/"
        },
        "id": "XiY_MkGRI0gc",
        "outputId": "33b40bde-180c-4ea2-f6f3-679b1ac19c29"
      },
      "execution_count": 10,
      "outputs": [
        {
          "output_type": "stream",
          "name": "stdout",
          "text": [
            "[0 0 0 0 0 0 0 0 0 0 0 0 0 0 0 0 0 0 0 1 1 1 0 0 0 0 0 0 0 0 0 0 0 0 0 0 0\n",
            " 1 0 0 0 0 0 0 0 0 1 0 1 1 1 1 1 0 0 1 0 0 1 1 1 1 0 1 0 0 1 1 1 1 0 1 0 0\n",
            " 1 0 1 0 0 1 1 1 0 0 1 0 0 0 1 1 1 0 1 1 0 0 1 1 1 0 0 1 1 1 1 0 1 1 0 1 1\n",
            " 1 1 1 1 1 1 0 0 0 1 0 0 1 1 1 0 0 1 0 1 0 0 1 0 0 1 1 0 1 1 0 1 1 1 1 0 1\n",
            " 1 1 1 1 1 1 1 1 0 1 1 1 1 0 0 1 0 1 1 0 0 1 1 0 0 1 1 1 1 0 1 1 0 0 0 1 0\n",
            " 1 0 1 1 1 0 1 1 0 0 1 0 0 0 0 1 0 0 0 1 0 1 0 1 1 0 1 0 0 0 0 1 1 0 0 1 1\n",
            " 1 0 1 1 1 1 1 0 0 1 1 0 1 1 0 0 1 0 1 1 1 1 0 1 1 1 1 1 0 1 0 0 0 0 0 0 0\n",
            " 0 0 0 0 0 0 0 1 1 1 1 1 1 0 1 0 1 1 0 1 1 0 1 0 0 1 1 1 1 1 1 1 1 1 1 1 1\n",
            " 1 0 1 1 0 1 0 1 1 1 1 1 1 1 1 1 1 1 1 1 1 0 1 1 1 0 1 0 1 1 1 1 0 0 0 1 1\n",
            " 1 1 0 1 0 1 0 1 1 1 0 1 1 1 1 1 1 1 0 0 0 1 1 1 1 1 1 1 1 1 1 1 0 0 1 0 0\n",
            " 0 1 0 0 1 1 1 1 1 0 1 1 1 1 1 0 1 1 1 0 1 1 0 0 1 1 1 1 1 1 0 1 1 1 1 1 1\n",
            " 1 0 1 1 1 1 1 0 1 1 0 1 1 1 1 1 1 1 1 1 1 1 1 0 1 0 0 1 0 1 1 1 1 1 0 1 1\n",
            " 0 1 0 1 1 0 1 0 1 1 1 1 1 1 1 1 0 0 1 1 1 1 1 1 0 1 1 1 1 1 1 1 1 1 1 0 1\n",
            " 1 1 1 1 1 1 0 1 0 1 1 0 1 1 1 1 1 0 0 1 0 1 0 1 1 1 1 1 0 1 1 0 1 0 1 0 0\n",
            " 1 1 1 0 1 1 1 1 1 1 1 1 1 1 1 0 1 0 0 1 1 1 1 1 1 1 1 1 1 1 1 1 1 1 1 1 1\n",
            " 1 1 1 1 1 1 1 0 0 0 0 0 0 1]\n"
          ]
        }
      ]
    },
    {
      "cell_type": "code",
      "source": [
        "cancer.target_names"
      ],
      "metadata": {
        "colab": {
          "base_uri": "https://localhost:8080/"
        },
        "id": "uWFAunoAI742",
        "outputId": "f07a32d0-df26-4416-bbef-90edba5789f9"
      },
      "execution_count": 11,
      "outputs": [
        {
          "output_type": "execute_result",
          "data": {
            "text/plain": [
              "array(['malignant', 'benign'], dtype='<U9')"
            ]
          },
          "metadata": {},
          "execution_count": 11
        }
      ]
    },
    {
      "cell_type": "code",
      "source": [
        "x.shape,y.shape"
      ],
      "metadata": {
        "colab": {
          "base_uri": "https://localhost:8080/"
        },
        "id": "zs2j_wDfI-fL",
        "outputId": "08d5951e-98e5-4e0b-a7c2-cb0f088a3cb7"
      },
      "execution_count": 12,
      "outputs": [
        {
          "output_type": "execute_result",
          "data": {
            "text/plain": [
              "((569, 30), (569,))"
            ]
          },
          "metadata": {},
          "execution_count": 12
        }
      ]
    },
    {
      "cell_type": "code",
      "source": [
        "# splitting the dataset into train and test sets\n",
        "from sklearn.model_selection import train_test_split\n",
        "x_train,x_test,y_train,y_test = train_test_split(x,y,test_size=0.2,random_state=0)"
      ],
      "metadata": {
        "id": "8VnMeaWlJAuA"
      },
      "execution_count": 16,
      "outputs": []
    },
    {
      "cell_type": "code",
      "source": [
        "x_train.shape,x_test.shape"
      ],
      "metadata": {
        "colab": {
          "base_uri": "https://localhost:8080/"
        },
        "id": "HivsCrQiJSWN",
        "outputId": "316842fb-4908-4416-efc8-e41038ef6d7e"
      },
      "execution_count": 17,
      "outputs": [
        {
          "output_type": "execute_result",
          "data": {
            "text/plain": [
              "((455, 30), (114, 30))"
            ]
          },
          "metadata": {},
          "execution_count": 17
        }
      ]
    },
    {
      "cell_type": "code",
      "source": [
        "# feature scaling\n",
        "from sklearn.preprocessing import StandardScaler\n",
        "sc = StandardScaler()\n",
        "x_train = sc.fit_transform(x_train)\n",
        "x_test = sc.transform(x_test)"
      ],
      "metadata": {
        "id": "5tXQUKrtJVGw"
      },
      "execution_count": 18,
      "outputs": []
    },
    {
      "cell_type": "code",
      "source": [
        "x_train"
      ],
      "metadata": {
        "colab": {
          "base_uri": "https://localhost:8080/"
        },
        "id": "qfc9ksNeJoUT",
        "outputId": "ba3df645-a5e8-4dda-8d18-e54875bca562"
      },
      "execution_count": 19,
      "outputs": [
        {
          "output_type": "execute_result",
          "data": {
            "text/plain": [
              "array([[-1.15036482, -0.39064196, -1.12855021, ..., -0.75798367,\n",
              "        -0.01614761, -0.38503402],\n",
              "       [-0.93798972,  0.68051405, -0.94820146, ..., -0.60687023,\n",
              "         0.09669004, -0.38615797],\n",
              "       [ 0.574121  , -1.03333557,  0.51394098, ..., -0.02371948,\n",
              "        -0.20050207, -0.75144254],\n",
              "       ...,\n",
              "       [-1.32422924, -0.20048168, -1.31754581, ..., -0.97974953,\n",
              "        -0.71542314, -0.11978123],\n",
              "       [-1.24380987, -0.2245526 , -1.28007609, ..., -1.75401433,\n",
              "        -1.58157125, -1.00601779],\n",
              "       [-0.73694129,  1.14989702, -0.71226578, ..., -0.27460457,\n",
              "        -1.25895095,  0.21515662]])"
            ]
          },
          "metadata": {},
          "execution_count": 19
        }
      ]
    },
    {
      "cell_type": "code",
      "source": [
        "x_train.shape,x_test.shape"
      ],
      "metadata": {
        "colab": {
          "base_uri": "https://localhost:8080/"
        },
        "id": "_wYNhF2AJw6R",
        "outputId": "9d6a88b6-b111-4d3b-8efc-f3694f400181"
      },
      "execution_count": 20,
      "outputs": [
        {
          "output_type": "execute_result",
          "data": {
            "text/plain": [
              "((455, 30), (114, 30))"
            ]
          },
          "metadata": {},
          "execution_count": 20
        }
      ]
    },
    {
      "cell_type": "code",
      "source": [
        "x_train = x_train.reshape(455,30,1)\n",
        "x_test = x_test.reshape(114,30,1)"
      ],
      "metadata": {
        "id": "kxYfcp2CJyhs"
      },
      "execution_count": 21,
      "outputs": []
    },
    {
      "cell_type": "code",
      "source": [
        "x_train.shape,x_test.shape"
      ],
      "metadata": {
        "colab": {
          "base_uri": "https://localhost:8080/"
        },
        "id": "0kgiwTMdJ7TY",
        "outputId": "60991c59-a5ee-42b6-de26-976b3220cfc5"
      },
      "execution_count": 22,
      "outputs": [
        {
          "output_type": "execute_result",
          "data": {
            "text/plain": [
              "((455, 30, 1), (114, 30, 1))"
            ]
          },
          "metadata": {},
          "execution_count": 22
        }
      ]
    },
    {
      "cell_type": "code",
      "source": [
        "# Creating an object\n",
        "model = tf.keras.models.Sequential()"
      ],
      "metadata": {
        "id": "I2Ov0XEaJ9QF"
      },
      "execution_count": 36,
      "outputs": []
    },
    {
      "cell_type": "code",
      "source": [
        "# 1st CNN layer\n",
        "model.add(tf.keras.layers.Conv1D(filters=32,kernel_size=2,activation=\"relu\",input_shape=(30,1)))"
      ],
      "metadata": {
        "id": "AlMYIUD3KSX1"
      },
      "execution_count": 37,
      "outputs": []
    },
    {
      "cell_type": "code",
      "source": [
        "# batch normalization allows each layer of the network to learn by itself a little more independent of other layers, due to batch normalization data pre-processing speeds up\n",
        "model.add(tf.keras.layers.BatchNormalization())"
      ],
      "metadata": {
        "id": "qN2nqyUPKcdx"
      },
      "execution_count": 38,
      "outputs": []
    },
    {
      "cell_type": "code",
      "source": [
        "# dropout layer (a regularization technique)\n",
        "model.add(tf.keras.layers.Dropout(0.2))"
      ],
      "metadata": {
        "id": "ixwR0IvJK4vl"
      },
      "execution_count": 39,
      "outputs": []
    },
    {
      "cell_type": "code",
      "source": [
        "# 2nd CNN layer\n",
        "model.add(tf.keras.layers.Conv1D(filters=64,kernel_size=2,activation=\"relu\"))\n",
        "model.add(tf.keras.layers.BatchNormalization())\n",
        "model.add(tf.keras.layers.Dropout(0.4))"
      ],
      "metadata": {
        "id": "S-6EMOXZK8bn"
      },
      "execution_count": 40,
      "outputs": []
    },
    {
      "cell_type": "code",
      "source": [
        "# flatten layer\n",
        "model.add(tf.keras.layers.Flatten())"
      ],
      "metadata": {
        "id": "FDf3un7VLF2c"
      },
      "execution_count": 41,
      "outputs": []
    },
    {
      "cell_type": "code",
      "source": [
        "# dense layer\n",
        "model.add(tf.keras.layers.Dense(units = 64, activation=\"relu\"))\n",
        "# output layer\n",
        "model.add(tf.keras.layers.Dense(units = 1, activation=\"sigmoid\"))"
      ],
      "metadata": {
        "id": "DovbTzpeLMu6"
      },
      "execution_count": 42,
      "outputs": []
    },
    {
      "cell_type": "code",
      "source": [
        "model.summary()"
      ],
      "metadata": {
        "colab": {
          "base_uri": "https://localhost:8080/"
        },
        "id": "hd53wltMLXkI",
        "outputId": "9d466b4a-e4dd-431a-a4ce-f6c969f4cfc5"
      },
      "execution_count": 43,
      "outputs": [
        {
          "output_type": "stream",
          "name": "stdout",
          "text": [
            "Model: \"sequential_2\"\n",
            "_________________________________________________________________\n",
            " Layer (type)                Output Shape              Param #   \n",
            "=================================================================\n",
            " conv1d_4 (Conv1D)           (None, 29, 32)            96        \n",
            "                                                                 \n",
            " batch_normalization_4 (Batc  (None, 29, 32)           128       \n",
            " hNormalization)                                                 \n",
            "                                                                 \n",
            " dropout_4 (Dropout)         (None, 29, 32)            0         \n",
            "                                                                 \n",
            " conv1d_5 (Conv1D)           (None, 28, 64)            4160      \n",
            "                                                                 \n",
            " batch_normalization_5 (Batc  (None, 28, 64)           256       \n",
            " hNormalization)                                                 \n",
            "                                                                 \n",
            " dropout_5 (Dropout)         (None, 28, 64)            0         \n",
            "                                                                 \n",
            " flatten_1 (Flatten)         (None, 1792)              0         \n",
            "                                                                 \n",
            " dense_2 (Dense)             (None, 64)                114752    \n",
            "                                                                 \n",
            " dense_3 (Dense)             (None, 1)                 65        \n",
            "                                                                 \n",
            "=================================================================\n",
            "Total params: 119,457\n",
            "Trainable params: 119,265\n",
            "Non-trainable params: 192\n",
            "_________________________________________________________________\n"
          ]
        }
      ]
    },
    {
      "cell_type": "code",
      "source": [
        "# compile the model\n",
        "opt = tf.keras.optimizers.Adam(learning_rate=0.00005)\n",
        "model.compile(optimizer=opt,loss=\"binary_crossentropy\",metrics=[\"accuracy\"])"
      ],
      "metadata": {
        "id": "7G0SC-_lLY4O"
      },
      "execution_count": 44,
      "outputs": []
    },
    {
      "cell_type": "markdown",
      "source": [
        "## TRAINING THE MODEL"
      ],
      "metadata": {
        "id": "dVev172OMDIY"
      }
    },
    {
      "cell_type": "code",
      "source": [
        "history=model.fit(x_train,y_train,epochs=50,validation_data=(x_test,y_test))"
      ],
      "metadata": {
        "colab": {
          "base_uri": "https://localhost:8080/"
        },
        "id": "Cigikz-4L1RD",
        "outputId": "5ba5a1c9-468f-4e9b-8936-69297837daf1"
      },
      "execution_count": 45,
      "outputs": [
        {
          "output_type": "stream",
          "name": "stdout",
          "text": [
            "Epoch 1/50\n",
            "15/15 [==============================] - 15s 50ms/step - loss: 0.6462 - accuracy: 0.6967 - val_loss: 0.6301 - val_accuracy: 0.8596\n",
            "Epoch 2/50\n",
            "15/15 [==============================] - 0s 9ms/step - loss: 0.4239 - accuracy: 0.8066 - val_loss: 0.5821 - val_accuracy: 0.8947\n",
            "Epoch 3/50\n",
            "15/15 [==============================] - 0s 13ms/step - loss: 0.3193 - accuracy: 0.8462 - val_loss: 0.5420 - val_accuracy: 0.8509\n",
            "Epoch 4/50\n",
            "15/15 [==============================] - 0s 11ms/step - loss: 0.2385 - accuracy: 0.9143 - val_loss: 0.5072 - val_accuracy: 0.8596\n",
            "Epoch 5/50\n",
            "15/15 [==============================] - 0s 11ms/step - loss: 0.2257 - accuracy: 0.9077 - val_loss: 0.4771 - val_accuracy: 0.8333\n",
            "Epoch 6/50\n",
            "15/15 [==============================] - 0s 10ms/step - loss: 0.1673 - accuracy: 0.9385 - val_loss: 0.4511 - val_accuracy: 0.8158\n",
            "Epoch 7/50\n",
            "15/15 [==============================] - 0s 11ms/step - loss: 0.1458 - accuracy: 0.9385 - val_loss: 0.4272 - val_accuracy: 0.8158\n",
            "Epoch 8/50\n",
            "15/15 [==============================] - 0s 13ms/step - loss: 0.1670 - accuracy: 0.9385 - val_loss: 0.4057 - val_accuracy: 0.8070\n",
            "Epoch 9/50\n",
            "15/15 [==============================] - 0s 13ms/step - loss: 0.1298 - accuracy: 0.9604 - val_loss: 0.3850 - val_accuracy: 0.8158\n",
            "Epoch 10/50\n",
            "15/15 [==============================] - 0s 10ms/step - loss: 0.1093 - accuracy: 0.9604 - val_loss: 0.3665 - val_accuracy: 0.8246\n",
            "Epoch 11/50\n",
            "15/15 [==============================] - 0s 10ms/step - loss: 0.1262 - accuracy: 0.9626 - val_loss: 0.3462 - val_accuracy: 0.8246\n",
            "Epoch 12/50\n",
            "15/15 [==============================] - 0s 11ms/step - loss: 0.1133 - accuracy: 0.9516 - val_loss: 0.3265 - val_accuracy: 0.8333\n",
            "Epoch 13/50\n",
            "15/15 [==============================] - 0s 14ms/step - loss: 0.0966 - accuracy: 0.9626 - val_loss: 0.3077 - val_accuracy: 0.8684\n",
            "Epoch 14/50\n",
            "15/15 [==============================] - 0s 12ms/step - loss: 0.1089 - accuracy: 0.9626 - val_loss: 0.2894 - val_accuracy: 0.8947\n",
            "Epoch 15/50\n",
            "15/15 [==============================] - 0s 12ms/step - loss: 0.0869 - accuracy: 0.9802 - val_loss: 0.2741 - val_accuracy: 0.9035\n",
            "Epoch 16/50\n",
            "15/15 [==============================] - 0s 12ms/step - loss: 0.0794 - accuracy: 0.9758 - val_loss: 0.2583 - val_accuracy: 0.9035\n",
            "Epoch 17/50\n",
            "15/15 [==============================] - 0s 10ms/step - loss: 0.0948 - accuracy: 0.9670 - val_loss: 0.2400 - val_accuracy: 0.9123\n",
            "Epoch 18/50\n",
            "15/15 [==============================] - 0s 10ms/step - loss: 0.0958 - accuracy: 0.9692 - val_loss: 0.2242 - val_accuracy: 0.9211\n",
            "Epoch 19/50\n",
            "15/15 [==============================] - 0s 10ms/step - loss: 0.0832 - accuracy: 0.9802 - val_loss: 0.2089 - val_accuracy: 0.9386\n",
            "Epoch 20/50\n",
            "15/15 [==============================] - 0s 11ms/step - loss: 0.0907 - accuracy: 0.9582 - val_loss: 0.1979 - val_accuracy: 0.9386\n",
            "Epoch 21/50\n",
            "15/15 [==============================] - 0s 11ms/step - loss: 0.0856 - accuracy: 0.9780 - val_loss: 0.1833 - val_accuracy: 0.9386\n",
            "Epoch 22/50\n",
            "15/15 [==============================] - 0s 12ms/step - loss: 0.0707 - accuracy: 0.9824 - val_loss: 0.1742 - val_accuracy: 0.9386\n",
            "Epoch 23/50\n",
            "15/15 [==============================] - 0s 13ms/step - loss: 0.0692 - accuracy: 0.9824 - val_loss: 0.1637 - val_accuracy: 0.9386\n",
            "Epoch 24/50\n",
            "15/15 [==============================] - 0s 13ms/step - loss: 0.0794 - accuracy: 0.9692 - val_loss: 0.1561 - val_accuracy: 0.9386\n",
            "Epoch 25/50\n",
            "15/15 [==============================] - 0s 12ms/step - loss: 0.0795 - accuracy: 0.9780 - val_loss: 0.1508 - val_accuracy: 0.9386\n",
            "Epoch 26/50\n",
            "15/15 [==============================] - 0s 12ms/step - loss: 0.0890 - accuracy: 0.9714 - val_loss: 0.1442 - val_accuracy: 0.9474\n",
            "Epoch 27/50\n",
            "15/15 [==============================] - 0s 10ms/step - loss: 0.0819 - accuracy: 0.9736 - val_loss: 0.1379 - val_accuracy: 0.9474\n",
            "Epoch 28/50\n",
            "15/15 [==============================] - 0s 12ms/step - loss: 0.0679 - accuracy: 0.9758 - val_loss: 0.1334 - val_accuracy: 0.9474\n",
            "Epoch 29/50\n",
            "15/15 [==============================] - 0s 13ms/step - loss: 0.0771 - accuracy: 0.9802 - val_loss: 0.1297 - val_accuracy: 0.9474\n",
            "Epoch 30/50\n",
            "15/15 [==============================] - 0s 10ms/step - loss: 0.0750 - accuracy: 0.9780 - val_loss: 0.1249 - val_accuracy: 0.9474\n",
            "Epoch 31/50\n",
            "15/15 [==============================] - 0s 11ms/step - loss: 0.0553 - accuracy: 0.9846 - val_loss: 0.1190 - val_accuracy: 0.9474\n",
            "Epoch 32/50\n",
            "15/15 [==============================] - 0s 10ms/step - loss: 0.0614 - accuracy: 0.9780 - val_loss: 0.1152 - val_accuracy: 0.9474\n",
            "Epoch 33/50\n",
            "15/15 [==============================] - 0s 12ms/step - loss: 0.0688 - accuracy: 0.9780 - val_loss: 0.1085 - val_accuracy: 0.9474\n",
            "Epoch 34/50\n",
            "15/15 [==============================] - 0s 10ms/step - loss: 0.0785 - accuracy: 0.9736 - val_loss: 0.1029 - val_accuracy: 0.9474\n",
            "Epoch 35/50\n",
            "15/15 [==============================] - 0s 10ms/step - loss: 0.0689 - accuracy: 0.9780 - val_loss: 0.1013 - val_accuracy: 0.9474\n",
            "Epoch 36/50\n",
            "15/15 [==============================] - 0s 11ms/step - loss: 0.0590 - accuracy: 0.9780 - val_loss: 0.1013 - val_accuracy: 0.9474\n",
            "Epoch 37/50\n",
            "15/15 [==============================] - 0s 10ms/step - loss: 0.0791 - accuracy: 0.9670 - val_loss: 0.1010 - val_accuracy: 0.9474\n",
            "Epoch 38/50\n",
            "15/15 [==============================] - 0s 11ms/step - loss: 0.0625 - accuracy: 0.9736 - val_loss: 0.0927 - val_accuracy: 0.9561\n",
            "Epoch 39/50\n",
            "15/15 [==============================] - 0s 11ms/step - loss: 0.0540 - accuracy: 0.9868 - val_loss: 0.0889 - val_accuracy: 0.9561\n",
            "Epoch 40/50\n",
            "15/15 [==============================] - 0s 9ms/step - loss: 0.0584 - accuracy: 0.9824 - val_loss: 0.0873 - val_accuracy: 0.9649\n",
            "Epoch 41/50\n",
            "15/15 [==============================] - 0s 10ms/step - loss: 0.0615 - accuracy: 0.9758 - val_loss: 0.0852 - val_accuracy: 0.9649\n",
            "Epoch 42/50\n",
            "15/15 [==============================] - 0s 12ms/step - loss: 0.0616 - accuracy: 0.9736 - val_loss: 0.0841 - val_accuracy: 0.9649\n",
            "Epoch 43/50\n",
            "15/15 [==============================] - 0s 12ms/step - loss: 0.0833 - accuracy: 0.9736 - val_loss: 0.0841 - val_accuracy: 0.9649\n",
            "Epoch 44/50\n",
            "15/15 [==============================] - 0s 10ms/step - loss: 0.0518 - accuracy: 0.9780 - val_loss: 0.0811 - val_accuracy: 0.9649\n",
            "Epoch 45/50\n",
            "15/15 [==============================] - 0s 9ms/step - loss: 0.0586 - accuracy: 0.9802 - val_loss: 0.0795 - val_accuracy: 0.9649\n",
            "Epoch 46/50\n",
            "15/15 [==============================] - 0s 10ms/step - loss: 0.0603 - accuracy: 0.9780 - val_loss: 0.0783 - val_accuracy: 0.9649\n",
            "Epoch 47/50\n",
            "15/15 [==============================] - 0s 12ms/step - loss: 0.0584 - accuracy: 0.9780 - val_loss: 0.0762 - val_accuracy: 0.9649\n",
            "Epoch 48/50\n",
            "15/15 [==============================] - 0s 11ms/step - loss: 0.0534 - accuracy: 0.9824 - val_loss: 0.0745 - val_accuracy: 0.9649\n",
            "Epoch 49/50\n",
            "15/15 [==============================] - 0s 11ms/step - loss: 0.0467 - accuracy: 0.9868 - val_loss: 0.0733 - val_accuracy: 0.9649\n",
            "Epoch 50/50\n",
            "15/15 [==============================] - 0s 12ms/step - loss: 0.0574 - accuracy: 0.9758 - val_loss: 0.0739 - val_accuracy: 0.9649\n"
          ]
        }
      ]
    },
    {
      "cell_type": "markdown",
      "source": [
        "## MODEL PREDICTIONS"
      ],
      "metadata": {
        "id": "iMEnl5dBMWLZ"
      }
    },
    {
      "cell_type": "code",
      "source": [
        "y_pred = (model.predict(x_test) > 0.5).astype(\"int32\")"
      ],
      "metadata": {
        "id": "LrfGmdgaMJ90"
      },
      "execution_count": 46,
      "outputs": []
    },
    {
      "cell_type": "code",
      "source": [
        "print(y_pred[12]),print(y_test[12])"
      ],
      "metadata": {
        "colab": {
          "base_uri": "https://localhost:8080/"
        },
        "id": "IeO4HJKkMxtR",
        "outputId": "dad8e047-cea8-472e-8fd3-ffa46958ce03"
      },
      "execution_count": 48,
      "outputs": [
        {
          "output_type": "stream",
          "name": "stdout",
          "text": [
            "[1]\n",
            "1\n"
          ]
        },
        {
          "output_type": "execute_result",
          "data": {
            "text/plain": [
              "(None, None)"
            ]
          },
          "metadata": {},
          "execution_count": 48
        }
      ]
    },
    {
      "cell_type": "code",
      "source": [
        "cancer.target_names"
      ],
      "metadata": {
        "colab": {
          "base_uri": "https://localhost:8080/"
        },
        "id": "bh1YSJt2M16L",
        "outputId": "b6e82418-5da3-4a66-a29e-6b50212410de"
      },
      "execution_count": 49,
      "outputs": [
        {
          "output_type": "execute_result",
          "data": {
            "text/plain": [
              "array(['malignant', 'benign'], dtype='<U9')"
            ]
          },
          "metadata": {},
          "execution_count": 49
        }
      ]
    },
    {
      "cell_type": "code",
      "source": [
        "# confusion matrix\n",
        "from sklearn.metrics import confusion_matrix,accuracy_score\n",
        "cm = confusion_matrix(y_test,y_pred)\n",
        "print(cm)"
      ],
      "metadata": {
        "colab": {
          "base_uri": "https://localhost:8080/"
        },
        "id": "scTEHqLIM6n8",
        "outputId": "bd2fbf68-1871-4b11-cf39-a41dcd125295"
      },
      "execution_count": 50,
      "outputs": [
        {
          "output_type": "stream",
          "name": "stdout",
          "text": [
            "[[43  4]\n",
            " [ 0 67]]\n"
          ]
        }
      ]
    },
    {
      "cell_type": "code",
      "source": [
        "acc_cm = accuracy_score(y_test,y_pred)"
      ],
      "metadata": {
        "id": "AiJ-jmi8NENS"
      },
      "execution_count": 51,
      "outputs": []
    },
    {
      "cell_type": "code",
      "source": [
        "print(acc_cm)"
      ],
      "metadata": {
        "colab": {
          "base_uri": "https://localhost:8080/"
        },
        "id": "114TQw3aNIS2",
        "outputId": "d044bfdc-4ed7-4657-97bb-7d4cbe869384"
      },
      "execution_count": 52,
      "outputs": [
        {
          "output_type": "stream",
          "name": "stdout",
          "text": [
            "0.9649122807017544\n"
          ]
        }
      ]
    },
    {
      "cell_type": "markdown",
      "source": [
        "## LEARNING CURVE"
      ],
      "metadata": {
        "id": "9YNSfzoBNNIA"
      }
    },
    {
      "cell_type": "code",
      "source": [
        "# Plotting the learning curve\n",
        "def learning_curve(history,epoch):\n",
        "  # training vs validation accuracy\n",
        "  epoch_range = range(1,epoch+1)\n",
        "  plt.plot(epoch_range,history.history['accuracy'])\n",
        "  plt.plot(epoch_range,history.history['val_accuracy'])\n",
        "  plt.title(\"Model Accuracy\")\n",
        "  plt.ylabel(\"Accuracy\")\n",
        "  plt.xlabel(\"Epoch\")\n",
        "  plt.legend(['Train','val'],loc='upper left')\n",
        "  plt.show()\n",
        "  # training vs validation loss\n",
        "  epoch_range = range(1,epoch+1)\n",
        "  plt.plot(epoch_range,history.history['loss'])\n",
        "  plt.plot(epoch_range,history.history['val_loss'])\n",
        "  plt.title(\"Model Loss\")\n",
        "  plt.ylabel(\"Loss\")\n",
        "  plt.xlabel(\"Epoch\")\n",
        "  plt.legend(['Train','val'],loc='upper left')\n",
        "  plt.show()"
      ],
      "metadata": {
        "id": "ErNDYE4MNJfq"
      },
      "execution_count": 54,
      "outputs": []
    },
    {
      "cell_type": "code",
      "source": [
        "learning_curve(history,50)"
      ],
      "metadata": {
        "colab": {
          "base_uri": "https://localhost:8080/",
          "height": 573
        },
        "id": "9wmq-9JVNZi0",
        "outputId": "464edadb-1b14-48e7-bebe-ac501cac54ce"
      },
      "execution_count": 55,
      "outputs": [
        {
          "output_type": "display_data",
          "data": {
            "text/plain": [
              "<Figure size 432x288 with 1 Axes>"
            ],
            "image/png": "[encoded data removed]"
          },
          "metadata": {
            "needs_background": "light"
          }
        },
        {
          "output_type": "display_data",
          "data": {
            "text/plain": [
              "<Figure size 432x288 with 1 Axes>"
            ],
            "image/png": "[encoded data removed]"
          },
          "metadata": {
            "needs_background": "light"
          }
        }
      ]
    },
    {
      "cell_type": "code",
      "source": [
        ""
      ],
      "metadata": {
        "id": "J6qqnR9zNfJY"
      },
      "execution_count": null,
      "outputs": []
    }
  ]
}
