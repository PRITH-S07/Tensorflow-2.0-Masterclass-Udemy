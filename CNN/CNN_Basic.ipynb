{
  "cells": [
    {
      "cell_type": "code",
      "execution_count": 1,
      "metadata": {
        "id": "wJ9UlcZVmdnt"
      },
      "outputs": [],
      "source": [
        "#!pip install tensorflow-gpu"
      ]
    },
    {
      "cell_type": "code",
      "execution_count": 2,
      "metadata": {
        "id": "BY_Vs4sGnplE"
      },
      "outputs": [],
      "source": [
        "import tensorflow as tf"
      ]
    },
    {
      "cell_type": "code",
      "execution_count": 3,
      "metadata": {
        "colab": {
          "base_uri": "https://localhost:8080/"
        },
        "id": "3kxJu7rKnq9H",
        "outputId": "baa2e259-59e0-448f-8f83-00510578f058"
      },
      "outputs": [
        {
          "output_type": "stream",
          "name": "stdout",
          "text": [
            "2.8.0\n"
          ]
        }
      ],
      "source": [
        "print(tf.__version__)"
      ]
    },
    {
      "cell_type": "code",
      "execution_count": 4,
      "metadata": {
        "id": "SXcYIsksntHj"
      },
      "outputs": [],
      "source": [
        "import numpy as np\n",
        "import pandas as pd\n",
        "import matplotlib.pyplot as plt"
      ]
    },
    {
      "cell_type": "code",
      "execution_count": 5,
      "metadata": {
        "id": "YVFP8OKpn3HY"
      },
      "outputs": [],
      "source": [
        "# Importing the dataset\n",
        "from tensorflow.keras.datasets import cifar10"
      ]
    },
    {
      "cell_type": "code",
      "execution_count": 6,
      "metadata": {
        "id": "wseE56XvoD72",
        "colab": {
          "base_uri": "https://localhost:8080/"
        },
        "outputId": "777c02f2-4b02-4081-c966-cf3aa76fc90d"
      },
      "outputs": [
        {
          "output_type": "stream",
          "name": "stdout",
          "text": [
            "Downloading data from https://www.cs.toronto.edu/~kriz/cifar-10-python.tar.gz\n",
            "170500096/170498071 [==============================] - 6s 0us/step\n",
            "170508288/170498071 [==============================] - 6s 0us/step\n"
          ]
        }
      ],
      "source": [
        "(x_train,y_train),(x_test,y_test)=cifar10.load_data()"
      ]
    },
    {
      "cell_type": "code",
      "execution_count": 7,
      "metadata": {
        "id": "7bNUzIQ-oTRY"
      },
      "outputs": [],
      "source": [
        "class_names=[\"0: airplane\",\"1: automobile\",\"2: bird\",\"3: cat\",\"4: deer\",\"5: dog\",\"6: frog\",\"7: horse\",\"8: ship\",\"9: truck\"]"
      ]
    },
    {
      "cell_type": "code",
      "execution_count": 8,
      "metadata": {
        "colab": {
          "base_uri": "https://localhost:8080/"
        },
        "id": "zdb0cZTMpCEA",
        "outputId": "b2a0d7ff-f21b-4b42-a79c-623eb412e16d"
      },
      "outputs": [
        {
          "output_type": "stream",
          "name": "stdout",
          "text": [
            "['0: airplane', '1: automobile', '2: bird', '3: cat', '4: deer', '5: dog', '6: frog', '7: horse', '8: ship', '9: truck']\n"
          ]
        }
      ],
      "source": [
        "print(class_names)"
      ]
    },
    {
      "cell_type": "code",
      "execution_count": 9,
      "metadata": {
        "colab": {
          "base_uri": "https://localhost:8080/"
        },
        "id": "UNxzrPS1pFjt",
        "outputId": "ff0ef59e-3f9f-40f6-be8b-0392b3c20c6f"
      },
      "outputs": [
        {
          "output_type": "execute_result",
          "data": {
            "text/plain": [
              "(255, 0, 120.70756512369792)"
            ]
          },
          "metadata": {},
          "execution_count": 9
        }
      ],
      "source": [
        "x_train.max(),x_train.min(),x_train.mean()"
      ]
    },
    {
      "cell_type": "code",
      "execution_count": 10,
      "metadata": {
        "colab": {
          "base_uri": "https://localhost:8080/"
        },
        "id": "FaiNqpIGpJvR",
        "outputId": "7a891838-4e0a-43b9-d452-8480ddf64a44"
      },
      "outputs": [
        {
          "output_type": "execute_result",
          "data": {
            "text/plain": [
              "(9, 0)"
            ]
          },
          "metadata": {},
          "execution_count": 10
        }
      ],
      "source": [
        "y_train.max(),y_train.min()"
      ]
    },
    {
      "cell_type": "code",
      "execution_count": 11,
      "metadata": {
        "id": "DYkteXnrpOE5"
      },
      "outputs": [],
      "source": [
        "# Normalizing the images\n",
        "x_train=x_train/255.0\n",
        "x_test=x_test/255.0"
      ]
    },
    {
      "cell_type": "code",
      "execution_count": 12,
      "metadata": {
        "colab": {
          "base_uri": "https://localhost:8080/"
        },
        "id": "nyfcuTY_pXzG",
        "outputId": "69953eed-78d0-45e6-bdae-f4d00cbcead1"
      },
      "outputs": [
        {
          "output_type": "execute_result",
          "data": {
            "text/plain": [
              "(1.0, 0.0, 0.4733630004850874)"
            ]
          },
          "metadata": {},
          "execution_count": 12
        }
      ],
      "source": [
        "x_train.max(),x_train.min(),x_train.mean()"
      ]
    },
    {
      "cell_type": "code",
      "execution_count": 13,
      "metadata": {
        "colab": {
          "base_uri": "https://localhost:8080/"
        },
        "id": "qfe92Qk8pggq",
        "outputId": "f4330f73-9679-40d8-f3af-cc571111194f"
      },
      "outputs": [
        {
          "output_type": "execute_result",
          "data": {
            "text/plain": [
              "((50000, 32, 32, 3), (10000, 32, 32, 3))"
            ]
          },
          "metadata": {},
          "execution_count": 13
        }
      ],
      "source": [
        "x_train.shape,x_test.shape"
      ]
    },
    {
      "cell_type": "code",
      "execution_count": 14,
      "metadata": {
        "colab": {
          "base_uri": "https://localhost:8080/",
          "height": 283
        },
        "id": "wOYyxq4lpkZJ",
        "outputId": "5a04936c-360b-4465-ed5e-ab4bec02250f"
      },
      "outputs": [
        {
          "output_type": "execute_result",
          "data": {
            "text/plain": [
              "<matplotlib.image.AxesImage at 0x7ff3533ec110>"
            ]
          },
          "metadata": {},
          "execution_count": 14
        },
        {
          "output_type": "display_data",
          "data": {
            "text/plain": [
              "<Figure size 432x288 with 1 Axes>"
            ],
            "image/png": "[encoded data removed]"
          },
          "metadata": {
            "needs_background": "light"
          }
        }
      ],
      "source": [
        "plt.imshow(x_train[0])"
      ]
    },
    {
      "cell_type": "code",
      "execution_count": 15,
      "metadata": {
        "colab": {
          "base_uri": "https://localhost:8080/"
        },
        "id": "A9SPMCZIppbp",
        "outputId": "20d69c86-7795-498e-9da8-72abba94b4ce"
      },
      "outputs": [
        {
          "output_type": "execute_result",
          "data": {
            "text/plain": [
              "array([6], dtype=uint8)"
            ]
          },
          "metadata": {},
          "execution_count": 15
        }
      ],
      "source": [
        "y_train[0]"
      ]
    },
    {
      "cell_type": "markdown",
      "metadata": {
        "id": "BrLPd9kkp1yw"
      },
      "source": [
        "## BUILDING THE CNN"
      ]
    },
    {
      "cell_type": "code",
      "execution_count": 16,
      "metadata": {
        "id": "Q_gx25R0pqPb"
      },
      "outputs": [],
      "source": [
        "# Defining the object\n",
        "model=tf.keras.models.Sequential()"
      ]
    },
    {
      "cell_type": "code",
      "execution_count": 17,
      "metadata": {
        "id": "Nn4sOLqxp9B9"
      },
      "outputs": [],
      "source": [
        "#Adding first CNN layer\n",
        "# 1) filters (kernel) = 32\n",
        "# 2) kernel size = 3\n",
        "# 3) padding=same\n",
        "# 4) activation function = ReLU\n",
        "# 5) input shape = (32,32,3)\n",
        "model.add(tf.keras.layers.Conv2D(32,3,padding=\"same\",activation=\"relu\",input_shape=(32,32,3)))"
      ]
    },
    {
      "cell_type": "code",
      "execution_count": 18,
      "metadata": {
        "id": "5x7F_uY4qpak"
      },
      "outputs": [],
      "source": [
        "# Adding 2nd CNN and maxpool layer\n",
        "model.add(tf.keras.layers.Conv2D(32,3,padding=\"same\",activation=\"relu\"))\n",
        "#maxpool parameters:\n",
        "# 1) pool size = 2\n",
        "# 2) strides = 2\n",
        "# 3) padding = valid\n",
        "model.add(tf.keras.layers.MaxPool2D(pool_size=2,strides=2,padding=\"valid\"))"
      ]
    },
    {
      "cell_type": "code",
      "execution_count": 19,
      "metadata": {
        "id": "Nyblz7lkrJla"
      },
      "outputs": [],
      "source": [
        "# Adding 3rd CNN layer\n",
        "model.add(tf.keras.layers.Conv2D(64,3,padding=\"same\",activation=\"relu\"))"
      ]
    },
    {
      "cell_type": "code",
      "execution_count": 20,
      "metadata": {
        "id": "By9aQHa5rT63"
      },
      "outputs": [],
      "source": [
        "# Adding 4th CNN and maxpool layer\n",
        "model.add(tf.keras.layers.Conv2D(64,3,padding=\"same\",activation=\"relu\"))\n",
        "#maxpool parameters:\n",
        "# 1) pool size = 2\n",
        "# 2) strides = 2\n",
        "# 3) padding = valid\n",
        "model.add(tf.keras.layers.MaxPool2D(pool_size=2,strides=2,padding=\"valid\"))"
      ]
    },
    {
      "cell_type": "code",
      "execution_count": 21,
      "metadata": {
        "id": "MnAMNXbVrcMr"
      },
      "outputs": [],
      "source": [
        "# Adding the dropout layer\n",
        "model.add(tf.keras.layers.Dropout(0.4))"
      ]
    },
    {
      "cell_type": "code",
      "execution_count": 22,
      "metadata": {
        "id": "UBwFvrq7rmIs"
      },
      "outputs": [],
      "source": [
        "#Adding the flatten layer\n",
        "model.add(tf.keras.layers.Flatten())"
      ]
    },
    {
      "cell_type": "code",
      "execution_count": 23,
      "metadata": {
        "id": "Co8ODh2MrsPO"
      },
      "outputs": [],
      "source": [
        "# Adding 1st Dense layers\n",
        "model.add(tf.keras.layers.Dense(units=128,activation=\"relu\"))"
      ]
    },
    {
      "cell_type": "code",
      "execution_count": 24,
      "metadata": {
        "id": "pcsB6hvirx7r"
      },
      "outputs": [],
      "source": [
        "#Adding the 2nd dense layer (Output layer)\n",
        "model.add(tf.keras.layers.Dense(units=10,activation=\"softmax\"))"
      ]
    },
    {
      "cell_type": "code",
      "execution_count": 25,
      "metadata": {
        "colab": {
          "base_uri": "https://localhost:8080/"
        },
        "id": "M1DxCKaDr5QN",
        "outputId": "0f2d9340-ec69-4d40-f870-2e45e69427d0"
      },
      "outputs": [
        {
          "output_type": "stream",
          "name": "stdout",
          "text": [
            "Model: \"sequential\"\n",
            "_________________________________________________________________\n",
            " Layer (type)                Output Shape              Param #   \n",
            "=================================================================\n",
            " conv2d (Conv2D)             (None, 32, 32, 32)        896       \n",
            "                                                                 \n",
            " conv2d_1 (Conv2D)           (None, 32, 32, 32)        9248      \n",
            "                                                                 \n",
            " max_pooling2d (MaxPooling2D  (None, 16, 16, 32)       0         \n",
            " )                                                               \n",
            "                                                                 \n",
            " conv2d_2 (Conv2D)           (None, 16, 16, 64)        18496     \n",
            "                                                                 \n",
            " conv2d_3 (Conv2D)           (None, 16, 16, 64)        36928     \n",
            "                                                                 \n",
            " max_pooling2d_1 (MaxPooling  (None, 8, 8, 64)         0         \n",
            " 2D)                                                             \n",
            "                                                                 \n",
            " dropout (Dropout)           (None, 8, 8, 64)          0         \n",
            "                                                                 \n",
            " flatten (Flatten)           (None, 4096)              0         \n",
            "                                                                 \n",
            " dense (Dense)               (None, 128)               524416    \n",
            "                                                                 \n",
            " dense_1 (Dense)             (None, 10)                1290      \n",
            "                                                                 \n",
            "=================================================================\n",
            "Total params: 591,274\n",
            "Trainable params: 591,274\n",
            "Non-trainable params: 0\n",
            "_________________________________________________________________\n"
          ]
        }
      ],
      "source": [
        "model.summary()"
      ]
    },
    {
      "cell_type": "code",
      "execution_count": 26,
      "metadata": {
        "id": "0cANIgZGr9qa"
      },
      "outputs": [],
      "source": [
        "model.compile(optimizer=\"adam\",loss=\"sparse_categorical_crossentropy\",metrics=[\"sparse_categorical_accuracy\"])"
      ]
    },
    {
      "cell_type": "code",
      "execution_count": 27,
      "metadata": {
        "colab": {
          "base_uri": "https://localhost:8080/"
        },
        "id": "Wp9ZkVXOsVpm",
        "outputId": "f98ab801-1016-488b-b294-37bbb24fcb35"
      },
      "outputs": [
        {
          "output_type": "stream",
          "name": "stdout",
          "text": [
            "Epoch 1/10\n",
            "5000/5000 [==============================] - 27s 3ms/step - loss: 1.4056 - sparse_categorical_accuracy: 0.4881\n",
            "Epoch 2/10\n",
            "5000/5000 [==============================] - 18s 4ms/step - loss: 0.9920 - sparse_categorical_accuracy: 0.6490\n",
            "Epoch 3/10\n",
            "5000/5000 [==============================] - 18s 4ms/step - loss: 0.8490 - sparse_categorical_accuracy: 0.6996\n",
            "Epoch 4/10\n",
            "5000/5000 [==============================] - 17s 3ms/step - loss: 0.7601 - sparse_categorical_accuracy: 0.7348\n",
            "Epoch 5/10\n",
            "5000/5000 [==============================] - 17s 3ms/step - loss: 0.6920 - sparse_categorical_accuracy: 0.7555\n",
            "Epoch 6/10\n",
            "5000/5000 [==============================] - 17s 3ms/step - loss: 0.6388 - sparse_categorical_accuracy: 0.7737\n",
            "Epoch 7/10\n",
            "5000/5000 [==============================] - 17s 3ms/step - loss: 0.5963 - sparse_categorical_accuracy: 0.7881\n",
            "Epoch 8/10\n",
            "5000/5000 [==============================] - 17s 3ms/step - loss: 0.5630 - sparse_categorical_accuracy: 0.8025\n",
            "Epoch 9/10\n",
            "5000/5000 [==============================] - 17s 3ms/step - loss: 0.5318 - sparse_categorical_accuracy: 0.8104\n",
            "Epoch 10/10\n",
            "5000/5000 [==============================] - 17s 3ms/step - loss: 0.5048 - sparse_categorical_accuracy: 0.8216\n"
          ]
        },
        {
          "output_type": "execute_result",
          "data": {
            "text/plain": [
              "<keras.callbacks.History at 0x7ff34071b710>"
            ]
          },
          "metadata": {},
          "execution_count": 27
        }
      ],
      "source": [
        "model.fit(x_train,y_train,batch_size=10,epochs=10)"
      ]
    },
    {
      "cell_type": "markdown",
      "source": [
        "## MODEL EVALUATION AND PERFORMANCE"
      ],
      "metadata": {
        "id": "78NMN06VBvqs"
      }
    },
    {
      "cell_type": "code",
      "execution_count": 28,
      "metadata": {
        "id": "DURazMLkskco",
        "colab": {
          "base_uri": "https://localhost:8080/"
        },
        "outputId": "def44134-429f-474a-9c24-364fdb093f64"
      },
      "outputs": [
        {
          "output_type": "stream",
          "name": "stdout",
          "text": [
            "313/313 [==============================] - 1s 3ms/step - loss: 0.7913 - sparse_categorical_accuracy: 0.7468\n"
          ]
        }
      ],
      "source": [
        "# evaluate the model performance\n",
        "test_loss,test_acc = model.evaluate(x_test,y_test)"
      ]
    },
    {
      "cell_type": "code",
      "source": [
        "test_acc"
      ],
      "metadata": {
        "colab": {
          "base_uri": "https://localhost:8080/"
        },
        "id": "fGdbM21-B5ES",
        "outputId": "f2a0eec0-3b88-4da1-d7eb-a5d384b33811"
      },
      "execution_count": 29,
      "outputs": [
        {
          "output_type": "execute_result",
          "data": {
            "text/plain": [
              "0.7468000054359436"
            ]
          },
          "metadata": {},
          "execution_count": 29
        }
      ]
    },
    {
      "cell_type": "code",
      "source": [
        "# Predictions\n",
        "predict_x=model.predict(x_test) \n",
        "y_pred=np.argmax(predict_x,axis=1)"
      ],
      "metadata": {
        "id": "IAiOh2DwB-Nd"
      },
      "execution_count": 33,
      "outputs": []
    },
    {
      "cell_type": "code",
      "source": [
        "y_pred[101]==y_test[101]"
      ],
      "metadata": {
        "colab": {
          "base_uri": "https://localhost:8080/"
        },
        "id": "GLwR6o4gCaoX",
        "outputId": "8979f5a6-d0df-489d-8119-a23cbf60bb58"
      },
      "execution_count": 42,
      "outputs": [
        {
          "output_type": "execute_result",
          "data": {
            "text/plain": [
              "array([ True])"
            ]
          },
          "metadata": {},
          "execution_count": 42
        }
      ]
    },
    {
      "cell_type": "code",
      "source": [
        "# Confusion matrix\n",
        "from sklearn.metrics import confusion_matrix, accuracy_score\n",
        "cm = confusion_matrix(y_test,y_pred)\n",
        "print(cm)"
      ],
      "metadata": {
        "colab": {
          "base_uri": "https://localhost:8080/"
        },
        "id": "xOea82q4Cd5m",
        "outputId": "1f300a97-c060-4567-9dc2-c331428f8d35"
      },
      "execution_count": 38,
      "outputs": [
        {
          "output_type": "stream",
          "name": "stdout",
          "text": [
            "[[837  22  13  17  16   8   8  11  39  29]\n",
            " [ 10 915   2   3   2   1   6   1  15  45]\n",
            " [ 77  10 504  56 109  97  78  47  11  11]\n",
            " [ 16  17  30 521  54 224  71  49   8  10]\n",
            " [ 32   1  31  61 640  55  60 115   3   2]\n",
            " [ 12   3  13 124  32 729  13  62   3   9]\n",
            " [ 10   7  21  43  18  49 827  12   9   4]\n",
            " [ 13   3  10  19  23  43   8 868   1  12]\n",
            " [ 76  43   6  11   9   6   6   4 803  36]\n",
            " [ 20 107   3   8   0   9   3   5  21 824]]\n"
          ]
        }
      ]
    },
    {
      "cell_type": "code",
      "source": [
        "acc_cm = accuracy_score(y_test,y_pred)"
      ],
      "metadata": {
        "id": "biSBNFANDDiB"
      },
      "execution_count": 39,
      "outputs": []
    },
    {
      "cell_type": "code",
      "source": [
        "acc_cm"
      ],
      "metadata": {
        "colab": {
          "base_uri": "https://localhost:8080/"
        },
        "id": "hscpMT1vDJoK",
        "outputId": "c61e9933-acb2-4023-8178-27534b030126"
      },
      "execution_count": 40,
      "outputs": [
        {
          "output_type": "execute_result",
          "data": {
            "text/plain": [
              "0.7468"
            ]
          },
          "metadata": {},
          "execution_count": 40
        }
      ]
    },
    {
      "cell_type": "code",
      "source": [
        ""
      ],
      "metadata": {
        "id": "AiTD4dgODKmr"
      },
      "execution_count": null,
      "outputs": []
    }
  ],
  "metadata": {
    "colab": {
      "name": "CNN_1.ipynb",
      "provenance": []
    },
    "kernelspec": {
      "display_name": "Python 3",
      "name": "python3"
    },
    "language_info": {
      "name": "python"
    },
    "accelerator": "GPU"
  },
  "nbformat": 4,
  "nbformat_minor": 0
}
