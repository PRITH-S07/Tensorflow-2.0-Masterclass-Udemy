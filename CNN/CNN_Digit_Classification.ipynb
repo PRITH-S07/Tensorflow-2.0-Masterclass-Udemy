{
  "nbformat": 4,
  "nbformat_minor": 0,
  "metadata": {
    "colab": {
      "name": "Untitled134.ipynb",
      "provenance": []
    },
    "kernelspec": {
      "name": "python3",
      "display_name": "Python 3"
    },
    "language_info": {
      "name": "python"
    },
    "accelerator": "GPU"
  },
  "cells": [
    {
      "cell_type": "markdown",
      "source": [
        "## INSTALLATION AND SETUP"
      ],
      "metadata": {
        "id": "x17c1bHOgIvM"
      }
    },
    {
      "cell_type": "code",
      "execution_count": 1,
      "metadata": {
        "id": "51wD_KL2gBcH"
      },
      "outputs": [],
      "source": [
        "#!pip install tensorflow-gpu"
      ]
    },
    {
      "cell_type": "code",
      "source": [
        "import tensorflow as tf\n",
        "print(tf.__version__)"
      ],
      "metadata": {
        "colab": {
          "base_uri": "https://localhost:8080/"
        },
        "id": "CAnZU-l5gQEz",
        "outputId": "c5121f9f-2ccd-4d86-fcaa-f25d24ae8f36"
      },
      "execution_count": 2,
      "outputs": [
        {
          "output_type": "stream",
          "name": "stdout",
          "text": [
            "2.8.0\n"
          ]
        }
      ]
    },
    {
      "cell_type": "code",
      "source": [
        "import pandas as pd\n",
        "import numpy as np\n",
        "import matplotlib.pyplot as plt"
      ],
      "metadata": {
        "id": "m3uEgcSwiaUp"
      },
      "execution_count": 3,
      "outputs": []
    },
    {
      "cell_type": "code",
      "source": [
        "from tensorflow.keras.datasets import mnist\n",
        "(x_train,y_train),(x_test,y_test) = mnist.load_data()"
      ],
      "metadata": {
        "colab": {
          "base_uri": "https://localhost:8080/"
        },
        "id": "m12_ASj6iQw3",
        "outputId": "9f2cc482-b653-4cc6-dcf5-ed02c1b6ce03"
      },
      "execution_count": 4,
      "outputs": [
        {
          "output_type": "stream",
          "name": "stdout",
          "text": [
            "Downloading data from https://storage.googleapis.com/tensorflow/tf-keras-datasets/mnist.npz\n",
            "11493376/11490434 [==============================] - 0s 0us/step\n",
            "11501568/11490434 [==============================] - 0s 0us/step\n"
          ]
        }
      ]
    },
    {
      "cell_type": "code",
      "source": [
        "x_train.shape,x_test.shape,y_train.shape,y_test.shape"
      ],
      "metadata": {
        "colab": {
          "base_uri": "https://localhost:8080/"
        },
        "id": "6y0lwe0Nija_",
        "outputId": "00b89e1e-ba73-40de-9be4-fa4c47f26f22"
      },
      "execution_count": 5,
      "outputs": [
        {
          "output_type": "execute_result",
          "data": {
            "text/plain": [
              "((60000, 28, 28), (10000, 28, 28), (60000,), (10000,))"
            ]
          },
          "metadata": {},
          "execution_count": 5
        }
      ]
    },
    {
      "cell_type": "code",
      "source": [
        "plt.imshow(x_train[0])"
      ],
      "metadata": {
        "colab": {
          "base_uri": "https://localhost:8080/",
          "height": 282
        },
        "id": "u_jHAiMKiq3Q",
        "outputId": "25bb9ca2-60e2-46ff-ba36-77273d42118f"
      },
      "execution_count": 6,
      "outputs": [
        {
          "output_type": "execute_result",
          "data": {
            "text/plain": [
              "<matplotlib.image.AxesImage at 0x7fe4ecec8450>"
            ]
          },
          "metadata": {},
          "execution_count": 6
        },
        {
          "output_type": "display_data",
          "data": {
            "text/plain": [
              "<Figure size 432x288 with 1 Axes>"
            ],
            "image/png": "[encoded data removed]"
          },
          "metadata": {
            "needs_background": "light"
          }
        }
      ]
    },
    {
      "cell_type": "code",
      "source": [
        "y_train[0]"
      ],
      "metadata": {
        "colab": {
          "base_uri": "https://localhost:8080/"
        },
        "id": "-emXL1j7iycB",
        "outputId": "9be684d1-8201-4a5e-dd61-43ee02d6fc12"
      },
      "execution_count": 7,
      "outputs": [
        {
          "output_type": "execute_result",
          "data": {
            "text/plain": [
              "5"
            ]
          },
          "metadata": {},
          "execution_count": 7
        }
      ]
    },
    {
      "cell_type": "code",
      "source": [
        "# normalizing the images\n",
        "x_train = x_train/255.0\n",
        "x_test = x_test/255.0"
      ],
      "metadata": {
        "id": "rcPyRUmri1y0"
      },
      "execution_count": 8,
      "outputs": []
    },
    {
      "cell_type": "code",
      "source": [
        "# reshape the images into 3 dimensions\n",
        "x_train = x_train.reshape(60000,28,28,1)\n",
        "x_test = x_test.reshape(10000,28,28,1)"
      ],
      "metadata": {
        "id": "u8Biq-zMjE31"
      },
      "execution_count": 9,
      "outputs": []
    },
    {
      "cell_type": "code",
      "source": [
        "# defining an object\n",
        "model = tf.keras.models.Sequential()"
      ],
      "metadata": {
        "id": "XMFQtiLk0WHx"
      },
      "execution_count": 10,
      "outputs": []
    },
    {
      "cell_type": "code",
      "source": [
        "# Adding 1st CNN layer\n",
        "model.add(tf.keras.layers.Conv2D(filters=32,kernel_size=(3,3),activation=\"relu\",input_shape=(28,28,1)))\n",
        "# Adding 2nd CNN layer\n",
        "model.add(tf.keras.layers.Conv2D(filters=64,kernel_size=(3,3),activation=\"relu\"))\n",
        "# Adding maxpool layer\n",
        "model.add(tf.keras.layers.MaxPool2D(pool_size=(2,2)))\n",
        "# Adding dropout layer\n",
        "model.add(tf.keras.layers.Dropout(0.4))\n",
        "# Adding flatten layer\n",
        "model.add(tf.keras.layers.Flatten())\n",
        "# fully connected layer\n",
        "model.add(tf.keras.layers.Dense(units=128,activation=\"relu\"))\n",
        "# output layer\n",
        "model.add(tf.keras.layers.Dense(units=10,activation=\"softmax\"))"
      ],
      "metadata": {
        "id": "pPi4MT-Yx3El"
      },
      "execution_count": 11,
      "outputs": []
    },
    {
      "cell_type": "code",
      "source": [
        "model.summary()"
      ],
      "metadata": {
        "colab": {
          "base_uri": "https://localhost:8080/"
        },
        "id": "YjdHioa0spSM",
        "outputId": "255b6f85-554e-4801-b747-19b8d8a60cc0"
      },
      "execution_count": 12,
      "outputs": [
        {
          "output_type": "stream",
          "name": "stdout",
          "text": [
            "Model: \"sequential\"\n",
            "_________________________________________________________________\n",
            " Layer (type)                Output Shape              Param #   \n",
            "=================================================================\n",
            " conv2d (Conv2D)             (None, 26, 26, 32)        320       \n",
            "                                                                 \n",
            " conv2d_1 (Conv2D)           (None, 24, 24, 64)        18496     \n",
            "                                                                 \n",
            " max_pooling2d (MaxPooling2D  (None, 12, 12, 64)       0         \n",
            " )                                                               \n",
            "                                                                 \n",
            " dropout (Dropout)           (None, 12, 12, 64)        0         \n",
            "                                                                 \n",
            " flatten (Flatten)           (None, 9216)              0         \n",
            "                                                                 \n",
            " dense (Dense)               (None, 128)               1179776   \n",
            "                                                                 \n",
            " dense_1 (Dense)             (None, 10)                1290      \n",
            "                                                                 \n",
            "=================================================================\n",
            "Total params: 1,199,882\n",
            "Trainable params: 1,199,882\n",
            "Non-trainable params: 0\n",
            "_________________________________________________________________\n"
          ]
        }
      ]
    },
    {
      "cell_type": "code",
      "source": [
        "model.compile(optimizer=\"adam\",loss=\"sparse_categorical_crossentropy\",metrics=[\"sparse_categorical_accuracy\"])"
      ],
      "metadata": {
        "id": "QJpRb8C-srYE"
      },
      "execution_count": 17,
      "outputs": []
    },
    {
      "cell_type": "code",
      "source": [
        "history = model.fit(x_train,y_train,batch_size = 128, epochs = 10, validation_data=(x_test,y_test))"
      ],
      "metadata": {
        "colab": {
          "base_uri": "https://localhost:8080/"
        },
        "id": "CiBN9Tbts0nV",
        "outputId": "ede6052d-1537-4963-86c3-385ae6aa1335"
      },
      "execution_count": 18,
      "outputs": [
        {
          "output_type": "stream",
          "name": "stdout",
          "text": [
            "Epoch 1/10\n",
            "469/469 [==============================] - 13s 7ms/step - loss: 0.1655 - sparse_categorical_accuracy: 0.9505 - val_loss: 0.0474 - val_sparse_categorical_accuracy: 0.9823\n",
            "Epoch 2/10\n",
            "469/469 [==============================] - 3s 6ms/step - loss: 0.0504 - sparse_categorical_accuracy: 0.9844 - val_loss: 0.0343 - val_sparse_categorical_accuracy: 0.9889\n",
            "Epoch 3/10\n",
            "469/469 [==============================] - 3s 6ms/step - loss: 0.0367 - sparse_categorical_accuracy: 0.9885 - val_loss: 0.0337 - val_sparse_categorical_accuracy: 0.9894\n",
            "Epoch 4/10\n",
            "469/469 [==============================] - 3s 6ms/step - loss: 0.0263 - sparse_categorical_accuracy: 0.9915 - val_loss: 0.0336 - val_sparse_categorical_accuracy: 0.9891\n",
            "Epoch 5/10\n",
            "469/469 [==============================] - 3s 6ms/step - loss: 0.0194 - sparse_categorical_accuracy: 0.9936 - val_loss: 0.0316 - val_sparse_categorical_accuracy: 0.9886\n",
            "Epoch 6/10\n",
            "469/469 [==============================] - 3s 6ms/step - loss: 0.0176 - sparse_categorical_accuracy: 0.9939 - val_loss: 0.0307 - val_sparse_categorical_accuracy: 0.9910\n",
            "Epoch 7/10\n",
            "469/469 [==============================] - 3s 6ms/step - loss: 0.0139 - sparse_categorical_accuracy: 0.9954 - val_loss: 0.0380 - val_sparse_categorical_accuracy: 0.9888\n",
            "Epoch 8/10\n",
            "469/469 [==============================] - 3s 6ms/step - loss: 0.0115 - sparse_categorical_accuracy: 0.9963 - val_loss: 0.0299 - val_sparse_categorical_accuracy: 0.9918\n",
            "Epoch 9/10\n",
            "469/469 [==============================] - 3s 6ms/step - loss: 0.0109 - sparse_categorical_accuracy: 0.9963 - val_loss: 0.0321 - val_sparse_categorical_accuracy: 0.9906\n",
            "Epoch 10/10\n",
            "469/469 [==============================] - 3s 6ms/step - loss: 0.0077 - sparse_categorical_accuracy: 0.9975 - val_loss: 0.0380 - val_sparse_categorical_accuracy: 0.9903\n"
          ]
        }
      ]
    },
    {
      "cell_type": "code",
      "source": [
        "# model predictions\n",
        "predict_x=model.predict(x_test) \n",
        "y_pred=np.argmax(predict_x,axis=1)"
      ],
      "metadata": {
        "id": "iqawb0wftYGs"
      },
      "execution_count": 19,
      "outputs": []
    },
    {
      "cell_type": "code",
      "source": [
        "y_pred[15],y_test[15]"
      ],
      "metadata": {
        "colab": {
          "base_uri": "https://localhost:8080/"
        },
        "id": "NwNWjF4VuKOV",
        "outputId": "b912bc9d-8d41-437a-82ee-b1f5d7fcce28"
      },
      "execution_count": 21,
      "outputs": [
        {
          "output_type": "execute_result",
          "data": {
            "text/plain": [
              "(5, 5)"
            ]
          },
          "metadata": {},
          "execution_count": 21
        }
      ]
    },
    {
      "cell_type": "code",
      "source": [
        "# confusion matrix\n",
        "from sklearn.metrics import confusion_matrix,accuracy_score\n",
        "cm = confusion_matrix(y_test,y_pred)\n",
        "print(cm)"
      ],
      "metadata": {
        "colab": {
          "base_uri": "https://localhost:8080/"
        },
        "id": "6uuXekPcuPdr",
        "outputId": "9d2871c3-0e4e-4167-c60d-cb83858feb1f"
      },
      "execution_count": 22,
      "outputs": [
        {
          "output_type": "stream",
          "name": "stdout",
          "text": [
            "[[ 977    0    0    0    1    0    1    1    0    0]\n",
            " [   0 1128    0    2    0    1    2    2    0    0]\n",
            " [   1    0 1021    0    0    0    0   10    0    0]\n",
            " [   0    0    1 1003    0    3    0    1    1    1]\n",
            " [   0    0    0    0  976    0    1    0    0    5]\n",
            " [   1    0    0    6    0  884    1    0    0    0]\n",
            " [   3    2    0    0    7    4  938    0    3    1]\n",
            " [   0    0    4    0    0    0    0 1023    1    0]\n",
            " [   3    1    4    0    0    1    1    3  959    2]\n",
            " [   0    0    0    0    4    2    0    7    2  994]]\n"
          ]
        }
      ]
    },
    {
      "cell_type": "code",
      "source": [
        "acc_cm = accuracy_score(y_test,y_pred)\n",
        "print(acc_cm)"
      ],
      "metadata": {
        "colab": {
          "base_uri": "https://localhost:8080/"
        },
        "id": "e6iEVAMRufxd",
        "outputId": "136e9b80-2e31-45b9-8ee7-3c48ecc84460"
      },
      "execution_count": 23,
      "outputs": [
        {
          "output_type": "stream",
          "name": "stdout",
          "text": [
            "0.9903\n"
          ]
        }
      ]
    },
    {
      "cell_type": "code",
      "source": [
        " # Plotting the learning curve\n",
        " def learning_curve(history,epoch):\n",
        "  # training vs validation accuracy\n",
        "  epoch_range = range(1,epoch+1)\n",
        "  plt.plot(epoch_range,history.history['sparse_categorical_accuracy'])\n",
        "  plt.plot(epoch_range,history.history['val_sparse_categorical_accuracy'])\n",
        "  plt.title(\"Model Accuracy\")\n",
        "  plt.ylabel(\"Accuracy\")\n",
        "  plt.xlabel(\"Epoch\")\n",
        "  plt.legend(['Train','val'],loc='upper left')\n",
        "  plt.show()\n",
        "  # training vs validation loss\n",
        "  epoch_range = range(1,epoch+1)\n",
        "  plt.plot(epoch_range,history.history['loss'])\n",
        "  plt.plot(epoch_range,history.history['val_loss'])\n",
        "  plt.title(\"Model Loss\")\n",
        "  plt.ylabel(\"Loss\")\n",
        "  plt.xlabel(\"Epoch\")\n",
        "  plt.legend(['Train','val'],loc='upper left')\n",
        "  plt.show()"
      ],
      "metadata": {
        "id": "iO_DAeE9umdv"
      },
      "execution_count": 28,
      "outputs": []
    },
    {
      "cell_type": "code",
      "source": [
        "learning_curve(history,10)"
      ],
      "metadata": {
        "colab": {
          "base_uri": "https://localhost:8080/",
          "height": 573
        },
        "id": "_P49YJ8kuzRR",
        "outputId": "d0b6ae96-fa9b-422d-b4f4-cf7303333ed4"
      },
      "execution_count": 29,
      "outputs": [
        {
          "output_type": "display_data",
          "data": {
            "text/plain": [
              "<Figure size 432x288 with 1 Axes>"
            ],
            "image/png": "[encoded data removed]"
          },
          "metadata": {
            "needs_background": "light"
          }
        },
        {
          "output_type": "display_data",
          "data": {
            "text/plain": [
              "<Figure size 432x288 with 1 Axes>"
            ],
            "image/png": "[encoded data removed]"
          },
          "metadata": {
            "needs_background": "light"
          }
        }
      ]
    },
    {
      "cell_type": "code",
      "source": [
        ""
      ],
      "metadata": {
        "id": "ZMaVHhjFu1f-"
      },
      "execution_count": null,
      "outputs": []
    }
  ]
}
