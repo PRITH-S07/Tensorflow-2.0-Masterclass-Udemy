{
  "nbformat": 4,
  "nbformat_minor": 0,
  "metadata": {
    "colab": {
      "name": "Credit_Card_Fraud_Detection.ipynb",
      "provenance": []
    },
    "kernelspec": {
      "name": "python3",
      "display_name": "Python 3"
    },
    "language_info": {
      "name": "python"
    },
    "accelerator": "GPU"
  },
  "cells": [
    {
      "cell_type": "code",
      "execution_count": 1,
      "metadata": {
        "id": "ZaBq88DGoRVv"
      },
      "outputs": [],
      "source": [
        "#!pip install tensorflow-gpu"
      ]
    },
    {
      "cell_type": "code",
      "source": [
        "import tensorflow as tf\n",
        "print(tf.__version__)"
      ],
      "metadata": {
        "colab": {
          "base_uri": "https://localhost:8080/"
        },
        "id": "eYIZAYqj8c1S",
        "outputId": "ffff966c-de35-4a65-b2a2-3b092e4f0529"
      },
      "execution_count": 2,
      "outputs": [
        {
          "output_type": "stream",
          "name": "stdout",
          "text": [
            "2.8.0\n"
          ]
        }
      ]
    },
    {
      "cell_type": "code",
      "source": [
        "import pandas as pd\n",
        "import numpy as np\n",
        "import matplotlib.pyplot as plt"
      ],
      "metadata": {
        "id": "N1x4m7xs8gUa"
      },
      "execution_count": 3,
      "outputs": []
    },
    {
      "cell_type": "code",
      "source": [
        "# Importing the dataset from kaggle\n",
        "# Installing Kaggle API\n",
        "!pip install -q kaggle"
      ],
      "metadata": {
        "id": "se3-lfmz8mZK"
      },
      "execution_count": 4,
      "outputs": []
    },
    {
      "cell_type": "code",
      "source": [
        "# create a directory as kaggle\n",
        "! mkdir -p ~/.kaggle"
      ],
      "metadata": {
        "id": "Z1Yn2Byv85km"
      },
      "execution_count": 5,
      "outputs": []
    },
    {
      "cell_type": "code",
      "source": [
        "#copy API key to kaggle directory\n",
        "! cp kaggle.json ~/.kaggle/"
      ],
      "metadata": {
        "id": "pg5NKv8d87GL"
      },
      "execution_count": 6,
      "outputs": []
    },
    {
      "cell_type": "code",
      "source": [
        "#disable API key\n",
        "! chmod 600 /root/.kaggle/kaggle.json"
      ],
      "metadata": {
        "id": "E_4dSCV188u6"
      },
      "execution_count": 7,
      "outputs": []
    },
    {
      "cell_type": "code",
      "source": [
        "# list of kaggle datasets\n",
        "! kaggle datasets list"
      ],
      "metadata": {
        "colab": {
          "base_uri": "https://localhost:8080/"
        },
        "id": "uqJMhDvV8-s7",
        "outputId": "8911b89b-5c72-43ed-b90d-15bd624419c6"
      },
      "execution_count": 8,
      "outputs": [
        {
          "output_type": "stream",
          "name": "stdout",
          "text": [
            "ref                                                                   title                                             size  lastUpdated          downloadCount  voteCount  usabilityRating  \n",
            "--------------------------------------------------------------------  -----------------------------------------------  -----  -------------------  -------------  ---------  ---------------  \n",
            "muratkokludataset/date-fruit-datasets                                 Date Fruit Datasets                              408KB  2022-04-03 09:25:39          10728       1460  0.9375           \n",
            "victorsoeiro/netflix-tv-shows-and-movies                              Netflix TV Shows and Movies                        2MB  2022-05-15 00:01:23           2764        101  1.0              \n",
            "mdmahmudulhasansuzan/students-adaptability-level-in-online-education  Students Adaptability Level in Online Education    6KB  2022-04-16 04:46:28           7210        191  1.0              \n",
            "paradisejoy/top-hits-spotify-from-20002019                            Top Hits Spotify from 2000-2019                   94KB  2022-04-26 17:30:03           2814         77  1.0              \n",
            "muratkokludataset/acoustic-extinguisher-fire-dataset                  Acoustic Extinguisher Fire Dataset               621KB  2022-04-02 22:59:36           1708       1269  0.9375           \n",
            "muratkokludataset/rice-image-dataset                                  Rice Image Dataset                               219MB  2022-04-03 02:12:00           2135       1211  0.875            \n",
            "muratkokludataset/pistachio-dataset                                   Pistachio Dataset                                  2MB  2022-04-03 08:38:21            714       1107  0.9375           \n",
            "muratkokludataset/rice-msc-dataset                                    Rice MSC Dataset                                 102MB  2022-04-03 01:33:52            333       1077  0.9375           \n",
            "mysarahmadbhat/airline-passenger-satisfaction                         Airline Passenger Satisfaction                     2MB  2022-05-19 11:46:02            973         24  1.0              \n",
            "ujjwalchowdhury/energy-efficiency-data-set                            Energy Efficiency Data Set                         6KB  2022-05-12 13:51:03           1024         38  0.9705882        \n",
            "surajjha101/stores-area-and-sales-data                                Supermarket store branches sales analysis         10KB  2022-04-29 11:10:16           2484         95  1.0              \n",
            "muratkokludataset/grapevine-leaves-image-dataset                      Grapevine Leaves Image Dataset                   109MB  2022-04-03 09:00:54            272       1115  0.875            \n",
            "muratkokludataset/rice-dataset-commeo-and-osmancik                    Rice Dataset Commeo and Osmancik                 524KB  2022-04-03 00:40:03            170       1063  0.875            \n",
            "muratkokludataset/durum-wheat-dataset                                 Durum Wheat Dataset                              983MB  2022-04-03 00:02:29            136       1085  0.875            \n",
            "rinichristy/covid19-coronavirus-pandemic                              COVID-19 Coronavirus Pandemic                      9KB  2022-04-05 08:43:16           5509        129  1.0              \n",
            "jjdaguirre/forbes-billionaires-2022                                   Forbes billionaires 2022                          56KB  2022-04-30 18:48:22           1172         31  1.0              \n",
            "madhurpant/top-650-fifa-22-players-simplified                         Top-650-FIFA_22-Players                           43KB  2022-05-19 04:53:14            380         37  1.0              \n",
            "muratkokludataset/pistachio-image-dataset                             Pistachio Image Dataset                           27MB  2022-03-28 18:01:27            721       1159  0.9375           \n",
            "victorsoeiro/amazon-prime-tv-shows-and-movies                         Amazon Prime TV Shows and Movies                   4MB  2022-05-14 16:36:47           1102         27  1.0              \n",
            "muratkokludataset/pumpkin-seeds-dataset                               Pumpkin Seeds Dataset                            393KB  2022-03-28 18:28:16            838       1082  0.9375           \n"
          ]
        }
      ]
    },
    {
      "cell_type": "code",
      "source": [
        "# importing the dataset\n",
        "!kaggle datasets download -d mlg-ulb/creditcardfraud"
      ],
      "metadata": {
        "colab": {
          "base_uri": "https://localhost:8080/"
        },
        "id": "pc1CrkTi9AmH",
        "outputId": "f77bd057-457e-4ca6-b354-27a8138e2622"
      },
      "execution_count": 11,
      "outputs": [
        {
          "output_type": "stream",
          "name": "stdout",
          "text": [
            "Downloading creditcardfraud.zip to /content\n",
            " 91% 60.0M/66.0M [00:00<00:00, 89.4MB/s]\n",
            "100% 66.0M/66.0M [00:00<00:00, 80.9MB/s]\n"
          ]
        }
      ]
    },
    {
      "cell_type": "code",
      "source": [
        "# unzipping the dataset\n",
        "! unzip -q /content/creditcardfraud.zip"
      ],
      "metadata": {
        "id": "7tGGSGMk9DyS"
      },
      "execution_count": 12,
      "outputs": []
    },
    {
      "cell_type": "code",
      "source": [
        "dataset_1 = pd.read_csv(\"/content/creditcard.csv\")\n",
        "dataset_1.head()"
      ],
      "metadata": {
        "colab": {
          "base_uri": "https://localhost:8080/",
          "height": 299
        },
        "id": "bnMvbBNv9FuX",
        "outputId": "721dc474-80fa-4de7-f3d7-77bc259fa05a"
      },
      "execution_count": 13,
      "outputs": [
        {
          "output_type": "execute_result",
          "data": {
            "text/plain": [
              "   Time        V1        V2        V3        V4        V5        V6        V7  \\\n",
              "0   0.0 -1.359807 -0.072781  2.536347  1.378155 -0.338321  0.462388  0.239599   \n",
              "1   0.0  1.191857  0.266151  0.166480  0.448154  0.060018 -0.082361 -0.078803   \n",
              "2   1.0 -1.358354 -1.340163  1.773209  0.379780 -0.503198  1.800499  0.791461   \n",
              "3   1.0 -0.966272 -0.185226  1.792993 -0.863291 -0.010309  1.247203  0.237609   \n",
              "4   2.0 -1.158233  0.877737  1.548718  0.403034 -0.407193  0.095921  0.592941   \n",
              "\n",
              "         V8        V9  ...       V21       V22       V23       V24       V25  \\\n",
              "0  0.098698  0.363787  ... -0.018307  0.277838 -0.110474  0.066928  0.128539   \n",
              "1  0.085102 -0.255425  ... -0.225775 -0.638672  0.101288 -0.339846  0.167170   \n",
              "2  0.247676 -1.514654  ...  0.247998  0.771679  0.909412 -0.689281 -0.327642   \n",
              "3  0.377436 -1.387024  ... -0.108300  0.005274 -0.190321 -1.175575  0.647376   \n",
              "4 -0.270533  0.817739  ... -0.009431  0.798278 -0.137458  0.141267 -0.206010   \n",
              "\n",
              "        V26       V27       V28  Amount  Class  \n",
              "0 -0.189115  0.133558 -0.021053  149.62      0  \n",
              "1  0.125895 -0.008983  0.014724    2.69      0  \n",
              "2 -0.139097 -0.055353 -0.059752  378.66      0  \n",
              "3 -0.221929  0.062723  0.061458  123.50      0  \n",
              "4  0.502292  0.219422  0.215153   69.99      0  \n",
              "\n",
              "[5 rows x 31 columns]"
            ],
            "text/html": [
              "\n",
              "  <div id=\"df-74942681-ff5d-44c3-9fb6-0e3d8823f28f\">\n",
              "    <div class=\"colab-df-container\">\n",
              "      <div>\n",
              "<style scoped>\n",
              "    .dataframe tbody tr th:only-of-type {\n",
              "        vertical-align: middle;\n",
              "    }\n",
              "\n",
              "    .dataframe tbody tr th {\n",
              "        vertical-align: top;\n",
              "    }\n",
              "\n",
              "    .dataframe thead th {\n",
              "        text-align: right;\n",
              "    }\n",
              "</style>\n",
              "<table border=\"1\" class=\"dataframe\">\n",
              "  <thead>\n",
              "    <tr style=\"text-align: right;\">\n",
              "      <th></th>\n",
              "      <th>Time</th>\n",
              "      <th>V1</th>\n",
              "      <th>V2</th>\n",
              "      <th>V3</th>\n",
              "      <th>V4</th>\n",
              "      <th>V5</th>\n",
              "      <th>V6</th>\n",
              "      <th>V7</th>\n",
              "      <th>V8</th>\n",
              "      <th>V9</th>\n",
              "      <th>...</th>\n",
              "      <th>V21</th>\n",
              "      <th>V22</th>\n",
              "      <th>V23</th>\n",
              "      <th>V24</th>\n",
              "      <th>V25</th>\n",
              "      <th>V26</th>\n",
              "      <th>V27</th>\n",
              "      <th>V28</th>\n",
              "      <th>Amount</th>\n",
              "      <th>Class</th>\n",
              "    </tr>\n",
              "  </thead>\n",
              "  <tbody>\n",
              "    <tr>\n",
              "      <th>0</th>\n",
              "      <td>0.0</td>\n",
              "      <td>-1.359807</td>\n",
              "      <td>-0.072781</td>\n",
              "      <td>2.536347</td>\n",
              "      <td>1.378155</td>\n",
              "      <td>-0.338321</td>\n",
              "      <td>0.462388</td>\n",
              "      <td>0.239599</td>\n",
              "      <td>0.098698</td>\n",
              "      <td>0.363787</td>\n",
              "      <td>...</td>\n",
              "      <td>-0.018307</td>\n",
              "      <td>0.277838</td>\n",
              "      <td>-0.110474</td>\n",
              "      <td>0.066928</td>\n",
              "      <td>0.128539</td>\n",
              "      <td>-0.189115</td>\n",
              "      <td>0.133558</td>\n",
              "      <td>-0.021053</td>\n",
              "      <td>149.62</td>\n",
              "      <td>0</td>\n",
              "    </tr>\n",
              "    <tr>\n",
              "      <th>1</th>\n",
              "      <td>0.0</td>\n",
              "      <td>1.191857</td>\n",
              "      <td>0.266151</td>\n",
              "      <td>0.166480</td>\n",
              "      <td>0.448154</td>\n",
              "      <td>0.060018</td>\n",
              "      <td>-0.082361</td>\n",
              "      <td>-0.078803</td>\n",
              "      <td>0.085102</td>\n",
              "      <td>-0.255425</td>\n",
              "      <td>...</td>\n",
              "      <td>-0.225775</td>\n",
              "      <td>-0.638672</td>\n",
              "      <td>0.101288</td>\n",
              "      <td>-0.339846</td>\n",
              "      <td>0.167170</td>\n",
              "      <td>0.125895</td>\n",
              "      <td>-0.008983</td>\n",
              "      <td>0.014724</td>\n",
              "      <td>2.69</td>\n",
              "      <td>0</td>\n",
              "    </tr>\n",
              "    <tr>\n",
              "      <th>2</th>\n",
              "      <td>1.0</td>\n",
              "      <td>-1.358354</td>\n",
              "      <td>-1.340163</td>\n",
              "      <td>1.773209</td>\n",
              "      <td>0.379780</td>\n",
              "      <td>-0.503198</td>\n",
              "      <td>1.800499</td>\n",
              "      <td>0.791461</td>\n",
              "      <td>0.247676</td>\n",
              "      <td>-1.514654</td>\n",
              "      <td>...</td>\n",
              "      <td>0.247998</td>\n",
              "      <td>0.771679</td>\n",
              "      <td>0.909412</td>\n",
              "      <td>-0.689281</td>\n",
              "      <td>-0.327642</td>\n",
              "      <td>-0.139097</td>\n",
              "      <td>-0.055353</td>\n",
              "      <td>-0.059752</td>\n",
              "      <td>378.66</td>\n",
              "      <td>0</td>\n",
              "    </tr>\n",
              "    <tr>\n",
              "      <th>3</th>\n",
              "      <td>1.0</td>\n",
              "      <td>-0.966272</td>\n",
              "      <td>-0.185226</td>\n",
              "      <td>1.792993</td>\n",
              "      <td>-0.863291</td>\n",
              "      <td>-0.010309</td>\n",
              "      <td>1.247203</td>\n",
              "      <td>0.237609</td>\n",
              "      <td>0.377436</td>\n",
              "      <td>-1.387024</td>\n",
              "      <td>...</td>\n",
              "      <td>-0.108300</td>\n",
              "      <td>0.005274</td>\n",
              "      <td>-0.190321</td>\n",
              "      <td>-1.175575</td>\n",
              "      <td>0.647376</td>\n",
              "      <td>-0.221929</td>\n",
              "      <td>0.062723</td>\n",
              "      <td>0.061458</td>\n",
              "      <td>123.50</td>\n",
              "      <td>0</td>\n",
              "    </tr>\n",
              "    <tr>\n",
              "      <th>4</th>\n",
              "      <td>2.0</td>\n",
              "      <td>-1.158233</td>\n",
              "      <td>0.877737</td>\n",
              "      <td>1.548718</td>\n",
              "      <td>0.403034</td>\n",
              "      <td>-0.407193</td>\n",
              "      <td>0.095921</td>\n",
              "      <td>0.592941</td>\n",
              "      <td>-0.270533</td>\n",
              "      <td>0.817739</td>\n",
              "      <td>...</td>\n",
              "      <td>-0.009431</td>\n",
              "      <td>0.798278</td>\n",
              "      <td>-0.137458</td>\n",
              "      <td>0.141267</td>\n",
              "      <td>-0.206010</td>\n",
              "      <td>0.502292</td>\n",
              "      <td>0.219422</td>\n",
              "      <td>0.215153</td>\n",
              "      <td>69.99</td>\n",
              "      <td>0</td>\n",
              "    </tr>\n",
              "  </tbody>\n",
              "</table>\n",
              "<p>5 rows × 31 columns</p>\n",
              "</div>\n",
              "      <button class=\"colab-df-convert\" onclick=\"convertToInteractive('df-74942681-ff5d-44c3-9fb6-0e3d8823f28f')\"\n",
              "              title=\"Convert this dataframe to an interactive table.\"\n",
              "              style=\"display:none;\">\n",
              "        \n",
              "  <svg xmlns=\"http://www.w3.org/2000/svg\" height=\"24px\"viewBox=\"0 0 24 24\"\n",
              "       width=\"24px\">\n",
              "    <path d=\"M0 0h24v24H0V0z\" fill=\"none\"/>\n",
              "    <path d=\"M18.56 5.44l.94 2.06.94-2.06 2.06-.94-2.06-.94-.94-2.06-.94 2.06-2.06.94zm-11 1L8.5 8.5l.94-2.06 2.06-.94-2.06-.94L8.5 2.5l-.94 2.06-2.06.94zm10 10l.94 2.06.94-2.06 2.06-.94-2.06-.94-.94-2.06-.94 2.06-2.06.94z\"/><path d=\"M17.41 7.96l-1.37-1.37c-.4-.4-.92-.59-1.43-.59-.52 0-1.04.2-1.43.59L10.3 9.45l-7.72 7.72c-.78.78-.78 2.05 0 2.83L4 21.41c.39.39.9.59 1.41.59.51 0 1.02-.2 1.41-.59l7.78-7.78 2.81-2.81c.8-.78.8-2.07 0-2.86zM5.41 20L4 18.59l7.72-7.72 1.47 1.35L5.41 20z\"/>\n",
              "  </svg>\n",
              "      </button>\n",
              "      \n",
              "  <style>\n",
              "    .colab-df-container {\n",
              "      display:flex;\n",
              "      flex-wrap:wrap;\n",
              "      gap: 12px;\n",
              "    }\n",
              "\n",
              "    .colab-df-convert {\n",
              "      background-color: #E8F0FE;\n",
              "      border: none;\n",
              "      border-radius: 50%;\n",
              "      cursor: pointer;\n",
              "      display: none;\n",
              "      fill: #1967D2;\n",
              "      height: 32px;\n",
              "      padding: 0 0 0 0;\n",
              "      width: 32px;\n",
              "    }\n",
              "\n",
              "    .colab-df-convert:hover {\n",
              "      background-color: #E2EBFA;\n",
              "      box-shadow: 0px 1px 2px rgba(60, 64, 67, 0.3), 0px 1px 3px 1px rgba(60, 64, 67, 0.15);\n",
              "      fill: #174EA6;\n",
              "    }\n",
              "\n",
              "    [theme=dark] .colab-df-convert {\n",
              "      background-color: #3B4455;\n",
              "      fill: #D2E3FC;\n",
              "    }\n",
              "\n",
              "    [theme=dark] .colab-df-convert:hover {\n",
              "      background-color: #434B5C;\n",
              "      box-shadow: 0px 1px 3px 1px rgba(0, 0, 0, 0.15);\n",
              "      filter: drop-shadow(0px 1px 2px rgba(0, 0, 0, 0.3));\n",
              "      fill: #FFFFFF;\n",
              "    }\n",
              "  </style>\n",
              "\n",
              "      <script>\n",
              "        const buttonEl =\n",
              "          document.querySelector('#df-74942681-ff5d-44c3-9fb6-0e3d8823f28f button.colab-df-convert');\n",
              "        buttonEl.style.display =\n",
              "          google.colab.kernel.accessAllowed ? 'block' : 'none';\n",
              "\n",
              "        async function convertToInteractive(key) {\n",
              "          const element = document.querySelector('#df-74942681-ff5d-44c3-9fb6-0e3d8823f28f');\n",
              "          const dataTable =\n",
              "            await google.colab.kernel.invokeFunction('convertToInteractive',\n",
              "                                                     [key], {});\n",
              "          if (!dataTable) return;\n",
              "\n",
              "          const docLinkHtml = 'Like what you see? Visit the ' +\n",
              "            '<a target=\"_blank\" href=https://colab.research.google.com/notebooks/data_table.ipynb>data table notebook</a>'\n",
              "            + ' to learn more about interactive tables.';\n",
              "          element.innerHTML = '';\n",
              "          dataTable['output_type'] = 'display_data';\n",
              "          await google.colab.output.renderOutput(dataTable, element);\n",
              "          const docLink = document.createElement('div');\n",
              "          docLink.innerHTML = docLinkHtml;\n",
              "          element.appendChild(docLink);\n",
              "        }\n",
              "      </script>\n",
              "    </div>\n",
              "  </div>\n",
              "  "
            ]
          },
          "metadata": {},
          "execution_count": 13
        }
      ]
    },
    {
      "cell_type": "code",
      "source": [
        "dataset_1.shape"
      ],
      "metadata": {
        "colab": {
          "base_uri": "https://localhost:8080/"
        },
        "id": "BpyI2_UkWtOT",
        "outputId": "48e5107d-cbed-4827-c4c8-efdc254de487"
      },
      "execution_count": 14,
      "outputs": [
        {
          "output_type": "execute_result",
          "data": {
            "text/plain": [
              "(284807, 31)"
            ]
          },
          "metadata": {},
          "execution_count": 14
        }
      ]
    },
    {
      "cell_type": "code",
      "source": [
        "dataset_1.isnull().sum()"
      ],
      "metadata": {
        "colab": {
          "base_uri": "https://localhost:8080/"
        },
        "id": "DVO84SUKW6hZ",
        "outputId": "8e27c140-e890-4fc6-caac-d943b04a1b42"
      },
      "execution_count": 17,
      "outputs": [
        {
          "output_type": "execute_result",
          "data": {
            "text/plain": [
              "Time      0\n",
              "V1        0\n",
              "V2        0\n",
              "V3        0\n",
              "V4        0\n",
              "V5        0\n",
              "V6        0\n",
              "V7        0\n",
              "V8        0\n",
              "V9        0\n",
              "V10       0\n",
              "V11       0\n",
              "V12       0\n",
              "V13       0\n",
              "V14       0\n",
              "V15       0\n",
              "V16       0\n",
              "V17       0\n",
              "V18       0\n",
              "V19       0\n",
              "V20       0\n",
              "V21       0\n",
              "V22       0\n",
              "V23       0\n",
              "V24       0\n",
              "V25       0\n",
              "V26       0\n",
              "V27       0\n",
              "V28       0\n",
              "Amount    0\n",
              "Class     0\n",
              "dtype: int64"
            ]
          },
          "metadata": {},
          "execution_count": 17
        }
      ]
    },
    {
      "cell_type": "code",
      "source": [
        "dataset_1.info()"
      ],
      "metadata": {
        "colab": {
          "base_uri": "https://localhost:8080/"
        },
        "id": "TygVrKh6W9zi",
        "outputId": "8fca68dd-771c-49dc-a9a8-b9a672502b12"
      },
      "execution_count": 18,
      "outputs": [
        {
          "output_type": "stream",
          "name": "stdout",
          "text": [
            "<class 'pandas.core.frame.DataFrame'>\n",
            "RangeIndex: 284807 entries, 0 to 284806\n",
            "Data columns (total 31 columns):\n",
            " #   Column  Non-Null Count   Dtype  \n",
            "---  ------  --------------   -----  \n",
            " 0   Time    284807 non-null  float64\n",
            " 1   V1      284807 non-null  float64\n",
            " 2   V2      284807 non-null  float64\n",
            " 3   V3      284807 non-null  float64\n",
            " 4   V4      284807 non-null  float64\n",
            " 5   V5      284807 non-null  float64\n",
            " 6   V6      284807 non-null  float64\n",
            " 7   V7      284807 non-null  float64\n",
            " 8   V8      284807 non-null  float64\n",
            " 9   V9      284807 non-null  float64\n",
            " 10  V10     284807 non-null  float64\n",
            " 11  V11     284807 non-null  float64\n",
            " 12  V12     284807 non-null  float64\n",
            " 13  V13     284807 non-null  float64\n",
            " 14  V14     284807 non-null  float64\n",
            " 15  V15     284807 non-null  float64\n",
            " 16  V16     284807 non-null  float64\n",
            " 17  V17     284807 non-null  float64\n",
            " 18  V18     284807 non-null  float64\n",
            " 19  V19     284807 non-null  float64\n",
            " 20  V20     284807 non-null  float64\n",
            " 21  V21     284807 non-null  float64\n",
            " 22  V22     284807 non-null  float64\n",
            " 23  V23     284807 non-null  float64\n",
            " 24  V24     284807 non-null  float64\n",
            " 25  V25     284807 non-null  float64\n",
            " 26  V26     284807 non-null  float64\n",
            " 27  V27     284807 non-null  float64\n",
            " 28  V28     284807 non-null  float64\n",
            " 29  Amount  284807 non-null  float64\n",
            " 30  Class   284807 non-null  int64  \n",
            "dtypes: float64(30), int64(1)\n",
            "memory usage: 67.4 MB\n"
          ]
        }
      ]
    },
    {
      "cell_type": "code",
      "source": [
        "# observations in each class\n",
        "dataset_1['Class'].value_counts()"
      ],
      "metadata": {
        "colab": {
          "base_uri": "https://localhost:8080/"
        },
        "id": "w8fksYleXElH",
        "outputId": "9b7c99a8-7553-4785-8ae0-e9c611b6de9a"
      },
      "execution_count": 19,
      "outputs": [
        {
          "output_type": "execute_result",
          "data": {
            "text/plain": [
              "0    284315\n",
              "1       492\n",
              "Name: Class, dtype: int64"
            ]
          },
          "metadata": {},
          "execution_count": 19
        }
      ]
    },
    {
      "cell_type": "code",
      "source": [
        "# balance this dataset\n",
        "fraud = dataset_1[dataset_1['Class']==1]\n",
        "non_fraud = dataset_1[dataset_1['Class']==0]"
      ],
      "metadata": {
        "id": "YErwbb7WXOD9"
      },
      "execution_count": 20,
      "outputs": []
    },
    {
      "cell_type": "code",
      "source": [
        "fraud.shape,non_fraud.shape"
      ],
      "metadata": {
        "colab": {
          "base_uri": "https://localhost:8080/"
        },
        "id": "pgg2Kz0xXa1w",
        "outputId": "f19d49dc-1f90-4255-f1f3-b0739bcf4012"
      },
      "execution_count": 22,
      "outputs": [
        {
          "output_type": "execute_result",
          "data": {
            "text/plain": [
              "((492, 31), (284315, 31))"
            ]
          },
          "metadata": {},
          "execution_count": 22
        }
      ]
    },
    {
      "cell_type": "code",
      "source": [
        "# random selection of samples\n",
        "non_fraud_t = non_fraud.sample(n=492)"
      ],
      "metadata": {
        "id": "2sAGDoEsXfu0"
      },
      "execution_count": 23,
      "outputs": []
    },
    {
      "cell_type": "code",
      "source": [
        "non_fraud_t.shape"
      ],
      "metadata": {
        "colab": {
          "base_uri": "https://localhost:8080/"
        },
        "id": "JxPye3HpXoZF",
        "outputId": "ca544a67-4eb2-4ec3-c540-ee30b9b129f6"
      },
      "execution_count": 24,
      "outputs": [
        {
          "output_type": "execute_result",
          "data": {
            "text/plain": [
              "(492, 31)"
            ]
          },
          "metadata": {},
          "execution_count": 24
        }
      ]
    },
    {
      "cell_type": "code",
      "source": [
        "# merge dataset\n",
        "dataset = fraud.append(non_fraud_t,ignore_index=True)"
      ],
      "metadata": {
        "id": "aAEIWer3XqI8"
      },
      "execution_count": 26,
      "outputs": []
    },
    {
      "cell_type": "code",
      "source": [
        "# observations in each class\n",
        "dataset['Class'].value_counts()"
      ],
      "metadata": {
        "colab": {
          "base_uri": "https://localhost:8080/"
        },
        "id": "I04rKaIYX0FG",
        "outputId": "8829ad1c-6b90-408d-93eb-c2e34cf43396"
      },
      "execution_count": 27,
      "outputs": [
        {
          "output_type": "execute_result",
          "data": {
            "text/plain": [
              "1    492\n",
              "0    492\n",
              "Name: Class, dtype: int64"
            ]
          },
          "metadata": {},
          "execution_count": 27
        }
      ]
    },
    {
      "cell_type": "code",
      "source": [
        "# matrix of features\n",
        "x = dataset.drop(labels=['Class'],axis = 1)"
      ],
      "metadata": {
        "id": "JJV30yy3X6Qn"
      },
      "execution_count": 28,
      "outputs": []
    },
    {
      "cell_type": "code",
      "source": [
        "# dependent variable\n",
        "y = dataset['Class']"
      ],
      "metadata": {
        "id": "L9ZO7emlYPWZ"
      },
      "execution_count": 29,
      "outputs": []
    },
    {
      "cell_type": "code",
      "source": [
        "x.shape,y.shape"
      ],
      "metadata": {
        "colab": {
          "base_uri": "https://localhost:8080/"
        },
        "id": "Yot5XNaWYTZd",
        "outputId": "7b3b89fe-0292-4284-bdad-47c4867fc1cf"
      },
      "execution_count": 30,
      "outputs": [
        {
          "output_type": "execute_result",
          "data": {
            "text/plain": [
              "((984, 30), (984,))"
            ]
          },
          "metadata": {},
          "execution_count": 30
        }
      ]
    },
    {
      "cell_type": "code",
      "source": [
        "# splitting the dataset into train and test set\n",
        "from sklearn.model_selection import train_test_split\n",
        "x_train,x_test,y_train,y_test = train_test_split(x,y,test_size=0.2,random_state=0)"
      ],
      "metadata": {
        "id": "ulvTtcLgYUdw"
      },
      "execution_count": 31,
      "outputs": []
    },
    {
      "cell_type": "code",
      "source": [
        "x_train.shape,x_test.shape"
      ],
      "metadata": {
        "colab": {
          "base_uri": "https://localhost:8080/"
        },
        "id": "qp_qg-3KayNV",
        "outputId": "b80c256a-25fe-4a83-c121-02336dce35e6"
      },
      "execution_count": 32,
      "outputs": [
        {
          "output_type": "execute_result",
          "data": {
            "text/plain": [
              "((787, 30), (197, 30))"
            ]
          },
          "metadata": {},
          "execution_count": 32
        }
      ]
    },
    {
      "cell_type": "code",
      "source": [
        "# feature scaling\n",
        "from sklearn.preprocessing import StandardScaler\n",
        "sc = StandardScaler()\n",
        "x_train = sc.fit_transform(x_train)\n",
        "x_test = sc.transform(x_test)"
      ],
      "metadata": {
        "id": "R66cMxCCa0Cp"
      },
      "execution_count": 33,
      "outputs": []
    },
    {
      "cell_type": "code",
      "source": [
        "x_train"
      ],
      "metadata": {
        "colab": {
          "base_uri": "https://localhost:8080/"
        },
        "id": "MgUsmcpia_4U",
        "outputId": "2b91654a-a07d-4d8c-80cb-fb7f5e160af4"
      },
      "execution_count": 34,
      "outputs": [
        {
          "output_type": "execute_result",
          "data": {
            "text/plain": [
              "array([[-1.00688475,  0.28610933, -0.33973876, ..., -0.75088826,\n",
              "        -1.00049539, -0.36269524],\n",
              "       [-0.7735338 ,  0.51014563, -0.07691909, ...,  0.4689383 ,\n",
              "         0.61150701, -0.44894863],\n",
              "       [-0.80974484,  0.19184146,  0.11503418, ...,  0.31105195,\n",
              "         0.46160795, -0.44802407],\n",
              "       ...,\n",
              "       [ 1.58926708,  0.82948928, -0.42404084, ..., -0.18667478,\n",
              "        -0.15688915, -0.44844783],\n",
              "       [ 0.44000547,  0.51500111, -0.72169504, ...,  0.04301399,\n",
              "         0.64347065,  0.63594099],\n",
              "       [ 1.38263555,  0.81094997, -0.9240463 , ..., -0.0141448 ,\n",
              "        -0.24610547, -0.44417175]])"
            ]
          },
          "metadata": {},
          "execution_count": 34
        }
      ]
    },
    {
      "cell_type": "code",
      "source": [
        "y_train = y_train.to_numpy()\n",
        "y_test = y_test.to_numpy()"
      ],
      "metadata": {
        "id": "5XV6awVYbBSK"
      },
      "execution_count": 35,
      "outputs": []
    },
    {
      "cell_type": "code",
      "source": [
        "x_train.shape,x_test.shape"
      ],
      "metadata": {
        "colab": {
          "base_uri": "https://localhost:8080/"
        },
        "id": "i4nYDqq3bHCh",
        "outputId": "d1bc7324-ae2e-41e0-c3ef-784188c22e07"
      },
      "execution_count": 36,
      "outputs": [
        {
          "output_type": "execute_result",
          "data": {
            "text/plain": [
              "((787, 30), (197, 30))"
            ]
          },
          "metadata": {},
          "execution_count": 36
        }
      ]
    },
    {
      "cell_type": "code",
      "source": [
        "x_train = x_train.reshape(787,30,1)\n",
        "x_test = x_test.reshape(197,30,1)"
      ],
      "metadata": {
        "id": "-eJ6uTpKbKgi"
      },
      "execution_count": 37,
      "outputs": []
    },
    {
      "cell_type": "code",
      "source": [
        "x_train.shape,x_test.shape"
      ],
      "metadata": {
        "colab": {
          "base_uri": "https://localhost:8080/"
        },
        "id": "W__hwtAGbRj6",
        "outputId": "d5053ebe-ba83-4203-ef0e-21ae55be5919"
      },
      "execution_count": 38,
      "outputs": [
        {
          "output_type": "execute_result",
          "data": {
            "text/plain": [
              "((787, 30, 1), (197, 30, 1))"
            ]
          },
          "metadata": {},
          "execution_count": 38
        }
      ]
    },
    {
      "cell_type": "code",
      "source": [
        "# Creating the object\n",
        "model = tf.keras.models.Sequential()"
      ],
      "metadata": {
        "id": "x6Z5xUs_bTwJ"
      },
      "execution_count": 39,
      "outputs": []
    },
    {
      "cell_type": "code",
      "source": [
        "# 1st CNN layer\n",
        "model.add(tf.keras.layers.Conv1D(filters=32,kernel_size=2,padding=\"same\",activation=\"relu\",input_shape=(30,1)))"
      ],
      "metadata": {
        "id": "x5mBF2n9baP5"
      },
      "execution_count": 40,
      "outputs": []
    },
    {
      "cell_type": "code",
      "source": [
        "# adding batch normalization\n",
        "model.add(tf.keras.layers.BatchNormalization()) # fights internal covariance shift problem"
      ],
      "metadata": {
        "id": "VawdHvLtbqYq"
      },
      "execution_count": 41,
      "outputs": []
    },
    {
      "cell_type": "code",
      "source": [
        "# adding the maxpool layer\n",
        "model.add(tf.keras.layers.MaxPool1D(pool_size=2))"
      ],
      "metadata": {
        "id": "ItFFhiQKb5i-"
      },
      "execution_count": 42,
      "outputs": []
    },
    {
      "cell_type": "code",
      "source": [
        "# adding Dropout layer\n",
        "model.add(tf.keras.layers.Dropout(0.2))"
      ],
      "metadata": {
        "id": "5Pa1HyM5cGpr"
      },
      "execution_count": 43,
      "outputs": []
    },
    {
      "cell_type": "code",
      "source": [
        "# 2nd CNN layer\n",
        "model.add(tf.keras.layers.Conv1D(filters=64,kernel_size=2,padding=\"same\",activation=\"relu\"))\n",
        "# adding batch normalization\n",
        "model.add(tf.keras.layers.BatchNormalization())\n",
        "# adding the maxpool layer\n",
        "model.add(tf.keras.layers.MaxPool1D(pool_size=2))\n",
        "# adding Dropout layer\n",
        "model.add(tf.keras.layers.Dropout(0.3))"
      ],
      "metadata": {
        "id": "Vt3uLzuscMNA"
      },
      "execution_count": 44,
      "outputs": []
    },
    {
      "cell_type": "code",
      "source": [
        "# adding flatten layer\n",
        "model.add(tf.keras.layers.Flatten())"
      ],
      "metadata": {
        "id": "CXb_JHRfcc7k"
      },
      "execution_count": 45,
      "outputs": []
    },
    {
      "cell_type": "code",
      "source": [
        "# 1st dense layer\n",
        "model.add(tf.keras.layers.Dense(units=64,activation=\"relu\"))\n",
        "# dropout layer\n",
        "model.add(tf.keras.layers.Dropout(0.3))"
      ],
      "metadata": {
        "id": "7Kcx4-ozckdv"
      },
      "execution_count": 46,
      "outputs": []
    },
    {
      "cell_type": "code",
      "source": [
        "# output layer\n",
        "model.add(tf.keras.layers.Dense(units=1,activation=\"sigmoid\"))"
      ],
      "metadata": {
        "id": "Tr6gr4y2cwRv"
      },
      "execution_count": 47,
      "outputs": []
    },
    {
      "cell_type": "code",
      "source": [
        "model.summary()"
      ],
      "metadata": {
        "colab": {
          "base_uri": "https://localhost:8080/"
        },
        "id": "lWRM_FCMc07l",
        "outputId": "9de68691-2e94-493b-cd2c-f2f075ab2db1"
      },
      "execution_count": 48,
      "outputs": [
        {
          "output_type": "stream",
          "name": "stdout",
          "text": [
            "Model: \"sequential\"\n",
            "_________________________________________________________________\n",
            " Layer (type)                Output Shape              Param #   \n",
            "=================================================================\n",
            " conv1d (Conv1D)             (None, 30, 32)            96        \n",
            "                                                                 \n",
            " batch_normalization (BatchN  (None, 30, 32)           128       \n",
            " ormalization)                                                   \n",
            "                                                                 \n",
            " max_pooling1d (MaxPooling1D  (None, 15, 32)           0         \n",
            " )                                                               \n",
            "                                                                 \n",
            " dropout (Dropout)           (None, 15, 32)            0         \n",
            "                                                                 \n",
            " conv1d_1 (Conv1D)           (None, 15, 64)            4160      \n",
            "                                                                 \n",
            " batch_normalization_1 (Batc  (None, 15, 64)           256       \n",
            " hNormalization)                                                 \n",
            "                                                                 \n",
            " max_pooling1d_1 (MaxPooling  (None, 7, 64)            0         \n",
            " 1D)                                                             \n",
            "                                                                 \n",
            " dropout_1 (Dropout)         (None, 7, 64)             0         \n",
            "                                                                 \n",
            " flatten (Flatten)           (None, 448)               0         \n",
            "                                                                 \n",
            " dense (Dense)               (None, 64)                28736     \n",
            "                                                                 \n",
            " dropout_2 (Dropout)         (None, 64)                0         \n",
            "                                                                 \n",
            " dense_1 (Dense)             (None, 1)                 65        \n",
            "                                                                 \n",
            "=================================================================\n",
            "Total params: 33,441\n",
            "Trainable params: 33,249\n",
            "Non-trainable params: 192\n",
            "_________________________________________________________________\n"
          ]
        }
      ]
    },
    {
      "cell_type": "code",
      "source": [
        "opt = tf.keras.optimizers.Adam(learning_rate=0.0001)\n",
        "model.compile(optimizer=opt,loss=\"binary_crossentropy\",metrics=[\"accuracy\"])"
      ],
      "metadata": {
        "id": "ErxKVyzOc8kt"
      },
      "execution_count": 49,
      "outputs": []
    },
    {
      "cell_type": "code",
      "source": [
        "history = model.fit(x_train,y_train,epochs=25,validation_data=(x_test,y_test))"
      ],
      "metadata": {
        "colab": {
          "base_uri": "https://localhost:8080/"
        },
        "id": "FujAFhSpdMJE",
        "outputId": "30457053-91db-4a81-b9b6-59e67510def8"
      },
      "execution_count": 50,
      "outputs": [
        {
          "output_type": "stream",
          "name": "stdout",
          "text": [
            "Epoch 1/25\n",
            "25/25 [==============================] - 14s 37ms/step - loss: 0.8966 - accuracy: 0.5578 - val_loss: 0.6438 - val_accuracy: 0.7259\n",
            "Epoch 2/25\n",
            "25/25 [==============================] - 0s 10ms/step - loss: 0.6954 - accuracy: 0.6887 - val_loss: 0.6073 - val_accuracy: 0.8325\n",
            "Epoch 3/25\n",
            "25/25 [==============================] - 0s 9ms/step - loss: 0.5262 - accuracy: 0.7738 - val_loss: 0.5762 - val_accuracy: 0.8579\n",
            "Epoch 4/25\n",
            "25/25 [==============================] - 0s 12ms/step - loss: 0.4535 - accuracy: 0.8145 - val_loss: 0.5441 - val_accuracy: 0.8934\n",
            "Epoch 5/25\n",
            "25/25 [==============================] - 0s 9ms/step - loss: 0.4039 - accuracy: 0.8386 - val_loss: 0.5132 - val_accuracy: 0.9036\n",
            "Epoch 6/25\n",
            "25/25 [==============================] - 0s 12ms/step - loss: 0.4040 - accuracy: 0.8488 - val_loss: 0.4811 - val_accuracy: 0.9188\n",
            "Epoch 7/25\n",
            "25/25 [==============================] - 0s 10ms/step - loss: 0.4026 - accuracy: 0.8475 - val_loss: 0.4433 - val_accuracy: 0.9340\n",
            "Epoch 8/25\n",
            "25/25 [==============================] - 0s 9ms/step - loss: 0.3396 - accuracy: 0.8717 - val_loss: 0.4081 - val_accuracy: 0.9391\n",
            "Epoch 9/25\n",
            "25/25 [==============================] - 0s 11ms/step - loss: 0.3419 - accuracy: 0.8602 - val_loss: 0.3720 - val_accuracy: 0.9391\n",
            "Epoch 10/25\n",
            "25/25 [==============================] - 0s 11ms/step - loss: 0.3230 - accuracy: 0.8869 - val_loss: 0.3398 - val_accuracy: 0.9391\n",
            "Epoch 11/25\n",
            "25/25 [==============================] - 0s 11ms/step - loss: 0.3453 - accuracy: 0.8844 - val_loss: 0.3097 - val_accuracy: 0.9391\n",
            "Epoch 12/25\n",
            "25/25 [==============================] - 0s 12ms/step - loss: 0.3079 - accuracy: 0.8856 - val_loss: 0.2815 - val_accuracy: 0.9391\n",
            "Epoch 13/25\n",
            "25/25 [==============================] - 0s 11ms/step - loss: 0.2878 - accuracy: 0.8907 - val_loss: 0.2552 - val_accuracy: 0.9442\n",
            "Epoch 14/25\n",
            "25/25 [==============================] - 0s 10ms/step - loss: 0.2779 - accuracy: 0.8933 - val_loss: 0.2354 - val_accuracy: 0.9391\n",
            "Epoch 15/25\n",
            "25/25 [==============================] - 0s 11ms/step - loss: 0.2799 - accuracy: 0.8996 - val_loss: 0.2194 - val_accuracy: 0.9340\n",
            "Epoch 16/25\n",
            "25/25 [==============================] - 0s 11ms/step - loss: 0.2829 - accuracy: 0.8971 - val_loss: 0.2065 - val_accuracy: 0.9391\n",
            "Epoch 17/25\n",
            "25/25 [==============================] - 0s 10ms/step - loss: 0.3174 - accuracy: 0.9022 - val_loss: 0.1962 - val_accuracy: 0.9391\n",
            "Epoch 18/25\n",
            "25/25 [==============================] - 0s 9ms/step - loss: 0.2705 - accuracy: 0.9034 - val_loss: 0.1879 - val_accuracy: 0.9442\n",
            "Epoch 19/25\n",
            "25/25 [==============================] - 0s 12ms/step - loss: 0.2489 - accuracy: 0.9136 - val_loss: 0.1824 - val_accuracy: 0.9442\n",
            "Epoch 20/25\n",
            "25/25 [==============================] - 0s 13ms/step - loss: 0.2589 - accuracy: 0.9136 - val_loss: 0.1769 - val_accuracy: 0.9442\n",
            "Epoch 21/25\n",
            "25/25 [==============================] - 0s 11ms/step - loss: 0.2407 - accuracy: 0.9225 - val_loss: 0.1734 - val_accuracy: 0.9442\n",
            "Epoch 22/25\n",
            "25/25 [==============================] - 0s 11ms/step - loss: 0.2432 - accuracy: 0.9136 - val_loss: 0.1696 - val_accuracy: 0.9442\n",
            "Epoch 23/25\n",
            "25/25 [==============================] - 0s 13ms/step - loss: 0.2580 - accuracy: 0.9022 - val_loss: 0.1675 - val_accuracy: 0.9492\n",
            "Epoch 24/25\n",
            "25/25 [==============================] - 0s 10ms/step - loss: 0.2518 - accuracy: 0.9009 - val_loss: 0.1653 - val_accuracy: 0.9492\n",
            "Epoch 25/25\n",
            "25/25 [==============================] - 0s 12ms/step - loss: 0.2236 - accuracy: 0.9085 - val_loss: 0.1630 - val_accuracy: 0.9492\n"
          ]
        }
      ]
    },
    {
      "cell_type": "code",
      "source": [
        "# model predictions\n",
        "y_pred = (model.predict(x_test) > 0.5).astype(\"int32\")"
      ],
      "metadata": {
        "id": "68zefpbcdcrh"
      },
      "execution_count": 51,
      "outputs": []
    },
    {
      "cell_type": "code",
      "source": [
        "print(y_pred[101]),print(y_test[101])"
      ],
      "metadata": {
        "colab": {
          "base_uri": "https://localhost:8080/"
        },
        "id": "GxFK1AcUdp0D",
        "outputId": "4eba8beb-fb39-427f-fc01-dfadcae29522"
      },
      "execution_count": 54,
      "outputs": [
        {
          "output_type": "stream",
          "name": "stdout",
          "text": [
            "[1]\n",
            "1\n"
          ]
        },
        {
          "output_type": "execute_result",
          "data": {
            "text/plain": [
              "(None, None)"
            ]
          },
          "metadata": {},
          "execution_count": 54
        }
      ]
    },
    {
      "cell_type": "code",
      "source": [
        "# confusion matrix\n",
        "from sklearn.metrics import confusion_matrix,accuracy_score\n",
        "cm = confusion_matrix(y_test,y_pred)\n",
        "print(cm)"
      ],
      "metadata": {
        "colab": {
          "base_uri": "https://localhost:8080/"
        },
        "id": "ZuDxEPpMdrny",
        "outputId": "7859302b-b870-4de6-e514-06f2ed552bb8"
      },
      "execution_count": 55,
      "outputs": [
        {
          "output_type": "stream",
          "name": "stdout",
          "text": [
            "[[105   1]\n",
            " [  9  82]]\n"
          ]
        }
      ]
    },
    {
      "cell_type": "code",
      "source": [
        "acc_cm = accuracy_score(y_test,y_pred)"
      ],
      "metadata": {
        "id": "F-gi-iO4dxcE"
      },
      "execution_count": 56,
      "outputs": []
    },
    {
      "cell_type": "code",
      "source": [
        "print(acc_cm)"
      ],
      "metadata": {
        "colab": {
          "base_uri": "https://localhost:8080/"
        },
        "id": "3DmnfPbudzmx",
        "outputId": "8d815234-f7b8-409a-de6c-dc2389eb9a79"
      },
      "execution_count": 57,
      "outputs": [
        {
          "output_type": "stream",
          "name": "stdout",
          "text": [
            "0.949238578680203\n"
          ]
        }
      ]
    },
    {
      "cell_type": "markdown",
      "source": [
        "## LEARNING CURVE"
      ],
      "metadata": {
        "id": "mWhUKhoed2Xs"
      }
    },
    {
      "cell_type": "code",
      "source": [
        "# Plotting the learning curve\n",
        "def learning_curve(history,epoch):\n",
        "  # training vs validation accuracy\n",
        "  epoch_range = range(1,epoch+1)\n",
        "  plt.plot(epoch_range,history.history['accuracy'])\n",
        "  plt.plot(epoch_range,history.history['val_accuracy'])\n",
        "  plt.title(\"Model Accuracy\")\n",
        "  plt.ylabel(\"Accuracy\")\n",
        "  plt.xlabel(\"Epoch\")\n",
        "  plt.legend(['Train','val'],loc='upper left')\n",
        "  plt.show()\n",
        "  # training vs validation loss\n",
        "  epoch_range = range(1,epoch+1)\n",
        "  plt.plot(epoch_range,history.history['loss'])\n",
        "  plt.plot(epoch_range,history.history['val_loss'])\n",
        "  plt.title(\"Model Loss\")\n",
        "  plt.ylabel(\"Loss\")\n",
        "  plt.xlabel(\"Epoch\")\n",
        "  plt.legend(['Train','val'],loc='upper left')\n",
        "  plt.show()"
      ],
      "metadata": {
        "id": "_8qeTxRAd0r5"
      },
      "execution_count": 58,
      "outputs": []
    },
    {
      "cell_type": "code",
      "source": [
        "learning_curve(history,25)"
      ],
      "metadata": {
        "colab": {
          "base_uri": "https://localhost:8080/",
          "height": 573
        },
        "id": "j3T9zNMPd50i",
        "outputId": "4292cebe-c43f-488e-ce9b-e15a4831f93e"
      },
      "execution_count": 59,
      "outputs": [
        {
          "output_type": "display_data",
          "data": {
            "text/plain": [
              "<Figure size 432x288 with 1 Axes>"
            ],
            "image/png": "[encoded data removed]"
          },
          "metadata": {
            "needs_background": "light"
          }
        },
        {
          "output_type": "display_data",
          "data": {
            "text/plain": [
              "<Figure size 432x288 with 1 Axes>"
            ],
            "image/png": "[encoded data removed]"
          },
          "metadata": {
            "needs_background": "light"
          }
        }
      ]
    },
    {
      "cell_type": "code",
      "source": [
        ""
      ],
      "metadata": {
        "id": "Ov8nqmLyd8Nk"
      },
      "execution_count": null,
      "outputs": []
    }
  ]
}
