{
  "nbformat": 4,
  "nbformat_minor": 0,
  "metadata": {
    "colab": {
      "name": "Google_Stock_Price_Prediction.ipynb",
      "provenance": []
    },
    "kernelspec": {
      "name": "python3",
      "display_name": "Python 3"
    },
    "language_info": {
      "name": "python"
    },
    "accelerator": "GPU"
  },
  "cells": [
    {
      "cell_type": "code",
      "execution_count": 1,
      "metadata": {
        "id": "On9tg-EGxOXO"
      },
      "outputs": [],
      "source": [
        "#!pip install tensorflow-gpu"
      ]
    },
    {
      "cell_type": "code",
      "source": [
        "import tensorflow as tf\n",
        "print(tf.__version__)"
      ],
      "metadata": {
        "colab": {
          "base_uri": "https://localhost:8080/"
        },
        "id": "3riMoxt5xZWM",
        "outputId": "d12ec5dc-9994-4ce1-ef37-b824d23649ca"
      },
      "execution_count": 2,
      "outputs": [
        {
          "output_type": "stream",
          "name": "stdout",
          "text": [
            "2.8.0\n"
          ]
        }
      ]
    },
    {
      "cell_type": "code",
      "source": [
        "import pandas as pd\n",
        "import numpy as np\n",
        "import matplotlib.pyplot as plt"
      ],
      "metadata": {
        "id": "OnvHcL2Exb44"
      },
      "execution_count": 3,
      "outputs": []
    },
    {
      "cell_type": "code",
      "source": [
        "training_data = pd.read_csv(\"/content/GOOG_train.csv\")\n",
        "training_data.head()"
      ],
      "metadata": {
        "colab": {
          "base_uri": "https://localhost:8080/",
          "height": 206
        },
        "id": "D0LLvUhoxffW",
        "outputId": "e3d24a5d-0c16-4d2e-a388-af655e4bf453"
      },
      "execution_count": 4,
      "outputs": [
        {
          "output_type": "execute_result",
          "data": {
            "text/plain": [
              "         Date        Open        High         Low       Close   Adj Close  \\\n",
              "0  2017-04-28  910.659973  916.849976  905.770020  905.960022  905.960022   \n",
              "1  2017-05-01  901.940002  915.679993  901.450012  912.570007  912.570007   \n",
              "2  2017-05-02  909.619995  920.770020  909.453003  916.440002  916.440002   \n",
              "3  2017-05-03  914.859985  928.099976  912.543030  927.039978  927.039978   \n",
              "4  2017-05-04  926.070007  935.929993  924.590027  931.659973  931.659973   \n",
              "\n",
              "    Volume  \n",
              "0  3276300  \n",
              "1  2116000  \n",
              "2  1587200  \n",
              "3  1499500  \n",
              "4  1422100  "
            ],
            "text/html": [
              "\n",
              "  <div id=\"df-ffecec08-18a3-4211-8d6c-835911d1a747\">\n",
              "    <div class=\"colab-df-container\">\n",
              "      <div>\n",
              "<style scoped>\n",
              "    .dataframe tbody tr th:only-of-type {\n",
              "        vertical-align: middle;\n",
              "    }\n",
              "\n",
              "    .dataframe tbody tr th {\n",
              "        vertical-align: top;\n",
              "    }\n",
              "\n",
              "    .dataframe thead th {\n",
              "        text-align: right;\n",
              "    }\n",
              "</style>\n",
              "<table border=\"1\" class=\"dataframe\">\n",
              "  <thead>\n",
              "    <tr style=\"text-align: right;\">\n",
              "      <th></th>\n",
              "      <th>Date</th>\n",
              "      <th>Open</th>\n",
              "      <th>High</th>\n",
              "      <th>Low</th>\n",
              "      <th>Close</th>\n",
              "      <th>Adj Close</th>\n",
              "      <th>Volume</th>\n",
              "    </tr>\n",
              "  </thead>\n",
              "  <tbody>\n",
              "    <tr>\n",
              "      <th>0</th>\n",
              "      <td>2017-04-28</td>\n",
              "      <td>910.659973</td>\n",
              "      <td>916.849976</td>\n",
              "      <td>905.770020</td>\n",
              "      <td>905.960022</td>\n",
              "      <td>905.960022</td>\n",
              "      <td>3276300</td>\n",
              "    </tr>\n",
              "    <tr>\n",
              "      <th>1</th>\n",
              "      <td>2017-05-01</td>\n",
              "      <td>901.940002</td>\n",
              "      <td>915.679993</td>\n",
              "      <td>901.450012</td>\n",
              "      <td>912.570007</td>\n",
              "      <td>912.570007</td>\n",
              "      <td>2116000</td>\n",
              "    </tr>\n",
              "    <tr>\n",
              "      <th>2</th>\n",
              "      <td>2017-05-02</td>\n",
              "      <td>909.619995</td>\n",
              "      <td>920.770020</td>\n",
              "      <td>909.453003</td>\n",
              "      <td>916.440002</td>\n",
              "      <td>916.440002</td>\n",
              "      <td>1587200</td>\n",
              "    </tr>\n",
              "    <tr>\n",
              "      <th>3</th>\n",
              "      <td>2017-05-03</td>\n",
              "      <td>914.859985</td>\n",
              "      <td>928.099976</td>\n",
              "      <td>912.543030</td>\n",
              "      <td>927.039978</td>\n",
              "      <td>927.039978</td>\n",
              "      <td>1499500</td>\n",
              "    </tr>\n",
              "    <tr>\n",
              "      <th>4</th>\n",
              "      <td>2017-05-04</td>\n",
              "      <td>926.070007</td>\n",
              "      <td>935.929993</td>\n",
              "      <td>924.590027</td>\n",
              "      <td>931.659973</td>\n",
              "      <td>931.659973</td>\n",
              "      <td>1422100</td>\n",
              "    </tr>\n",
              "  </tbody>\n",
              "</table>\n",
              "</div>\n",
              "      <button class=\"colab-df-convert\" onclick=\"convertToInteractive('df-ffecec08-18a3-4211-8d6c-835911d1a747')\"\n",
              "              title=\"Convert this dataframe to an interactive table.\"\n",
              "              style=\"display:none;\">\n",
              "        \n",
              "  <svg xmlns=\"http://www.w3.org/2000/svg\" height=\"24px\"viewBox=\"0 0 24 24\"\n",
              "       width=\"24px\">\n",
              "    <path d=\"M0 0h24v24H0V0z\" fill=\"none\"/>\n",
              "    <path d=\"M18.56 5.44l.94 2.06.94-2.06 2.06-.94-2.06-.94-.94-2.06-.94 2.06-2.06.94zm-11 1L8.5 8.5l.94-2.06 2.06-.94-2.06-.94L8.5 2.5l-.94 2.06-2.06.94zm10 10l.94 2.06.94-2.06 2.06-.94-2.06-.94-.94-2.06-.94 2.06-2.06.94z\"/><path d=\"M17.41 7.96l-1.37-1.37c-.4-.4-.92-.59-1.43-.59-.52 0-1.04.2-1.43.59L10.3 9.45l-7.72 7.72c-.78.78-.78 2.05 0 2.83L4 21.41c.39.39.9.59 1.41.59.51 0 1.02-.2 1.41-.59l7.78-7.78 2.81-2.81c.8-.78.8-2.07 0-2.86zM5.41 20L4 18.59l7.72-7.72 1.47 1.35L5.41 20z\"/>\n",
              "  </svg>\n",
              "      </button>\n",
              "      \n",
              "  <style>\n",
              "    .colab-df-container {\n",
              "      display:flex;\n",
              "      flex-wrap:wrap;\n",
              "      gap: 12px;\n",
              "    }\n",
              "\n",
              "    .colab-df-convert {\n",
              "      background-color: #E8F0FE;\n",
              "      border: none;\n",
              "      border-radius: 50%;\n",
              "      cursor: pointer;\n",
              "      display: none;\n",
              "      fill: #1967D2;\n",
              "      height: 32px;\n",
              "      padding: 0 0 0 0;\n",
              "      width: 32px;\n",
              "    }\n",
              "\n",
              "    .colab-df-convert:hover {\n",
              "      background-color: #E2EBFA;\n",
              "      box-shadow: 0px 1px 2px rgba(60, 64, 67, 0.3), 0px 1px 3px 1px rgba(60, 64, 67, 0.15);\n",
              "      fill: #174EA6;\n",
              "    }\n",
              "\n",
              "    [theme=dark] .colab-df-convert {\n",
              "      background-color: #3B4455;\n",
              "      fill: #D2E3FC;\n",
              "    }\n",
              "\n",
              "    [theme=dark] .colab-df-convert:hover {\n",
              "      background-color: #434B5C;\n",
              "      box-shadow: 0px 1px 3px 1px rgba(0, 0, 0, 0.15);\n",
              "      filter: drop-shadow(0px 1px 2px rgba(0, 0, 0, 0.3));\n",
              "      fill: #FFFFFF;\n",
              "    }\n",
              "  </style>\n",
              "\n",
              "      <script>\n",
              "        const buttonEl =\n",
              "          document.querySelector('#df-ffecec08-18a3-4211-8d6c-835911d1a747 button.colab-df-convert');\n",
              "        buttonEl.style.display =\n",
              "          google.colab.kernel.accessAllowed ? 'block' : 'none';\n",
              "\n",
              "        async function convertToInteractive(key) {\n",
              "          const element = document.querySelector('#df-ffecec08-18a3-4211-8d6c-835911d1a747');\n",
              "          const dataTable =\n",
              "            await google.colab.kernel.invokeFunction('convertToInteractive',\n",
              "                                                     [key], {});\n",
              "          if (!dataTable) return;\n",
              "\n",
              "          const docLinkHtml = 'Like what you see? Visit the ' +\n",
              "            '<a target=\"_blank\" href=https://colab.research.google.com/notebooks/data_table.ipynb>data table notebook</a>'\n",
              "            + ' to learn more about interactive tables.';\n",
              "          element.innerHTML = '';\n",
              "          dataTable['output_type'] = 'display_data';\n",
              "          await google.colab.output.renderOutput(dataTable, element);\n",
              "          const docLink = document.createElement('div');\n",
              "          docLink.innerHTML = docLinkHtml;\n",
              "          element.appendChild(docLink);\n",
              "        }\n",
              "      </script>\n",
              "    </div>\n",
              "  </div>\n",
              "  "
            ]
          },
          "metadata": {},
          "execution_count": 4
        }
      ]
    },
    {
      "cell_type": "code",
      "source": [
        "training_data.tail()"
      ],
      "metadata": {
        "colab": {
          "base_uri": "https://localhost:8080/",
          "height": 206
        },
        "id": "MJarYmF5yyYW",
        "outputId": "c272449b-303c-411f-c874-477d9777c50f"
      },
      "execution_count": 5,
      "outputs": [
        {
          "output_type": "execute_result",
          "data": {
            "text/plain": [
              "            Date         Open         High          Low        Close  \\\n",
              "1254  2022-04-21  2587.000000  2606.149902  2493.000000  2498.750000   \n",
              "1255  2022-04-22  2500.000000  2509.040039  2382.810059  2392.280029   \n",
              "1256  2022-04-25  2388.590088  2465.560059  2375.385010  2465.000000   \n",
              "1257  2022-04-26  2455.000000  2455.000000  2383.237061  2390.120117   \n",
              "1258  2022-04-27  2287.459961  2350.000000  2262.485107  2300.409912   \n",
              "\n",
              "        Adj Close   Volume  \n",
              "1254  2498.750000  1507900  \n",
              "1255  2392.280029  2320500  \n",
              "1256  2465.000000  1726100  \n",
              "1257  2390.120117  2469700  \n",
              "1258  2300.409912  3111900  "
            ],
            "text/html": [
              "\n",
              "  <div id=\"df-1efbcd9b-60f6-4244-adb5-8264846c3a56\">\n",
              "    <div class=\"colab-df-container\">\n",
              "      <div>\n",
              "<style scoped>\n",
              "    .dataframe tbody tr th:only-of-type {\n",
              "        vertical-align: middle;\n",
              "    }\n",
              "\n",
              "    .dataframe tbody tr th {\n",
              "        vertical-align: top;\n",
              "    }\n",
              "\n",
              "    .dataframe thead th {\n",
              "        text-align: right;\n",
              "    }\n",
              "</style>\n",
              "<table border=\"1\" class=\"dataframe\">\n",
              "  <thead>\n",
              "    <tr style=\"text-align: right;\">\n",
              "      <th></th>\n",
              "      <th>Date</th>\n",
              "      <th>Open</th>\n",
              "      <th>High</th>\n",
              "      <th>Low</th>\n",
              "      <th>Close</th>\n",
              "      <th>Adj Close</th>\n",
              "      <th>Volume</th>\n",
              "    </tr>\n",
              "  </thead>\n",
              "  <tbody>\n",
              "    <tr>\n",
              "      <th>1254</th>\n",
              "      <td>2022-04-21</td>\n",
              "      <td>2587.000000</td>\n",
              "      <td>2606.149902</td>\n",
              "      <td>2493.000000</td>\n",
              "      <td>2498.750000</td>\n",
              "      <td>2498.750000</td>\n",
              "      <td>1507900</td>\n",
              "    </tr>\n",
              "    <tr>\n",
              "      <th>1255</th>\n",
              "      <td>2022-04-22</td>\n",
              "      <td>2500.000000</td>\n",
              "      <td>2509.040039</td>\n",
              "      <td>2382.810059</td>\n",
              "      <td>2392.280029</td>\n",
              "      <td>2392.280029</td>\n",
              "      <td>2320500</td>\n",
              "    </tr>\n",
              "    <tr>\n",
              "      <th>1256</th>\n",
              "      <td>2022-04-25</td>\n",
              "      <td>2388.590088</td>\n",
              "      <td>2465.560059</td>\n",
              "      <td>2375.385010</td>\n",
              "      <td>2465.000000</td>\n",
              "      <td>2465.000000</td>\n",
              "      <td>1726100</td>\n",
              "    </tr>\n",
              "    <tr>\n",
              "      <th>1257</th>\n",
              "      <td>2022-04-26</td>\n",
              "      <td>2455.000000</td>\n",
              "      <td>2455.000000</td>\n",
              "      <td>2383.237061</td>\n",
              "      <td>2390.120117</td>\n",
              "      <td>2390.120117</td>\n",
              "      <td>2469700</td>\n",
              "    </tr>\n",
              "    <tr>\n",
              "      <th>1258</th>\n",
              "      <td>2022-04-27</td>\n",
              "      <td>2287.459961</td>\n",
              "      <td>2350.000000</td>\n",
              "      <td>2262.485107</td>\n",
              "      <td>2300.409912</td>\n",
              "      <td>2300.409912</td>\n",
              "      <td>3111900</td>\n",
              "    </tr>\n",
              "  </tbody>\n",
              "</table>\n",
              "</div>\n",
              "      <button class=\"colab-df-convert\" onclick=\"convertToInteractive('df-1efbcd9b-60f6-4244-adb5-8264846c3a56')\"\n",
              "              title=\"Convert this dataframe to an interactive table.\"\n",
              "              style=\"display:none;\">\n",
              "        \n",
              "  <svg xmlns=\"http://www.w3.org/2000/svg\" height=\"24px\"viewBox=\"0 0 24 24\"\n",
              "       width=\"24px\">\n",
              "    <path d=\"M0 0h24v24H0V0z\" fill=\"none\"/>\n",
              "    <path d=\"M18.56 5.44l.94 2.06.94-2.06 2.06-.94-2.06-.94-.94-2.06-.94 2.06-2.06.94zm-11 1L8.5 8.5l.94-2.06 2.06-.94-2.06-.94L8.5 2.5l-.94 2.06-2.06.94zm10 10l.94 2.06.94-2.06 2.06-.94-2.06-.94-.94-2.06-.94 2.06-2.06.94z\"/><path d=\"M17.41 7.96l-1.37-1.37c-.4-.4-.92-.59-1.43-.59-.52 0-1.04.2-1.43.59L10.3 9.45l-7.72 7.72c-.78.78-.78 2.05 0 2.83L4 21.41c.39.39.9.59 1.41.59.51 0 1.02-.2 1.41-.59l7.78-7.78 2.81-2.81c.8-.78.8-2.07 0-2.86zM5.41 20L4 18.59l7.72-7.72 1.47 1.35L5.41 20z\"/>\n",
              "  </svg>\n",
              "      </button>\n",
              "      \n",
              "  <style>\n",
              "    .colab-df-container {\n",
              "      display:flex;\n",
              "      flex-wrap:wrap;\n",
              "      gap: 12px;\n",
              "    }\n",
              "\n",
              "    .colab-df-convert {\n",
              "      background-color: #E8F0FE;\n",
              "      border: none;\n",
              "      border-radius: 50%;\n",
              "      cursor: pointer;\n",
              "      display: none;\n",
              "      fill: #1967D2;\n",
              "      height: 32px;\n",
              "      padding: 0 0 0 0;\n",
              "      width: 32px;\n",
              "    }\n",
              "\n",
              "    .colab-df-convert:hover {\n",
              "      background-color: #E2EBFA;\n",
              "      box-shadow: 0px 1px 2px rgba(60, 64, 67, 0.3), 0px 1px 3px 1px rgba(60, 64, 67, 0.15);\n",
              "      fill: #174EA6;\n",
              "    }\n",
              "\n",
              "    [theme=dark] .colab-df-convert {\n",
              "      background-color: #3B4455;\n",
              "      fill: #D2E3FC;\n",
              "    }\n",
              "\n",
              "    [theme=dark] .colab-df-convert:hover {\n",
              "      background-color: #434B5C;\n",
              "      box-shadow: 0px 1px 3px 1px rgba(0, 0, 0, 0.15);\n",
              "      filter: drop-shadow(0px 1px 2px rgba(0, 0, 0, 0.3));\n",
              "      fill: #FFFFFF;\n",
              "    }\n",
              "  </style>\n",
              "\n",
              "      <script>\n",
              "        const buttonEl =\n",
              "          document.querySelector('#df-1efbcd9b-60f6-4244-adb5-8264846c3a56 button.colab-df-convert');\n",
              "        buttonEl.style.display =\n",
              "          google.colab.kernel.accessAllowed ? 'block' : 'none';\n",
              "\n",
              "        async function convertToInteractive(key) {\n",
              "          const element = document.querySelector('#df-1efbcd9b-60f6-4244-adb5-8264846c3a56');\n",
              "          const dataTable =\n",
              "            await google.colab.kernel.invokeFunction('convertToInteractive',\n",
              "                                                     [key], {});\n",
              "          if (!dataTable) return;\n",
              "\n",
              "          const docLinkHtml = 'Like what you see? Visit the ' +\n",
              "            '<a target=\"_blank\" href=https://colab.research.google.com/notebooks/data_table.ipynb>data table notebook</a>'\n",
              "            + ' to learn more about interactive tables.';\n",
              "          element.innerHTML = '';\n",
              "          dataTable['output_type'] = 'display_data';\n",
              "          await google.colab.output.renderOutput(dataTable, element);\n",
              "          const docLink = document.createElement('div');\n",
              "          docLink.innerHTML = docLinkHtml;\n",
              "          element.appendChild(docLink);\n",
              "        }\n",
              "      </script>\n",
              "    </div>\n",
              "  </div>\n",
              "  "
            ]
          },
          "metadata": {},
          "execution_count": 5
        }
      ]
    },
    {
      "cell_type": "code",
      "source": [
        "training_data.info()"
      ],
      "metadata": {
        "colab": {
          "base_uri": "https://localhost:8080/"
        },
        "id": "s60WS8Ecy1OH",
        "outputId": "62827dc3-8677-4737-f044-9ffe00fed168"
      },
      "execution_count": 6,
      "outputs": [
        {
          "output_type": "stream",
          "name": "stdout",
          "text": [
            "<class 'pandas.core.frame.DataFrame'>\n",
            "RangeIndex: 1259 entries, 0 to 1258\n",
            "Data columns (total 7 columns):\n",
            " #   Column     Non-Null Count  Dtype  \n",
            "---  ------     --------------  -----  \n",
            " 0   Date       1259 non-null   object \n",
            " 1   Open       1259 non-null   float64\n",
            " 2   High       1259 non-null   float64\n",
            " 3   Low        1259 non-null   float64\n",
            " 4   Close      1259 non-null   float64\n",
            " 5   Adj Close  1259 non-null   float64\n",
            " 6   Volume     1259 non-null   int64  \n",
            "dtypes: float64(5), int64(1), object(1)\n",
            "memory usage: 69.0+ KB\n"
          ]
        }
      ]
    },
    {
      "cell_type": "code",
      "source": [
        "training_set = training_data.iloc[:,1:2].values"
      ],
      "metadata": {
        "id": "ZxcGGFhqy6wS"
      },
      "execution_count": 7,
      "outputs": []
    },
    {
      "cell_type": "code",
      "source": [
        "training_set.shape, training_data.shape"
      ],
      "metadata": {
        "colab": {
          "base_uri": "https://localhost:8080/"
        },
        "id": "y1x0NEFdzJvF",
        "outputId": "acc8a207-7108-46e3-b802-7d657f69cfed"
      },
      "execution_count": 8,
      "outputs": [
        {
          "output_type": "execute_result",
          "data": {
            "text/plain": [
              "((1259, 1), (1259, 7))"
            ]
          },
          "metadata": {},
          "execution_count": 8
        }
      ]
    },
    {
      "cell_type": "code",
      "source": [
        "# feature scaling\n",
        "from sklearn.preprocessing import MinMaxScaler \n",
        "sc = MinMaxScaler(feature_range=(0,1))\n",
        "training_set_scaled = sc.fit_transform(training_set)"
      ],
      "metadata": {
        "id": "8X983ka3zLZp"
      },
      "execution_count": 9,
      "outputs": []
    },
    {
      "cell_type": "code",
      "source": [
        "training_set_scaled"
      ],
      "metadata": {
        "colab": {
          "base_uri": "https://localhost:8080/"
        },
        "id": "acdXrw2Rzh9K",
        "outputId": "03ec9ce0-aa30-4d5e-bf39-840d5f35fbf6"
      },
      "execution_count": 10,
      "outputs": [
        {
          "output_type": "execute_result",
          "data": {
            "text/plain": [
              "array([[4.16760538e-03],\n",
              "       [8.42852523e-05],\n",
              "       [3.68061258e-03],\n",
              "       ...,\n",
              "       [6.96241212e-01],\n",
              "       [7.27339129e-01],\n",
              "       [6.48884784e-01]])"
            ]
          },
          "metadata": {},
          "execution_count": 10
        }
      ]
    },
    {
      "cell_type": "code",
      "source": [
        "# Creating a data structure with 60 timestamps and 1 output\n",
        "x_train = []\n",
        "y_train = []\n",
        "\n",
        "for i in range(60,1259):\n",
        "  x_train.append(training_set_scaled[i-60:i,0])\n",
        "  y_train.append(training_set_scaled[i,0])\n",
        "\n",
        "# converting x_train and y_train into numpy array\n",
        "x_train,y_train = np.array(x_train),np.array(y_train)"
      ],
      "metadata": {
        "id": "6Z86xP59zjgM"
      },
      "execution_count": 11,
      "outputs": []
    },
    {
      "cell_type": "code",
      "source": [
        "x_train"
      ],
      "metadata": {
        "colab": {
          "base_uri": "https://localhost:8080/"
        },
        "id": "Ku-gYXsj0k-d",
        "outputId": "2b9db3eb-25ae-425a-983f-60f7a3d90f6f"
      },
      "execution_count": 12,
      "outputs": [
        {
          "output_type": "execute_result",
          "data": {
            "text/plain": [
              "array([[4.16760538e-03, 8.42852523e-05, 3.68061258e-03, ...,\n",
              "        3.42962523e-02, 2.83257815e-02, 3.29944419e-02],\n",
              "       [8.42852523e-05, 3.68061258e-03, 6.13435429e-03, ...,\n",
              "        2.83257815e-02, 3.29944419e-02, 2.43735631e-02],\n",
              "       [3.68061258e-03, 6.13435429e-03, 1.13836961e-02, ...,\n",
              "        3.29944419e-02, 2.43735631e-02, 2.47809576e-02],\n",
              "       ...,\n",
              "       [8.07984956e-01, 7.95238600e-01, 8.34554717e-01, ...,\n",
              "        8.07263798e-01, 7.89151061e-01, 7.48411378e-01],\n",
              "       [7.95238600e-01, 8.34554717e-01, 8.68616833e-01, ...,\n",
              "        7.89151061e-01, 7.48411378e-01, 6.96241212e-01],\n",
              "       [8.34554717e-01, 8.68616833e-01, 1.00000000e+00, ...,\n",
              "        7.48411378e-01, 6.96241212e-01, 7.27339129e-01]])"
            ]
          },
          "metadata": {},
          "execution_count": 12
        }
      ]
    },
    {
      "cell_type": "code",
      "source": [
        "y_train"
      ],
      "metadata": {
        "colab": {
          "base_uri": "https://localhost:8080/"
        },
        "id": "ESrK4yA_0mfH",
        "outputId": "79ab53a6-33d2-49f1-fbb0-8431feabd733"
      },
      "execution_count": 13,
      "outputs": [
        {
          "output_type": "execute_result",
          "data": {
            "text/plain": [
              "array([0.02437356, 0.02478096, 0.02342299, ..., 0.69624121, 0.72733913,\n",
              "       0.64888478])"
            ]
          },
          "metadata": {},
          "execution_count": 13
        }
      ]
    },
    {
      "cell_type": "code",
      "source": [
        "x_train.shape"
      ],
      "metadata": {
        "colab": {
          "base_uri": "https://localhost:8080/"
        },
        "id": "h_1AH8BG0rjY",
        "outputId": "c4a45142-4c92-4bb6-b85c-6c59b634066c"
      },
      "execution_count": 14,
      "outputs": [
        {
          "output_type": "execute_result",
          "data": {
            "text/plain": [
              "(1199, 60)"
            ]
          },
          "metadata": {},
          "execution_count": 14
        }
      ]
    },
    {
      "cell_type": "code",
      "source": [
        "# reshaping the dataset\n",
        "x_train = x_train.reshape(1199,60,1)"
      ],
      "metadata": {
        "id": "V1C9Ex9x0v2w"
      },
      "execution_count": 15,
      "outputs": []
    },
    {
      "cell_type": "code",
      "source": [
        "x_train.shape"
      ],
      "metadata": {
        "colab": {
          "base_uri": "https://localhost:8080/"
        },
        "id": "fRLJZF5v05UP",
        "outputId": "21139091-9de9-446d-94d6-7a1c4d3a508c"
      },
      "execution_count": 16,
      "outputs": [
        {
          "output_type": "execute_result",
          "data": {
            "text/plain": [
              "(1199, 60, 1)"
            ]
          },
          "metadata": {},
          "execution_count": 16
        }
      ]
    },
    {
      "cell_type": "code",
      "source": [
        "# BUILDING THE LSTM\n",
        "# defining an object\n",
        "model = tf.keras.models.Sequential()"
      ],
      "metadata": {
        "id": "oLtdzWFW06J_"
      },
      "execution_count": 17,
      "outputs": []
    },
    {
      "cell_type": "code",
      "source": [
        "# 1st LSTM layer\n",
        "model.add(tf.keras.layers.LSTM(units=60,activation=\"relu\",return_sequences=True,input_shape=(60,1)))\n",
        "# adding dropout layer\n",
        "model.add(tf.keras.layers.Dropout(0.2))\n",
        "# 2nd LSTM layer\n",
        "model.add(tf.keras.layers.LSTM(units=60,activation=\"relu\",return_sequences=True))\n",
        "# adding dropout layer\n",
        "model.add(tf.keras.layers.Dropout(0.2))\n",
        "# 3rd LSTM layer\n",
        "model.add(tf.keras.layers.LSTM(units=80,activation=\"relu\",return_sequences=True))\n",
        "# adding dropout layer\n",
        "model.add(tf.keras.layers.Dropout(0.2))\n",
        "# 4th LSTM layer\n",
        "model.add(tf.keras.layers.LSTM(units=120,activation=\"relu\"))\n",
        "# adding dropout layer\n",
        "model.add(tf.keras.layers.Dropout(0.2))\n",
        "# adding output layer\n",
        "model.add(tf.keras.layers.Dense(units=1))"
      ],
      "metadata": {
        "colab": {
          "base_uri": "https://localhost:8080/"
        },
        "id": "7cCkFqvu1HAp",
        "outputId": "2b441ff3-bfaf-4743-c42b-df1affa9d45b"
      },
      "execution_count": 18,
      "outputs": [
        {
          "output_type": "stream",
          "name": "stdout",
          "text": [
            "WARNING:tensorflow:Layer lstm will not use cuDNN kernels since it doesn't meet the criteria. It will use a generic GPU kernel as fallback when running on GPU.\n",
            "WARNING:tensorflow:Layer lstm_1 will not use cuDNN kernels since it doesn't meet the criteria. It will use a generic GPU kernel as fallback when running on GPU.\n",
            "WARNING:tensorflow:Layer lstm_2 will not use cuDNN kernels since it doesn't meet the criteria. It will use a generic GPU kernel as fallback when running on GPU.\n",
            "WARNING:tensorflow:Layer lstm_3 will not use cuDNN kernels since it doesn't meet the criteria. It will use a generic GPU kernel as fallback when running on GPU.\n"
          ]
        }
      ]
    },
    {
      "cell_type": "code",
      "source": [
        "model.summary()"
      ],
      "metadata": {
        "colab": {
          "base_uri": "https://localhost:8080/"
        },
        "id": "84lkHDmW13Qe",
        "outputId": "6444c020-3a7c-4b9b-aba2-9838da1aefd3"
      },
      "execution_count": 19,
      "outputs": [
        {
          "output_type": "stream",
          "name": "stdout",
          "text": [
            "Model: \"sequential\"\n",
            "_________________________________________________________________\n",
            " Layer (type)                Output Shape              Param #   \n",
            "=================================================================\n",
            " lstm (LSTM)                 (None, 60, 60)            14880     \n",
            "                                                                 \n",
            " dropout (Dropout)           (None, 60, 60)            0         \n",
            "                                                                 \n",
            " lstm_1 (LSTM)               (None, 60, 60)            29040     \n",
            "                                                                 \n",
            " dropout_1 (Dropout)         (None, 60, 60)            0         \n",
            "                                                                 \n",
            " lstm_2 (LSTM)               (None, 60, 80)            45120     \n",
            "                                                                 \n",
            " dropout_2 (Dropout)         (None, 60, 80)            0         \n",
            "                                                                 \n",
            " lstm_3 (LSTM)               (None, 120)               96480     \n",
            "                                                                 \n",
            " dropout_3 (Dropout)         (None, 120)               0         \n",
            "                                                                 \n",
            " dense (Dense)               (None, 1)                 121       \n",
            "                                                                 \n",
            "=================================================================\n",
            "Total params: 185,641\n",
            "Trainable params: 185,641\n",
            "Non-trainable params: 0\n",
            "_________________________________________________________________\n"
          ]
        }
      ]
    },
    {
      "cell_type": "code",
      "source": [
        "# compile the model\n",
        "# optimizer = adam is better than rmsprop here although rmsprop is better for rnns\n",
        "model.compile(optimizer=\"adam\",loss=\"mean_squared_error\")\n",
        "# loss = mse because of a regression problem"
      ],
      "metadata": {
        "id": "KxQaP3-a14oo"
      },
      "execution_count": 20,
      "outputs": []
    },
    {
      "cell_type": "code",
      "source": [
        "model.fit(x_train,y_train,batch_size=32,epochs=100)"
      ],
      "metadata": {
        "colab": {
          "base_uri": "https://localhost:8080/"
        },
        "id": "ynRefKm42Rph",
        "outputId": "98be077a-f875-454b-a451-45a6291eba58"
      },
      "execution_count": 21,
      "outputs": [
        {
          "output_type": "stream",
          "name": "stdout",
          "text": [
            "Epoch 1/100\n",
            "38/38 [==============================] - 30s 603ms/step - loss: 0.0443\n",
            "Epoch 2/100\n",
            "38/38 [==============================] - 20s 524ms/step - loss: 0.0050\n",
            "Epoch 3/100\n",
            "38/38 [==============================] - 22s 571ms/step - loss: 0.0037\n",
            "Epoch 4/100\n",
            "38/38 [==============================] - 21s 541ms/step - loss: 0.0039\n",
            "Epoch 5/100\n",
            "38/38 [==============================] - 20s 523ms/step - loss: 0.0038\n",
            "Epoch 6/100\n",
            "38/38 [==============================] - 20s 525ms/step - loss: 0.0036\n",
            "Epoch 7/100\n",
            "38/38 [==============================] - 20s 534ms/step - loss: 0.0042\n",
            "Epoch 8/100\n",
            "38/38 [==============================] - 20s 531ms/step - loss: 0.0043\n",
            "Epoch 9/100\n",
            "38/38 [==============================] - 20s 538ms/step - loss: 0.0030\n",
            "Epoch 10/100\n",
            "38/38 [==============================] - 20s 528ms/step - loss: 0.0031\n",
            "Epoch 11/100\n",
            "38/38 [==============================] - 20s 532ms/step - loss: 0.0028\n",
            "Epoch 12/100\n",
            "38/38 [==============================] - 21s 543ms/step - loss: 0.0029\n",
            "Epoch 13/100\n",
            "38/38 [==============================] - 20s 535ms/step - loss: 0.0033\n",
            "Epoch 14/100\n",
            "38/38 [==============================] - 20s 529ms/step - loss: 0.0031\n",
            "Epoch 15/100\n",
            "38/38 [==============================] - 20s 530ms/step - loss: 0.0027\n",
            "Epoch 16/100\n",
            "38/38 [==============================] - 20s 530ms/step - loss: 0.0031\n",
            "Epoch 17/100\n",
            "38/38 [==============================] - 20s 526ms/step - loss: 0.0027\n",
            "Epoch 18/100\n",
            "38/38 [==============================] - 20s 537ms/step - loss: 0.0026\n",
            "Epoch 19/100\n",
            "38/38 [==============================] - 20s 525ms/step - loss: 0.0024\n",
            "Epoch 20/100\n",
            "38/38 [==============================] - 20s 524ms/step - loss: 0.0026\n",
            "Epoch 21/100\n",
            "38/38 [==============================] - 21s 544ms/step - loss: 0.0031\n",
            "Epoch 22/100\n",
            "38/38 [==============================] - 20s 528ms/step - loss: 0.0026\n",
            "Epoch 23/100\n",
            "38/38 [==============================] - 20s 532ms/step - loss: 0.0033\n",
            "Epoch 24/100\n",
            "38/38 [==============================] - 20s 533ms/step - loss: 0.0025\n",
            "Epoch 25/100\n",
            "38/38 [==============================] - 21s 541ms/step - loss: 0.0023\n",
            "Epoch 26/100\n",
            "38/38 [==============================] - 21s 550ms/step - loss: 0.0025\n",
            "Epoch 27/100\n",
            "38/38 [==============================] - 21s 557ms/step - loss: 0.0030\n",
            "Epoch 28/100\n",
            "38/38 [==============================] - 21s 548ms/step - loss: 0.0022\n",
            "Epoch 29/100\n",
            "38/38 [==============================] - 21s 562ms/step - loss: 0.0022\n",
            "Epoch 30/100\n",
            "38/38 [==============================] - 22s 568ms/step - loss: 0.0020\n",
            "Epoch 31/100\n",
            "38/38 [==============================] - 21s 541ms/step - loss: 0.0020\n",
            "Epoch 32/100\n",
            "38/38 [==============================] - 21s 540ms/step - loss: 0.0020\n",
            "Epoch 33/100\n",
            "38/38 [==============================] - 21s 549ms/step - loss: 0.0021\n",
            "Epoch 34/100\n",
            "38/38 [==============================] - 21s 543ms/step - loss: 0.0021\n",
            "Epoch 35/100\n",
            "38/38 [==============================] - 21s 551ms/step - loss: 0.0020\n",
            "Epoch 36/100\n",
            "38/38 [==============================] - 21s 564ms/step - loss: 0.0022\n",
            "Epoch 37/100\n",
            "38/38 [==============================] - 21s 547ms/step - loss: 0.0020\n",
            "Epoch 38/100\n",
            "38/38 [==============================] - 21s 545ms/step - loss: 0.0023\n",
            "Epoch 39/100\n",
            "38/38 [==============================] - 21s 547ms/step - loss: 0.0021\n",
            "Epoch 40/100\n",
            "38/38 [==============================] - 21s 552ms/step - loss: 0.0019\n",
            "Epoch 41/100\n",
            "38/38 [==============================] - 21s 542ms/step - loss: 0.0021\n",
            "Epoch 42/100\n",
            "38/38 [==============================] - 21s 544ms/step - loss: 0.0021\n",
            "Epoch 43/100\n",
            "38/38 [==============================] - 20s 536ms/step - loss: 0.0019\n",
            "Epoch 44/100\n",
            "38/38 [==============================] - 22s 576ms/step - loss: 0.0019\n",
            "Epoch 45/100\n",
            "38/38 [==============================] - 21s 539ms/step - loss: 0.0022\n",
            "Epoch 46/100\n",
            "38/38 [==============================] - 20s 535ms/step - loss: 0.0017\n",
            "Epoch 47/100\n",
            "38/38 [==============================] - 20s 534ms/step - loss: 0.0018\n",
            "Epoch 48/100\n",
            "38/38 [==============================] - 21s 542ms/step - loss: 0.0019\n",
            "Epoch 49/100\n",
            "38/38 [==============================] - 20s 539ms/step - loss: 0.0016\n",
            "Epoch 50/100\n",
            "38/38 [==============================] - 20s 537ms/step - loss: 0.0017\n",
            "Epoch 51/100\n",
            "38/38 [==============================] - 20s 540ms/step - loss: 0.0019\n",
            "Epoch 52/100\n",
            "38/38 [==============================] - 21s 558ms/step - loss: 0.0022\n",
            "Epoch 53/100\n",
            "38/38 [==============================] - 20s 530ms/step - loss: 0.0018\n",
            "Epoch 54/100\n",
            "38/38 [==============================] - 21s 541ms/step - loss: 0.0017\n",
            "Epoch 55/100\n",
            "38/38 [==============================] - 20s 536ms/step - loss: 0.0020\n",
            "Epoch 56/100\n",
            "38/38 [==============================] - 20s 530ms/step - loss: 0.0018\n",
            "Epoch 57/100\n",
            "38/38 [==============================] - 20s 539ms/step - loss: 0.0019\n",
            "Epoch 58/100\n",
            "38/38 [==============================] - 20s 534ms/step - loss: 0.0016\n",
            "Epoch 59/100\n",
            "38/38 [==============================] - 20s 536ms/step - loss: 0.0019\n",
            "Epoch 60/100\n",
            "38/38 [==============================] - 21s 541ms/step - loss: 0.0019\n",
            "Epoch 61/100\n",
            "38/38 [==============================] - 21s 539ms/step - loss: 0.0019\n",
            "Epoch 62/100\n",
            "38/38 [==============================] - 21s 551ms/step - loss: 0.0018\n",
            "Epoch 63/100\n",
            "38/38 [==============================] - 20s 536ms/step - loss: 0.0017\n",
            "Epoch 64/100\n",
            "38/38 [==============================] - 20s 533ms/step - loss: 0.0019\n",
            "Epoch 65/100\n",
            "38/38 [==============================] - 20s 534ms/step - loss: 0.0019\n",
            "Epoch 66/100\n",
            "38/38 [==============================] - 20s 532ms/step - loss: 0.0017\n",
            "Epoch 67/100\n",
            "38/38 [==============================] - 20s 527ms/step - loss: 0.0019\n",
            "Epoch 68/100\n",
            "38/38 [==============================] - 20s 536ms/step - loss: 0.0016\n",
            "Epoch 69/100\n",
            "38/38 [==============================] - 21s 545ms/step - loss: 0.0015\n",
            "Epoch 70/100\n",
            "38/38 [==============================] - 20s 531ms/step - loss: 0.0016\n",
            "Epoch 71/100\n",
            "38/38 [==============================] - 20s 538ms/step - loss: 0.0017\n",
            "Epoch 72/100\n",
            "38/38 [==============================] - 20s 534ms/step - loss: 0.0017\n",
            "Epoch 73/100\n",
            "38/38 [==============================] - 20s 534ms/step - loss: 0.0015\n",
            "Epoch 74/100\n",
            "38/38 [==============================] - 20s 531ms/step - loss: 0.0015\n",
            "Epoch 75/100\n",
            "38/38 [==============================] - 20s 537ms/step - loss: 0.0015\n",
            "Epoch 76/100\n",
            "38/38 [==============================] - 21s 548ms/step - loss: 0.0018\n",
            "Epoch 77/100\n",
            "38/38 [==============================] - 21s 547ms/step - loss: 0.0016\n",
            "Epoch 78/100\n",
            "38/38 [==============================] - 20s 534ms/step - loss: 0.0016\n",
            "Epoch 79/100\n",
            "38/38 [==============================] - 20s 532ms/step - loss: 0.0016\n",
            "Epoch 80/100\n",
            "38/38 [==============================] - 20s 537ms/step - loss: 0.0015\n",
            "Epoch 81/100\n",
            "38/38 [==============================] - 20s 534ms/step - loss: 0.0015\n",
            "Epoch 82/100\n",
            "38/38 [==============================] - 21s 547ms/step - loss: 0.0013\n",
            "Epoch 83/100\n",
            "38/38 [==============================] - 21s 542ms/step - loss: 0.0014\n",
            "Epoch 84/100\n",
            "38/38 [==============================] - 20s 533ms/step - loss: 0.0016\n",
            "Epoch 85/100\n",
            "38/38 [==============================] - 20s 531ms/step - loss: 0.0018\n",
            "Epoch 86/100\n",
            "38/38 [==============================] - 21s 551ms/step - loss: 0.0018\n",
            "Epoch 87/100\n",
            "38/38 [==============================] - 20s 536ms/step - loss: 0.0015\n",
            "Epoch 88/100\n",
            "38/38 [==============================] - 20s 523ms/step - loss: 0.0015\n",
            "Epoch 89/100\n",
            "38/38 [==============================] - 20s 532ms/step - loss: 0.0014\n",
            "Epoch 90/100\n",
            "38/38 [==============================] - 20s 532ms/step - loss: 0.0014\n",
            "Epoch 91/100\n",
            "38/38 [==============================] - 21s 541ms/step - loss: 0.0016\n",
            "Epoch 92/100\n",
            "38/38 [==============================] - 21s 542ms/step - loss: 0.0013\n",
            "Epoch 93/100\n",
            "38/38 [==============================] - 21s 541ms/step - loss: 0.0015\n",
            "Epoch 94/100\n",
            "38/38 [==============================] - 21s 543ms/step - loss: 0.0013\n",
            "Epoch 95/100\n",
            "38/38 [==============================] - 20s 533ms/step - loss: 0.0015\n",
            "Epoch 96/100\n",
            "38/38 [==============================] - 20s 536ms/step - loss: 0.0015\n",
            "Epoch 97/100\n",
            "38/38 [==============================] - 20s 539ms/step - loss: 0.0017\n",
            "Epoch 98/100\n",
            "38/38 [==============================] - 20s 534ms/step - loss: 0.0015\n",
            "Epoch 99/100\n",
            "38/38 [==============================] - 20s 538ms/step - loss: 0.0014\n",
            "Epoch 100/100\n",
            "38/38 [==============================] - 21s 541ms/step - loss: 0.0013\n"
          ]
        },
        {
          "output_type": "execute_result",
          "data": {
            "text/plain": [
              "<keras.callbacks.History at 0x7f511432a150>"
            ]
          },
          "metadata": {},
          "execution_count": 21
        }
      ]
    },
    {
      "cell_type": "code",
      "source": [
        "# getting the real stock prices of the month April to May\n",
        "test_data = pd.read_csv(\"/content/GOOG_test.csv\")"
      ],
      "metadata": {
        "id": "kyzzvEMd2fDW"
      },
      "execution_count": 22,
      "outputs": []
    },
    {
      "cell_type": "code",
      "source": [
        "test_data.shape"
      ],
      "metadata": {
        "colab": {
          "base_uri": "https://localhost:8080/"
        },
        "id": "NqZLoWOx-k8i",
        "outputId": "0100ad88-da4b-4a05-e0f4-f2ff4d70d001"
      },
      "execution_count": 23,
      "outputs": [
        {
          "output_type": "execute_result",
          "data": {
            "text/plain": [
              "(21, 7)"
            ]
          },
          "metadata": {},
          "execution_count": 23
        }
      ]
    },
    {
      "cell_type": "code",
      "source": [
        "test_data.info()"
      ],
      "metadata": {
        "colab": {
          "base_uri": "https://localhost:8080/"
        },
        "id": "N0obIZIH-mQl",
        "outputId": "548d0178-67c2-40a3-ed55-856f76ef6d97"
      },
      "execution_count": 24,
      "outputs": [
        {
          "output_type": "stream",
          "name": "stdout",
          "text": [
            "<class 'pandas.core.frame.DataFrame'>\n",
            "RangeIndex: 21 entries, 0 to 20\n",
            "Data columns (total 7 columns):\n",
            " #   Column     Non-Null Count  Dtype  \n",
            "---  ------     --------------  -----  \n",
            " 0   Date       21 non-null     object \n",
            " 1   Open       21 non-null     float64\n",
            " 2   High       21 non-null     float64\n",
            " 3   Low        21 non-null     float64\n",
            " 4   Close      21 non-null     float64\n",
            " 5   Adj Close  21 non-null     float64\n",
            " 6   Volume     21 non-null     int64  \n",
            "dtypes: float64(5), int64(1), object(1)\n",
            "memory usage: 1.3+ KB\n"
          ]
        }
      ]
    },
    {
      "cell_type": "code",
      "source": [
        "real_stock_price = test_data.iloc[:,1:2].values"
      ],
      "metadata": {
        "id": "PSJcL_JX-pFW"
      },
      "execution_count": 25,
      "outputs": []
    },
    {
      "cell_type": "code",
      "source": [
        "real_stock_price"
      ],
      "metadata": {
        "colab": {
          "base_uri": "https://localhost:8080/"
        },
        "id": "12m7dWOb-zKI",
        "outputId": "3a3f6d39-bd68-4aad-f1f4-ceca7f183ea2"
      },
      "execution_count": 26,
      "outputs": [
        {
          "output_type": "execute_result",
          "data": {
            "text/plain": [
              "array([[2351.560059],\n",
              "       [2278.129883],\n",
              "       [2335.300049],\n",
              "       [2360.070068],\n",
              "       [2404.409912],\n",
              "       [2310.379883],\n",
              "       [2266.070068],\n",
              "       [2320.810059],\n",
              "       [2274.209961],\n",
              "       [2238.76001 ],\n",
              "       [2296.909912],\n",
              "       [2307.679932],\n",
              "       [2344.550049],\n",
              "       [2304.75    ],\n",
              "       [2236.820068],\n",
              "       [2241.709961],\n",
              "       [2202.080078],\n",
              "       [2127.550049],\n",
              "       [2102.840088],\n",
              "       [2121.01001 ],\n",
              "       [2195.77002 ]])"
            ]
          },
          "metadata": {},
          "execution_count": 26
        }
      ]
    },
    {
      "cell_type": "code",
      "source": [
        "real_stock_price.shape"
      ],
      "metadata": {
        "colab": {
          "base_uri": "https://localhost:8080/"
        },
        "id": "Ugkba454-26T",
        "outputId": "ad2842d9-497b-4f4e-9d77-08e1bab6b469"
      },
      "execution_count": 27,
      "outputs": [
        {
          "output_type": "execute_result",
          "data": {
            "text/plain": [
              "(21, 1)"
            ]
          },
          "metadata": {},
          "execution_count": 27
        }
      ]
    },
    {
      "cell_type": "code",
      "source": [
        "# Getting predicted stock prices\n",
        "# concatenation\n",
        "dataset_total = pd.concat((training_data['Open'],test_data['Open']),axis=0)\n",
        "# stock prices of previous 60 days for each day\n",
        "inputs = dataset_total[len(dataset_total)-len(test_data)-60:].values\n",
        "# reshape (convert into numpy array)\n",
        "inputs = inputs.reshape(-1,1)\n",
        "# feature scaling \n",
        "inputs = sc.transform(inputs)\n",
        "# creating a test set\n",
        "\n",
        "x_test=[]\n",
        "for i in range(60,81):\n",
        "  x_test.append(inputs[i-60:i,0])\n",
        "# convert in numpy array\n",
        "x_test = np.array(x_test)\n",
        "# convert in 3D (required to process)\n",
        "x_test = np.reshape(x_test,(x_test.shape[0],x_test.shape[1],1))\n",
        "# getting predicted stock prices\n",
        "predicted_stock_price = model.predict(x_test)\n",
        "predicted_stock_price = sc.inverse_transform(predicted_stock_price)"
      ],
      "metadata": {
        "id": "Zvoh_diK-5S2"
      },
      "execution_count": 28,
      "outputs": []
    },
    {
      "cell_type": "code",
      "source": [
        "print(predicted_stock_price[1]),print(real_stock_price[1])"
      ],
      "metadata": {
        "colab": {
          "base_uri": "https://localhost:8080/"
        },
        "id": "eCq8QwzI_awJ",
        "outputId": "6056521c-a054-4c82-f2a0-92ca9d363cc8"
      },
      "execution_count": 29,
      "outputs": [
        {
          "output_type": "stream",
          "name": "stdout",
          "text": [
            "[2628.6553]\n",
            "[2278.129883]\n"
          ]
        },
        {
          "output_type": "execute_result",
          "data": {
            "text/plain": [
              "(None, None)"
            ]
          },
          "metadata": {},
          "execution_count": 29
        }
      ]
    },
    {
      "cell_type": "code",
      "source": [
        "# Visualizing the results\n",
        "plt.plot(real_stock_price,color=\"red\",label=\"Real Google Stock Price\")\n",
        "plt.plot(predicted_stock_price,color=\"blue\",label=\"Predicted Google Stock Price\")\n",
        "plt.title('Google Stock Price Prediction')\n",
        "plt.xlabel(\"Time\")\n",
        "plt.ylabel(\"Google Stock Price\")\n",
        "plt.legend()\n",
        "plt.show()"
      ],
      "metadata": {
        "colab": {
          "base_uri": "https://localhost:8080/",
          "height": 295
        },
        "id": "Xd4Jc1pXBJ1x",
        "outputId": "3e31a6e5-180d-44e1-83c0-d324ea96ab6b"
      },
      "execution_count": 31,
      "outputs": [
        {
          "output_type": "display_data",
          "data": {
            "text/plain": [
              "<Figure size 432x288 with 1 Axes>"
            ],
            "image/png": "[encoded data removed]"
          },
          "metadata": {
            "needs_background": "light"
          }
        }
      ]
    },
    {
      "cell_type": "code",
      "source": [
        ""
      ],
      "metadata": {
        "id": "Kk1hQDNdL0ad"
      },
      "execution_count": null,
      "outputs": []
    }
  ]
}
