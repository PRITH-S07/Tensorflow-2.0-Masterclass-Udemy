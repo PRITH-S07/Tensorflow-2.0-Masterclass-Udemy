{
  "nbformat": 4,
  "nbformat_minor": 0,
  "metadata": {
    "colab": {
      "name": "Image_Classification.ipynb",
      "provenance": []
    },
    "kernelspec": {
      "name": "python3",
      "display_name": "Python 3"
    },
    "language_info": {
      "name": "python"
    },
    "accelerator": "GPU"
  },
  "cells": [
    {
      "cell_type": "code",
      "execution_count": 1,
      "metadata": {
        "id": "Wt7ZVGY8lylL"
      },
      "outputs": [],
      "source": [
        "#!pip install tensorflow-gpu"
      ]
    },
    {
      "cell_type": "code",
      "source": [
        "import tensorflow as tf\n",
        "print(tf.__version__)"
      ],
      "metadata": {
        "colab": {
          "base_uri": "https://localhost:8080/"
        },
        "id": "4L3ksqoUmUHW",
        "outputId": "3f468aac-dc6e-45ce-a8fa-45a5b9003d64"
      },
      "execution_count": 2,
      "outputs": [
        {
          "output_type": "stream",
          "name": "stdout",
          "text": [
            "2.8.0\n"
          ]
        }
      ]
    },
    {
      "cell_type": "code",
      "source": [
        "import pandas as pd\n",
        "import numpy as np\n",
        "import matplotlib.pyplot as plt"
      ],
      "metadata": {
        "id": "Vq_KlzcJmXCH"
      },
      "execution_count": 3,
      "outputs": []
    },
    {
      "cell_type": "code",
      "source": [
        "from tensorflow.keras.datasets import mnist\n",
        "(x_train,y_train),(x_test,y_test) = mnist.load_data()"
      ],
      "metadata": {
        "colab": {
          "base_uri": "https://localhost:8080/"
        },
        "id": "zhFmTi81mbIS",
        "outputId": "5bb15a6d-40df-4098-fd06-72667ef18d55"
      },
      "execution_count": 4,
      "outputs": [
        {
          "output_type": "stream",
          "name": "stdout",
          "text": [
            "Downloading data from https://storage.googleapis.com/tensorflow/tf-keras-datasets/mnist.npz\n",
            "11493376/11490434 [==============================] - 0s 0us/step\n",
            "11501568/11490434 [==============================] - 0s 0us/step\n"
          ]
        }
      ]
    },
    {
      "cell_type": "code",
      "source": [
        "x_train.shape,x_test.shape"
      ],
      "metadata": {
        "colab": {
          "base_uri": "https://localhost:8080/"
        },
        "id": "yF195FLLmxXw",
        "outputId": "d56af3cf-53a6-4604-edec-3c951ffbcff9"
      },
      "execution_count": 5,
      "outputs": [
        {
          "output_type": "execute_result",
          "data": {
            "text/plain": [
              "((60000, 28, 28), (10000, 28, 28))"
            ]
          },
          "metadata": {},
          "execution_count": 5
        }
      ]
    },
    {
      "cell_type": "code",
      "source": [
        "y_train.shape,y_test.shape"
      ],
      "metadata": {
        "colab": {
          "base_uri": "https://localhost:8080/"
        },
        "id": "FOgXy0gXm5vK",
        "outputId": "c27d977f-985c-442e-85ca-5610ab140e7a"
      },
      "execution_count": 6,
      "outputs": [
        {
          "output_type": "execute_result",
          "data": {
            "text/plain": [
              "((60000,), (10000,))"
            ]
          },
          "metadata": {},
          "execution_count": 6
        }
      ]
    },
    {
      "cell_type": "code",
      "source": [
        "x_train.min(),x_train.max()"
      ],
      "metadata": {
        "colab": {
          "base_uri": "https://localhost:8080/"
        },
        "id": "l2pUABaDm7Cq",
        "outputId": "45473ee0-0e12-457a-b707-ff518ae2b5f7"
      },
      "execution_count": 7,
      "outputs": [
        {
          "output_type": "execute_result",
          "data": {
            "text/plain": [
              "(0, 255)"
            ]
          },
          "metadata": {},
          "execution_count": 7
        }
      ]
    },
    {
      "cell_type": "code",
      "source": [
        "y_train.min(),y_train.max()"
      ],
      "metadata": {
        "colab": {
          "base_uri": "https://localhost:8080/"
        },
        "id": "sA494eSlnAzO",
        "outputId": "9c59c0bc-ce51-4072-ea9a-c37eb5f6cd78"
      },
      "execution_count": 8,
      "outputs": [
        {
          "output_type": "execute_result",
          "data": {
            "text/plain": [
              "(0, 9)"
            ]
          },
          "metadata": {},
          "execution_count": 8
        }
      ]
    },
    {
      "cell_type": "code",
      "source": [
        "# normalize the dataset\n",
        "x_train = x_train/255.0\n",
        "x_test = x_test/255.0"
      ],
      "metadata": {
        "id": "s0lCCsprnFiJ"
      },
      "execution_count": 9,
      "outputs": []
    },
    {
      "cell_type": "code",
      "source": [
        "x_train.min(),x_train.max()"
      ],
      "metadata": {
        "colab": {
          "base_uri": "https://localhost:8080/"
        },
        "id": "EEi1CrBvnNx9",
        "outputId": "8e5323b4-38e8-4c4d-d555-0d592f74a3d6"
      },
      "execution_count": 10,
      "outputs": [
        {
          "output_type": "execute_result",
          "data": {
            "text/plain": [
              "(0.0, 1.0)"
            ]
          },
          "metadata": {},
          "execution_count": 10
        }
      ]
    },
    {
      "cell_type": "code",
      "source": [
        "plt.imshow(x_train[5])"
      ],
      "metadata": {
        "colab": {
          "base_uri": "https://localhost:8080/",
          "height": 282
        },
        "id": "a-zcBx4gnQqi",
        "outputId": "57de4040-d2cd-454c-9e67-412296048922"
      },
      "execution_count": 11,
      "outputs": [
        {
          "output_type": "execute_result",
          "data": {
            "text/plain": [
              "<matplotlib.image.AxesImage at 0x7f8d3f5e0d50>"
            ]
          },
          "metadata": {},
          "execution_count": 11
        },
        {
          "output_type": "display_data",
          "data": {
            "text/plain": [
              "<Figure size 432x288 with 1 Axes>"
            ],
            "image/png": "[encoded data removed]"
          },
          "metadata": {
            "needs_background": "light"
          }
        }
      ]
    },
    {
      "cell_type": "code",
      "source": [
        "y_train[5]"
      ],
      "metadata": {
        "colab": {
          "base_uri": "https://localhost:8080/"
        },
        "id": "lrpmdnNPnUCC",
        "outputId": "d3c2b1f9-4e68-4040-a714-67189334a7bb"
      },
      "execution_count": 12,
      "outputs": [
        {
          "output_type": "execute_result",
          "data": {
            "text/plain": [
              "2"
            ]
          },
          "metadata": {},
          "execution_count": 12
        }
      ]
    },
    {
      "cell_type": "markdown",
      "source": [
        "## BUILDING THE LSTM"
      ],
      "metadata": {
        "id": "z9zpzn2xnjzU"
      }
    },
    {
      "cell_type": "code",
      "source": [
        "# define the object (initialize the RNN)\n",
        "model = tf.keras.models.Sequential()"
      ],
      "metadata": {
        "id": "Cvog4G62nXlw"
      },
      "execution_count": 16,
      "outputs": []
    },
    {
      "cell_type": "code",
      "source": [
        "# 1st LSTM layer\n",
        "model.add(tf.keras.layers.LSTM(units=128,activation=\"relu\",return_sequences=True,input_shape=(28,28)))\n",
        "# return sequences =True as one more LSTM layer after this. If dense layer after this, return sequences=False.\n",
        "# adding dropout layer\n",
        "model.add(tf.keras.layers.Dropout(0.2))\n",
        "# 2nd LSTM layer\n",
        "model.add(tf.keras.layers.LSTM(units=128,activation=\"relu\"))\n",
        "model.add(tf.keras.layers.Dropout(0.2))\n",
        "# fully connected layer (1st dense layer)\n",
        "model.add(tf.keras.layers.Dense(units=32,activation=\"relu\"))\n",
        "model.add(tf.keras.layers.Dropout(0.2))\n",
        "# output layer\n",
        "model.add(tf.keras.layers.Dense(10,activation=\"softmax\"))"
      ],
      "metadata": {
        "colab": {
          "base_uri": "https://localhost:8080/"
        },
        "id": "fVZ5OspXnqCb",
        "outputId": "84cd0054-ca58-46c1-9de6-9a58f860984d"
      },
      "execution_count": 17,
      "outputs": [
        {
          "output_type": "stream",
          "name": "stdout",
          "text": [
            "WARNING:tensorflow:Layer lstm_3 will not use cuDNN kernels since it doesn't meet the criteria. It will use a generic GPU kernel as fallback when running on GPU.\n",
            "WARNING:tensorflow:Layer lstm_4 will not use cuDNN kernels since it doesn't meet the criteria. It will use a generic GPU kernel as fallback when running on GPU.\n"
          ]
        }
      ]
    },
    {
      "cell_type": "code",
      "source": [
        "model.summary()"
      ],
      "metadata": {
        "colab": {
          "base_uri": "https://localhost:8080/"
        },
        "id": "G3O1f1vKoxRe",
        "outputId": "57742f90-a7c0-4d56-c521-b2d6eb9377aa"
      },
      "execution_count": 18,
      "outputs": [
        {
          "output_type": "stream",
          "name": "stdout",
          "text": [
            "Model: \"sequential_1\"\n",
            "_________________________________________________________________\n",
            " Layer (type)                Output Shape              Param #   \n",
            "=================================================================\n",
            " lstm_3 (LSTM)               (None, 28, 128)           80384     \n",
            "                                                                 \n",
            " dropout_2 (Dropout)         (None, 28, 128)           0         \n",
            "                                                                 \n",
            " lstm_4 (LSTM)               (None, 128)               131584    \n",
            "                                                                 \n",
            " dropout_3 (Dropout)         (None, 128)               0         \n",
            "                                                                 \n",
            " dense (Dense)               (None, 32)                4128      \n",
            "                                                                 \n",
            " dropout_4 (Dropout)         (None, 32)                0         \n",
            "                                                                 \n",
            " dense_1 (Dense)             (None, 10)                330       \n",
            "                                                                 \n",
            "=================================================================\n",
            "Total params: 216,426\n",
            "Trainable params: 216,426\n",
            "Non-trainable params: 0\n",
            "_________________________________________________________________\n"
          ]
        }
      ]
    },
    {
      "cell_type": "code",
      "source": [
        "opt = tf.keras.optimizers.Adam(learning_rate=0.001)"
      ],
      "metadata": {
        "id": "O2CMqU91o47a"
      },
      "execution_count": 19,
      "outputs": []
    },
    {
      "cell_type": "code",
      "source": [
        "model.compile(optimizer=opt,loss=\"sparse_categorical_crossentropy\",metrics=[\"accuracy\"])"
      ],
      "metadata": {
        "id": "BeRVNA4xpIv5"
      },
      "execution_count": 20,
      "outputs": []
    },
    {
      "cell_type": "code",
      "source": [
        "history = model.fit(x_train,y_train,epochs=10,validation_data=(x_test,y_test))"
      ],
      "metadata": {
        "colab": {
          "base_uri": "https://localhost:8080/"
        },
        "id": "CskfXag8pS0Z",
        "outputId": "18955ef1-d15e-444d-d2e5-7c84654a99a2"
      },
      "execution_count": 21,
      "outputs": [
        {
          "output_type": "stream",
          "name": "stdout",
          "text": [
            "Epoch 1/10\n",
            "1875/1875 [==============================] - 117s 60ms/step - loss: 0.5277 - accuracy: 0.8326 - val_loss: 0.1348 - val_accuracy: 0.9585\n",
            "Epoch 2/10\n",
            "1875/1875 [==============================] - 112s 60ms/step - loss: 0.1575 - accuracy: 0.9582 - val_loss: 0.0881 - val_accuracy: 0.9764\n",
            "Epoch 3/10\n",
            "1875/1875 [==============================] - 110s 58ms/step - loss: 0.1113 - accuracy: 0.9706 - val_loss: 0.0662 - val_accuracy: 0.9821\n",
            "Epoch 4/10\n",
            "1875/1875 [==============================] - 109s 58ms/step - loss: 0.0836 - accuracy: 0.9780 - val_loss: 0.0622 - val_accuracy: 0.9835\n",
            "Epoch 5/10\n",
            "1875/1875 [==============================] - 109s 58ms/step - loss: 0.0778 - accuracy: 0.9802 - val_loss: 0.0449 - val_accuracy: 0.9879\n",
            "Epoch 6/10\n",
            "1875/1875 [==============================] - 111s 59ms/step - loss: 0.0577 - accuracy: 0.9851 - val_loss: 0.0685 - val_accuracy: 0.9810\n",
            "Epoch 7/10\n",
            "1875/1875 [==============================] - 111s 59ms/step - loss: 0.0513 - accuracy: 0.9861 - val_loss: 0.0457 - val_accuracy: 0.9875\n",
            "Epoch 8/10\n",
            "1875/1875 [==============================] - 111s 59ms/step - loss: 0.0484 - accuracy: 0.9878 - val_loss: 0.0517 - val_accuracy: 0.9847\n",
            "Epoch 9/10\n",
            "1875/1875 [==============================] - 111s 59ms/step - loss: 0.0419 - accuracy: 0.9888 - val_loss: 0.0466 - val_accuracy: 0.9856\n",
            "Epoch 10/10\n",
            "1875/1875 [==============================] - 111s 59ms/step - loss: 0.0383 - accuracy: 0.9897 - val_loss: 0.0365 - val_accuracy: 0.9902\n"
          ]
        }
      ]
    },
    {
      "cell_type": "code",
      "source": [
        "# model predictions\n",
        "predict_x=model.predict(x_test) \n",
        "y_pred=np.argmax(predict_x,axis=1)"
      ],
      "metadata": {
        "id": "Iu1XY9QHpnyP"
      },
      "execution_count": 22,
      "outputs": []
    },
    {
      "cell_type": "code",
      "source": [
        "y_pred[7],y_test[7]"
      ],
      "metadata": {
        "colab": {
          "base_uri": "https://localhost:8080/"
        },
        "id": "_JwxgTUuwXgW",
        "outputId": "39e5e5ca-0bd8-4b54-e46a-17b474e3a84b"
      },
      "execution_count": 23,
      "outputs": [
        {
          "output_type": "execute_result",
          "data": {
            "text/plain": [
              "(9, 9)"
            ]
          },
          "metadata": {},
          "execution_count": 23
        }
      ]
    },
    {
      "cell_type": "code",
      "source": [
        "# confusion matrix\n",
        "from sklearn.metrics import confusion_matrix,accuracy_score\n",
        "cm = confusion_matrix(y_test,y_pred)\n",
        "print(cm)"
      ],
      "metadata": {
        "colab": {
          "base_uri": "https://localhost:8080/"
        },
        "id": "N-5poFDbwarA",
        "outputId": "030be67c-d8c5-4547-dbaa-75c896d2593d"
      },
      "execution_count": 24,
      "outputs": [
        {
          "output_type": "stream",
          "name": "stdout",
          "text": [
            "[[ 974    0    0    1    0    1    1    1    2    0]\n",
            " [   0 1133    1    0    0    0    0    1    0    0]\n",
            " [   2    2 1022    0    1    0    0    3    2    0]\n",
            " [   0    0    1  997    0    5    0    2    2    3]\n",
            " [   0    1    0    0  972    0    0    1    1    7]\n",
            " [   0    1    0    4    0  884    1    0    1    1]\n",
            " [   4    4    2    0    0    4  943    0    1    0]\n",
            " [   0    3    4    0    0    0    0 1013    0    8]\n",
            " [   1    0    1    0    0    1    1    1  968    1]\n",
            " [   0    0    0    0    6    0    0    4    3  996]]\n"
          ]
        }
      ]
    },
    {
      "cell_type": "code",
      "source": [
        "acc_cm = accuracy_score(y_test,y_pred)\n",
        "print(acc_cm)"
      ],
      "metadata": {
        "colab": {
          "base_uri": "https://localhost:8080/"
        },
        "id": "wb15_ozwwcg0",
        "outputId": "3716009e-587c-4c6f-f145-8c2fcae3df7d"
      },
      "execution_count": 25,
      "outputs": [
        {
          "output_type": "stream",
          "name": "stdout",
          "text": [
            "0.9902\n"
          ]
        }
      ]
    },
    {
      "cell_type": "code",
      "source": [
        "# Plotting the learning curve\n",
        "def learning_curve(history,epoch):\n",
        "  # training vs validation accuracy\n",
        "  epoch_range = range(1,epoch+1)\n",
        "  plt.plot(epoch_range,history.history['accuracy'])\n",
        "  plt.plot(epoch_range,history.history['val_accuracy'])\n",
        "  plt.title(\"Model Accuracy\")\n",
        "  plt.ylabel(\"Accuracy\")\n",
        "  plt.xlabel(\"Epoch\")\n",
        "  plt.legend(['Train','val'],loc='upper left')\n",
        "  plt.show()\n",
        "  # training vs validation loss\n",
        "  epoch_range = range(1,epoch+1)\n",
        "  plt.plot(epoch_range,history.history['loss'])\n",
        "  plt.plot(epoch_range,history.history['val_loss'])\n",
        "  plt.title(\"Model Loss\")\n",
        "  plt.ylabel(\"Loss\")\n",
        "  plt.xlabel(\"Epoch\")\n",
        "  plt.legend(['Train','val'],loc='upper left')\n",
        "  plt.show()"
      ],
      "metadata": {
        "id": "GELnSAd1wesO"
      },
      "execution_count": 28,
      "outputs": []
    },
    {
      "cell_type": "code",
      "source": [
        "learning_curve(history,10)"
      ],
      "metadata": {
        "colab": {
          "base_uri": "https://localhost:8080/",
          "height": 573
        },
        "id": "10uUuQcXwhI6",
        "outputId": "e47bc7aa-f278-4724-b8e2-2525caf9a1f8"
      },
      "execution_count": 29,
      "outputs": [
        {
          "output_type": "display_data",
          "data": {
            "text/plain": [
              "<Figure size 432x288 with 1 Axes>"
            ],
            "image/png": "[encoded data removed]"
          },
          "metadata": {
            "needs_background": "light"
          }
        },
        {
          "output_type": "display_data",
          "data": {
            "text/plain": [
              "<Figure size 432x288 with 1 Axes>"
            ],
            "image/png": "[encoded data removed]"
          },
          "metadata": {
            "needs_background": "light"
          }
        }
      ]
    },
    {
      "cell_type": "code",
      "source": [
        ""
      ],
      "metadata": {
        "id": "qAcDXEywwsTI"
      },
      "execution_count": null,
      "outputs": []
    }
  ]
}
